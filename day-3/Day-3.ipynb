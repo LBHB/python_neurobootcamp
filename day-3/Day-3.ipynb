{
 "cells": [
  {
   "cell_type": "markdown",
   "metadata": {},
   "source": [
    "# Using Pandas data frames to analyze single cell electrophysiology data\n",
    "\n",
    "<img src=\"http://www.zocalopublicsquare.org/wp-content/uploads/2016/12/Mathews-on-US-China.jpg\" width=\"300\" height=\"300\" />\n",
    "\n",
    "## Day 3 outline\n",
    "\n",
    "#### Background: \n",
    "Today we will analyze patch-clamp data from a single PV neuron in a mouse cortical slice. The experiment we will analyze was performed in current clamp. The experimenter injected 20 different square pulses of current and recorded the voltage response of the neuron to each pulse. Using the data from this experiment, we will create and F-I (frequency-current) curve.\n",
    "\n",
    "#### 3.0) [Import statements](#3.0-Import-statements)\n",
    "\n",
    "#### 3.1) [More on functions](#3.1-Functions)\n",
    "* Review from section 2.1 on day 2: what are functions, why are they useful, how to write them\n",
    "* More complicated excercise\n",
    "\n",
    "#### 3.2) [For-loops and if-else statements](#3.2-for-loops-and-if-else-statements)\n",
    "* An introduction to basic flow control in python using for-loops and if-else statements\n",
    "\n",
    "#### 3.3) [Load single cell electrophysiology data from csv file](#3.3-Load-single-cell-electrophysiology-data-from-.csv-file)\n",
    "* Inspect data using pandas\n",
    "* Visualize data with matplotlib\n",
    "\n",
    "\n",
    "#### 3.4) [Analyze a single sweep of electrophysiology data](#3.4-Analyze-a-single-sweep-of-electrophysiology-data)\n",
    "* Calculate the firing rate of the neuron during a single sweep of data\n",
    "\n",
    "#### 3.5) [Create an F-I (frequency - current) curve](#3.5-Create-an-F-I-curve-for-a-single-cell)\n",
    "* Write a function to calculate firing frequency during one sweep (3.4)\n",
    "* Employ function in a for-loop to perform the operation for all sweeps\n",
    "\n",
    "#### 3.6) [Extra exercises, if there's time](#3.6-Extra-exercises,-if-there's-time)\n",
    "* Calculate the input resistance of a cell\n",
    "* Extract spike cutouts\n",
    "    * Create a phase plot for a spike (rate of change of voltage vs. voltage)\n",
    "    \n",
    "#### 3.7) [Appendix](#Appendix)\n",
    "* Additional information about loading binary file formats"
   ]
  },
  {
   "cell_type": "markdown",
   "metadata": {},
   "source": [
    "# 3.0 Import statements"
   ]
  },
  {
   "cell_type": "code",
   "execution_count": 2,
   "metadata": {
    "collapsed": true
   },
   "outputs": [],
   "source": [
    "import os\n",
    "import numpy as np\n",
    "import matplotlib.pyplot as plt\n",
    "import pandas as pd\n",
    "import seaborn as sns\n",
    "import scipy.signal as ss\n",
    "from __future__ import absolute_import, division, print_function"
   ]
  },
  {
   "cell_type": "code",
   "execution_count": 3,
   "metadata": {
    "collapsed": true
   },
   "outputs": [],
   "source": [
    "## Note: the following line is only needed inside the \n",
    "## Jupyter notebook, it is not a Python statement\n",
    "%matplotlib inline"
   ]
  },
  {
   "cell_type": "markdown",
   "metadata": {},
   "source": [
    "## 3.1 Functions\n",
    "\n",
    "Often when you are writing code, you will find that there are certain operations that you want to perform repetitively, only, you want to change the parameters of the operation each time you run it. Functions are great for this. \n",
    "\n",
    "\n",
    "Taking the average of a list of numbers is a great, simple example. You can easily write the following line of code:"
   ]
  },
  {
   "cell_type": "code",
   "execution_count": null,
   "metadata": {
    "collapsed": true
   },
   "outputs": [],
   "source": [
    "my_numbers = [1,4,6,2]\n",
    "total = my_numbers[0]+my_numbers[1]+my_numbers[2]+my_numbers[3]\n",
    "average = total/4\n",
    "print(average)"
   ]
  },
  {
   "cell_type": "markdown",
   "metadata": {},
   "source": [
    "This works. But it's a pain in the butt. What if we have a new list, but this list has 5 entries instead of 4? Rather than copy and paste all the code above, add my_numbers[4], and change 4 to 5, we can write a function that performs the operation automatically for us."
   ]
  },
  {
   "cell_type": "code",
   "execution_count": null,
   "metadata": {
    "collapsed": true
   },
   "outputs": [],
   "source": [
    "def average_nums_in_list(my_l):\n",
    "    av = sum(my_l)/len(my_l)           # len and sum are built in python functions\n",
    "    return av\n",
    "\n",
    "my_new_list = [1,1,3,2,2,6,7,10,3]\n",
    "print(average_nums_in_list(my_numbers))\n",
    "print(average_nums_in_list(my_new_list))"
   ]
  },
  {
   "cell_type": "markdown",
   "metadata": {},
   "source": [
    "Now, every time I want the average of a list of numbers I just have to call \"average_nums_in_list\" and tell it the list of numbers.\n",
    "\n",
    "#### Note: \n",
    "* Inside this function, we use two other functions (`sum`, which sums the list, and `len`, which gives the length of a list). These are built in python functions. Notice how they help clean up the code in the cell above.\n"
   ]
  },
  {
   "cell_type": "markdown",
   "metadata": {},
   "source": [
    "This is a nice example of how functions can be helpful. However, simple things like taking a sum, finding the length of list, and even taking an average (see below and/or numpy documentation on `np.mean()` https://docs.scipy.org/doc/numpy-1.13.0/reference/generated/numpy.mean.html) are almost always already defined in python or in some other python module (ex: numpy)"
   ]
  },
  {
   "cell_type": "code",
   "execution_count": null,
   "metadata": {
    "collapsed": true
   },
   "outputs": [],
   "source": [
    "print(np.mean(my_numbers))    # using numpy.mean to compute the average\n",
    "print(np.mean(my_new_list))"
   ]
  },
  {
   "cell_type": "markdown",
   "metadata": {},
   "source": [
    "### Exercise 1\n",
    "We'll practice writing more of our own functions in a litte bit. For now, let's try using some built in python functions.\n",
    "* Use numpy.std and numpy.mean to calculate the standard deviation and mean of all columns in the given 2-D matrix (\"data_m\")\n",
    "    * https://docs.scipy.org/doc/numpy-1.13.0/reference/generated/numpy.mean.html\n",
    "    * https://docs.scipy.org/doc/numpy-1.13.0/reference/generated/numpy.std.html"
   ]
  },
  {
   "cell_type": "code",
   "execution_count": null,
   "metadata": {
    "collapsed": true
   },
   "outputs": [],
   "source": [
    "data_m = np.random.rand(100,10)    # intitalize data matrix\n",
    "print(data_m.shape)                # 100 rows X 10 columns"
   ]
  },
  {
   "cell_type": "code",
   "execution_count": null,
   "metadata": {
    "collapsed": true
   },
   "outputs": [],
   "source": [
    "# Compute the mean over the 10 columns and print this array of 10 values\n",
    "means = \n",
    "# Compute the standard deviation over the 10 columns and print this array\n",
    "stds = "
   ]
  },
  {
   "cell_type": "markdown",
   "metadata": {},
   "source": [
    "Bonus: Use matplotlib's bar plot to plot the means and standard deviations for the 10 columns\n",
    "* https://matplotlib.org/devdocs/api/_as_gen/matplotlib.pyplot.bar.html\n",
    "* Hint: What should 'x' look like if you have 10 columns? - This: https://docs.scipy.org/doc/numpy-1.13.0/reference/generated/numpy.arange.html  might help\n",
    "* Note: Recall from day-2 that seaborn/pandas can really be much better for this sort of thing. This exercise is just here to point out that matplolib exists too, and that there is always more than one way of doing things!"
   ]
  },
  {
   "cell_type": "code",
   "execution_count": null,
   "metadata": {
    "collapsed": true
   },
   "outputs": [],
   "source": [
    "plt.figure()\n",
    "plt.bar()      # fill in the correct arguments\n",
    "plt.show()"
   ]
  },
  {
   "cell_type": "markdown",
   "metadata": {},
   "source": [
    "* These are all good illustrations of how functions can work, and how we can use online documentation to use predefined function in the way we like. In practice, we often want to write a function that does something a little more complex and stereotyped to our analysis. We'll see more about this later, but for now some examples to think about:\n",
    "    * perform leak subtraction\n",
    "    * compute firing rate (more on this later)\n",
    "    * calcuate input resistance "
   ]
  },
  {
   "cell_type": "markdown",
   "metadata": {},
   "source": [
    "## 3.2 for-loops and if-else statements\n",
    "* for-loops are excellent when you want to iterate over all elements in some sort of data object (list, array, data frame etc.)\n",
    "* Within these loops, often we only want to perform an operation on the current element when a specific condition is met. For this, we use if-else statements.\n",
    "* The following examples are meant to walk through the basics of \"flow control\" in python by looping over all columns in the pandas data frame defined below:"
   ]
  },
  {
   "cell_type": "code",
   "execution_count": null,
   "metadata": {
    "collapsed": true
   },
   "outputs": [],
   "source": [
    "data = np.random.rand(100,10)\n",
    "cols = ['one','two','three','four','five','six','seven','eight','nine','ten']\n",
    "\n",
    "##convert our data into a data.frame and cacluate indices\n",
    "df = pd.DataFrame(columns = cols, index = np.arange(0,100,1), data = data)\n",
    "df.head(5)"
   ]
  },
  {
   "cell_type": "markdown",
   "metadata": {},
   "source": [
    "* First, we can write a loop that simply goes through all the column names in df and prints them out. Because `cols` is a list, we can *iterate* over it. What this means is that we can take each element of `cols` and do something with it. But how do we access that element? We say that our accessed element is called `c`, and we want to do something with `c`. In this case, we print out what c is.\n"
   ]
  },
  {
   "cell_type": "code",
   "execution_count": null,
   "metadata": {
    "collapsed": true
   },
   "outputs": [],
   "source": [
    "cols = df.columns # list of all column names in the df above\n",
    "\n",
    "for c in cols:\n",
    "    print(c)"
   ]
  },
  {
   "cell_type": "markdown",
   "metadata": {},
   "source": [
    "* Another way to achieve this is by iterating over an index. We can do this by using `np.arange`. "
   ]
  },
  {
   "cell_type": "code",
   "execution_count": null,
   "metadata": {
    "collapsed": true
   },
   "outputs": [],
   "source": [
    "np.arange(start=0, stop=10, step=1)"
   ]
  },
  {
   "cell_type": "code",
   "execution_count": null,
   "metadata": {
    "collapsed": true
   },
   "outputs": [],
   "source": [
    "for i in np.arange(start=0, stop=10, step=1):\n",
    "    print(cols[i])"
   ]
  },
  {
   "cell_type": "markdown",
   "metadata": {},
   "source": [
    "* Python also lets us combine both of the above examples using enumerate, which gives us an index and the content of that list. This can be really helpful when we want to do calculations over multiple lists in parallel."
   ]
  },
  {
   "cell_type": "code",
   "execution_count": null,
   "metadata": {
    "collapsed": true
   },
   "outputs": [],
   "source": [
    "for i, col in enumerate(cols):\n",
    "    print(i)\n",
    "    print(col)"
   ]
  },
  {
   "cell_type": "markdown",
   "metadata": {},
   "source": [
    "Great, we can loop through all the elements of an object (list of column names). Now, let's only perform the print operation for odd numbered columns. We can do this by using the `%` (mod) operator, which gives us the remainder of the operation x / y as an integer. `%` is a great way to do something every other turn."
   ]
  },
  {
   "cell_type": "code",
   "execution_count": null,
   "metadata": {
    "collapsed": true
   },
   "outputs": [],
   "source": [
    "for i, col in enumerate(cols):\n",
    "    if (i+1)%2==0:              # notice that i starts counting from 0, so we must add 1\n",
    "        pass\n",
    "    else:\n",
    "        print(col)"
   ]
  },
  {
   "cell_type": "markdown",
   "metadata": {},
   "source": [
    "### Exercise 2\n",
    "\n",
    "Use np.arange to achieve the same thing as the cell above except this time, don't use an if-else statement.\n",
    "Hint: think about how you can change step size to achieve the same task"
   ]
  },
  {
   "cell_type": "code",
   "execution_count": null,
   "metadata": {
    "collapsed": true
   },
   "outputs": [],
   "source": [
    "for     :\n",
    "    "
   ]
  },
  {
   "cell_type": "markdown",
   "metadata": {},
   "source": [
    "Now that we understand the basics of flow control and functions, let's try to combine the two to write a slightly more complex function.\n",
    "\n",
    "### Exercise 3\n",
    "\n",
    "Fill in the missing fields of the function below so that it returns the means and standard deviations of either the odd numbered columns, over even numbered columns, of \"df\", in dictionary format.\n",
    "\n",
    "* Optional arguments - As you might have noticed when looking through the documentation for numpy.mean and numpy.std, some functions take optional arguments (arguments that have default values but can be changed by the user if desired). Here we'll learn how to write a function this way.\n",
    "* Dictionaries - Recall your work from section 1.6 on day 1. Dictionary pair keys with a data object e.g. mydict['mean'] could return list of mean values and mydict['std'] could return list of standard deviation values"
   ]
  },
  {
   "cell_type": "code",
   "execution_count": null,
   "metadata": {
    "collapsed": true
   },
   "outputs": [],
   "source": [
    "def even_or_odd_stats(dataframe, cols='even'):   # note that the default value of columns is even\n",
    "    \n",
    "    mydict = {}             # intitalize an empty dictionary to store results\n",
    "    mydict['mean'] = []     # intialize empty list to store means\n",
    "    mydict['std'] = []      #intialize empty list to store stds\n",
    "    \n",
    "    columns = ___  # define list of columns from the df - what goes here?\n",
    "    \n",
    "    if cols=='even':\n",
    "        # this is where you should loop through all even columns\n",
    "        for ___ in ___ :\n",
    "            if :\n",
    "                mydict['mean'].append()\n",
    "                mydict['std'].append()\n",
    "            else:\n",
    "                pass\n",
    "            \n",
    "    elif cols=='odd':\n",
    "        # this is where you should loop through all odd columns\n",
    "        for ___ in ___ :\n",
    "            if :\n",
    "                mydict['mean'].append()\n",
    "                mydict['std'].append()\n",
    "            else:\n",
    "                pass\n",
    "            \n",
    "    return(mydict)     # return results\n",
    "\n",
    "\n",
    "# ==== Call the function ====\n",
    "even_or_odd_stats(df,cols='odd')   # can set cols to be 'odd' or 'even'"
   ]
  },
  {
   "cell_type": "markdown",
   "metadata": {},
   "source": [
    "## 3.3 Load single cell electrophysiology data from .csv file"
   ]
  },
  {
   "cell_type": "markdown",
   "metadata": {},
   "source": [
    "#### Set file path to day-2 of the python_neurobootcamp (review some concepts from Day 2 - section 2.1)\n",
    "* The 'path' is the list of directories that lead to your file. For example, if I saved something onto the desktop of my computer call \"test.py\", the path to this file is \"/home/charlie/Desktop/\" and the filename is \"test.py\"\n",
    "    * If you are unsure of the path to your files. You can check by using a file explorer to navigate to the file, right click on it, and view properites. The path should be listed here \n",
    "    * The separator (in this case it is a \"/\") will depend on your operating system: (\"/\" - Linux/mac, \"\\\" windows) \n",
    "* When loading data, it is nice to set one file path that leads to all your data files. Therefore, when you're saving data be conscientious of where you store your files.\n",
    "* IMPORTANT - Also be conscientious of how you name your files. This can be critical for writing robust, reliable scripts to analyze your data"
   ]
  },
  {
   "cell_type": "code",
   "execution_count": 4,
   "metadata": {
    "collapsed": false
   },
   "outputs": [
    {
     "data": {
      "text/plain": [
       "'/home/charlie/Desktop/python_bootcamp/python_neurobootcamp/day-3'"
      ]
     },
     "execution_count": 4,
     "metadata": {},
     "output_type": "execute_result"
    }
   ],
   "source": [
    "#print \"Current Working Directory (cwd)\"\n",
    "os.getcwd()"
   ]
  },
  {
   "cell_type": "markdown",
   "metadata": {},
   "source": [
    "The above command \"os.getcwd\" prints out what's called the working directory. This is where you \"are\" right now a.k.a the folder where the file you are working on lives. If your data also lives in the folder (like ours does today) you don't need to specificy the entire (or absolute) path to the files: path=\"/home/charlie/Desktop/python_bootcamp/python_neurobootcamp/day-3/csv_data/\". Instead, you can simply say: path= \"csv_data/\""
   ]
  },
  {
   "cell_type": "code",
   "execution_count": 5,
   "metadata": {
    "collapsed": true
   },
   "outputs": [],
   "source": [
    "path = 'csv_data/'"
   ]
  },
  {
   "cell_type": "markdown",
   "metadata": {},
   "source": [
    "#### The data:\n",
    "\n",
    "As those of you who do patch clamp know, e-phys data doesn't come nicely packaged into a simple spreadhsheet format. Therefore, we have written a function that converts axon binary files (.abf) into spreadheet format (.csv) for the purposes of this course. If you are interested in exactly how this process works, look into the file: `binary_file_loading_tools.py` in the `day-3` directory or see Appendix section at the bottom of this notebook. It's a little bit rough, but will help give you an idea of how you can convert binary files to spreadsheets. After completing this course, you should be able to modify this file on your own to suit your needs.\n",
    "\n",
    "A note on csv files: CSV = Comma-Separated Value file that stores tabular data (numbers and text) in plain text. You can save an excel spreadsheet in .csv and then import it in Python. Let's look at an example. (open up csv file from the day-3/csv_data folder in excel)"
   ]
  },
  {
   "cell_type": "markdown",
   "metadata": {},
   "source": [
    "#### Load spreadsheet data into pandas\n",
    "Note the use of index_col=0. Try to get ride of this and see what happens when you load based on default settings. For more information: https://pandas.pydata.org/pandas-docs/stable/generated/pandas.read_csv.html"
   ]
  },
  {
   "cell_type": "code",
   "execution_count": 6,
   "metadata": {
    "collapsed": true
   },
   "outputs": [],
   "source": [
    "meta = pd.read_csv(\"csv_data/meta_data_PV_3_10_03_2014.csv\", index_col=0)\n",
    "data = pd.read_csv(\"csv_data/data_PV_3_10_03_2014.csv\",index_col=0)"
   ]
  },
  {
   "cell_type": "code",
   "execution_count": 7,
   "metadata": {
    "collapsed": false
   },
   "outputs": [
    {
     "data": {
      "text/html": [
       "<div>\n",
       "<style scoped>\n",
       "    .dataframe tbody tr th:only-of-type {\n",
       "        vertical-align: middle;\n",
       "    }\n",
       "\n",
       "    .dataframe tbody tr th {\n",
       "        vertical-align: top;\n",
       "    }\n",
       "\n",
       "    .dataframe thead th {\n",
       "        text-align: right;\n",
       "    }\n",
       "</style>\n",
       "<table border=\"1\" class=\"dataframe\">\n",
       "  <thead>\n",
       "    <tr style=\"text-align: right;\">\n",
       "      <th></th>\n",
       "      <th>fs</th>\n",
       "      <th>celltype</th>\n",
       "      <th>date</th>\n",
       "      <th>ch1_units</th>\n",
       "      <th>ch2_units</th>\n",
       "    </tr>\n",
       "  </thead>\n",
       "  <tbody>\n",
       "    <tr>\n",
       "      <th>sweep1</th>\n",
       "      <td>100000.0</td>\n",
       "      <td>PV</td>\n",
       "      <td>10_03_2014</td>\n",
       "      <td>mV</td>\n",
       "      <td>pA</td>\n",
       "    </tr>\n",
       "    <tr>\n",
       "      <th>sweep2</th>\n",
       "      <td>100000.0</td>\n",
       "      <td>PV</td>\n",
       "      <td>10_03_2014</td>\n",
       "      <td>mV</td>\n",
       "      <td>pA</td>\n",
       "    </tr>\n",
       "    <tr>\n",
       "      <th>sweep3</th>\n",
       "      <td>100000.0</td>\n",
       "      <td>PV</td>\n",
       "      <td>10_03_2014</td>\n",
       "      <td>mV</td>\n",
       "      <td>pA</td>\n",
       "    </tr>\n",
       "    <tr>\n",
       "      <th>sweep4</th>\n",
       "      <td>100000.0</td>\n",
       "      <td>PV</td>\n",
       "      <td>10_03_2014</td>\n",
       "      <td>mV</td>\n",
       "      <td>pA</td>\n",
       "    </tr>\n",
       "    <tr>\n",
       "      <th>sweep5</th>\n",
       "      <td>100000.0</td>\n",
       "      <td>PV</td>\n",
       "      <td>10_03_2014</td>\n",
       "      <td>mV</td>\n",
       "      <td>pA</td>\n",
       "    </tr>\n",
       "  </tbody>\n",
       "</table>\n",
       "</div>"
      ],
      "text/plain": [
       "              fs celltype        date ch1_units ch2_units\n",
       "sweep1  100000.0       PV  10_03_2014        mV        pA\n",
       "sweep2  100000.0       PV  10_03_2014        mV        pA\n",
       "sweep3  100000.0       PV  10_03_2014        mV        pA\n",
       "sweep4  100000.0       PV  10_03_2014        mV        pA\n",
       "sweep5  100000.0       PV  10_03_2014        mV        pA"
      ]
     },
     "execution_count": 7,
     "metadata": {},
     "output_type": "execute_result"
    }
   ],
   "source": [
    "meta.head()"
   ]
  },
  {
   "cell_type": "markdown",
   "metadata": {
    "collapsed": true
   },
   "source": [
    "Notice that in our meta data, we have information about the sampling rate (fs), cell type, date of recording, units for ch1 data, and units for ch2 data for each sweep in the binary file that we loaded. This information will become particulalrly useful for analyses where, for example, we want to group anlayses by cell type."
   ]
  },
  {
   "cell_type": "code",
   "execution_count": 8,
   "metadata": {
    "collapsed": false
   },
   "outputs": [
    {
     "data": {
      "text/html": [
       "<div>\n",
       "<style scoped>\n",
       "    .dataframe tbody tr th:only-of-type {\n",
       "        vertical-align: middle;\n",
       "    }\n",
       "\n",
       "    .dataframe tbody tr th {\n",
       "        vertical-align: top;\n",
       "    }\n",
       "\n",
       "    .dataframe thead th {\n",
       "        text-align: right;\n",
       "    }\n",
       "</style>\n",
       "<table border=\"1\" class=\"dataframe\">\n",
       "  <thead>\n",
       "    <tr style=\"text-align: right;\">\n",
       "      <th></th>\n",
       "      <th>ch1_sweep1</th>\n",
       "      <th>ch2_sweep1</th>\n",
       "      <th>ch1_sweep2</th>\n",
       "      <th>ch2_sweep2</th>\n",
       "      <th>ch1_sweep3</th>\n",
       "      <th>ch2_sweep3</th>\n",
       "      <th>ch1_sweep4</th>\n",
       "      <th>ch2_sweep4</th>\n",
       "      <th>ch1_sweep5</th>\n",
       "      <th>ch2_sweep5</th>\n",
       "      <th>...</th>\n",
       "      <th>ch1_sweep16</th>\n",
       "      <th>ch2_sweep16</th>\n",
       "      <th>ch1_sweep17</th>\n",
       "      <th>ch2_sweep17</th>\n",
       "      <th>ch1_sweep18</th>\n",
       "      <th>ch2_sweep18</th>\n",
       "      <th>ch1_sweep19</th>\n",
       "      <th>ch2_sweep19</th>\n",
       "      <th>ch1_sweep20</th>\n",
       "      <th>ch2_sweep20</th>\n",
       "    </tr>\n",
       "  </thead>\n",
       "  <tbody>\n",
       "    <tr>\n",
       "      <th>0.00000</th>\n",
       "      <td>-48.889160</td>\n",
       "      <td>0.0</td>\n",
       "      <td>-49.652100</td>\n",
       "      <td>0.0</td>\n",
       "      <td>-49.224854</td>\n",
       "      <td>0.0</td>\n",
       "      <td>-48.675537</td>\n",
       "      <td>0.0</td>\n",
       "      <td>-48.187256</td>\n",
       "      <td>0.0</td>\n",
       "      <td>...</td>\n",
       "      <td>-51.330566</td>\n",
       "      <td>0.0</td>\n",
       "      <td>-52.947998</td>\n",
       "      <td>0.0</td>\n",
       "      <td>-55.236816</td>\n",
       "      <td>0.0</td>\n",
       "      <td>-52.856445</td>\n",
       "      <td>0.0</td>\n",
       "      <td>-53.619385</td>\n",
       "      <td>0.0</td>\n",
       "    </tr>\n",
       "    <tr>\n",
       "      <th>0.00001</th>\n",
       "      <td>-49.011230</td>\n",
       "      <td>0.0</td>\n",
       "      <td>-49.926758</td>\n",
       "      <td>0.0</td>\n",
       "      <td>-49.194336</td>\n",
       "      <td>0.0</td>\n",
       "      <td>-48.583984</td>\n",
       "      <td>0.0</td>\n",
       "      <td>-47.912598</td>\n",
       "      <td>0.0</td>\n",
       "      <td>...</td>\n",
       "      <td>-51.300049</td>\n",
       "      <td>0.0</td>\n",
       "      <td>-52.947998</td>\n",
       "      <td>0.0</td>\n",
       "      <td>-55.206299</td>\n",
       "      <td>0.0</td>\n",
       "      <td>-52.917480</td>\n",
       "      <td>0.0</td>\n",
       "      <td>-53.466797</td>\n",
       "      <td>0.0</td>\n",
       "    </tr>\n",
       "    <tr>\n",
       "      <th>0.00002</th>\n",
       "      <td>-49.072266</td>\n",
       "      <td>0.0</td>\n",
       "      <td>-49.743652</td>\n",
       "      <td>0.0</td>\n",
       "      <td>-49.255371</td>\n",
       "      <td>0.0</td>\n",
       "      <td>-48.400879</td>\n",
       "      <td>0.0</td>\n",
       "      <td>-47.882080</td>\n",
       "      <td>0.0</td>\n",
       "      <td>...</td>\n",
       "      <td>-51.086426</td>\n",
       "      <td>0.0</td>\n",
       "      <td>-52.856445</td>\n",
       "      <td>0.0</td>\n",
       "      <td>-55.023193</td>\n",
       "      <td>0.0</td>\n",
       "      <td>-53.100586</td>\n",
       "      <td>0.0</td>\n",
       "      <td>-53.833008</td>\n",
       "      <td>0.0</td>\n",
       "    </tr>\n",
       "    <tr>\n",
       "      <th>0.00003</th>\n",
       "      <td>-48.980713</td>\n",
       "      <td>0.0</td>\n",
       "      <td>-49.682617</td>\n",
       "      <td>0.0</td>\n",
       "      <td>-49.163818</td>\n",
       "      <td>0.0</td>\n",
       "      <td>-48.492432</td>\n",
       "      <td>0.0</td>\n",
       "      <td>-48.095703</td>\n",
       "      <td>0.0</td>\n",
       "      <td>...</td>\n",
       "      <td>-50.994873</td>\n",
       "      <td>0.0</td>\n",
       "      <td>-52.917480</td>\n",
       "      <td>0.0</td>\n",
       "      <td>-55.023193</td>\n",
       "      <td>0.0</td>\n",
       "      <td>-52.917480</td>\n",
       "      <td>0.0</td>\n",
       "      <td>-53.833008</td>\n",
       "      <td>0.0</td>\n",
       "    </tr>\n",
       "    <tr>\n",
       "      <th>0.00004</th>\n",
       "      <td>-49.041748</td>\n",
       "      <td>0.0</td>\n",
       "      <td>-49.774170</td>\n",
       "      <td>0.0</td>\n",
       "      <td>-49.041748</td>\n",
       "      <td>0.0</td>\n",
       "      <td>-48.553467</td>\n",
       "      <td>0.0</td>\n",
       "      <td>-48.065186</td>\n",
       "      <td>0.0</td>\n",
       "      <td>...</td>\n",
       "      <td>-51.422119</td>\n",
       "      <td>0.0</td>\n",
       "      <td>-53.100586</td>\n",
       "      <td>0.0</td>\n",
       "      <td>-55.358887</td>\n",
       "      <td>0.0</td>\n",
       "      <td>-52.886963</td>\n",
       "      <td>0.0</td>\n",
       "      <td>-53.619385</td>\n",
       "      <td>0.0</td>\n",
       "    </tr>\n",
       "  </tbody>\n",
       "</table>\n",
       "<p>5 rows × 40 columns</p>\n",
       "</div>"
      ],
      "text/plain": [
       "         ch1_sweep1  ch2_sweep1  ch1_sweep2  ch2_sweep2  ch1_sweep3  \\\n",
       "0.00000  -48.889160         0.0  -49.652100         0.0  -49.224854   \n",
       "0.00001  -49.011230         0.0  -49.926758         0.0  -49.194336   \n",
       "0.00002  -49.072266         0.0  -49.743652         0.0  -49.255371   \n",
       "0.00003  -48.980713         0.0  -49.682617         0.0  -49.163818   \n",
       "0.00004  -49.041748         0.0  -49.774170         0.0  -49.041748   \n",
       "\n",
       "         ch2_sweep3  ch1_sweep4  ch2_sweep4  ch1_sweep5  ch2_sweep5  \\\n",
       "0.00000         0.0  -48.675537         0.0  -48.187256         0.0   \n",
       "0.00001         0.0  -48.583984         0.0  -47.912598         0.0   \n",
       "0.00002         0.0  -48.400879         0.0  -47.882080         0.0   \n",
       "0.00003         0.0  -48.492432         0.0  -48.095703         0.0   \n",
       "0.00004         0.0  -48.553467         0.0  -48.065186         0.0   \n",
       "\n",
       "            ...       ch1_sweep16  ch2_sweep16  ch1_sweep17  ch2_sweep17  \\\n",
       "0.00000     ...        -51.330566          0.0   -52.947998          0.0   \n",
       "0.00001     ...        -51.300049          0.0   -52.947998          0.0   \n",
       "0.00002     ...        -51.086426          0.0   -52.856445          0.0   \n",
       "0.00003     ...        -50.994873          0.0   -52.917480          0.0   \n",
       "0.00004     ...        -51.422119          0.0   -53.100586          0.0   \n",
       "\n",
       "         ch1_sweep18  ch2_sweep18  ch1_sweep19  ch2_sweep19  ch1_sweep20  \\\n",
       "0.00000   -55.236816          0.0   -52.856445          0.0   -53.619385   \n",
       "0.00001   -55.206299          0.0   -52.917480          0.0   -53.466797   \n",
       "0.00002   -55.023193          0.0   -53.100586          0.0   -53.833008   \n",
       "0.00003   -55.023193          0.0   -52.917480          0.0   -53.833008   \n",
       "0.00004   -55.358887          0.0   -52.886963          0.0   -53.619385   \n",
       "\n",
       "         ch2_sweep20  \n",
       "0.00000          0.0  \n",
       "0.00001          0.0  \n",
       "0.00002          0.0  \n",
       "0.00003          0.0  \n",
       "0.00004          0.0  \n",
       "\n",
       "[5 rows x 40 columns]"
      ]
     },
     "execution_count": 8,
     "metadata": {},
     "output_type": "execute_result"
    }
   ],
   "source": [
    "data.head()"
   ]
  },
  {
   "cell_type": "markdown",
   "metadata": {},
   "source": [
    "Though the channels aren't labeled, we can determine what each represents by the their units (pico-amps or milli-volts in this case) which we can get above (in meta data).\n",
    "\n",
    "Notice that data contains the time series for each channel on each sweep. The indexes here represent the time points that each value was acquired at."
   ]
  },
  {
   "cell_type": "code",
   "execution_count": 9,
   "metadata": {
    "collapsed": false
   },
   "outputs": [
    {
     "data": {
      "text/plain": [
       "(20, 5)"
      ]
     },
     "execution_count": 9,
     "metadata": {},
     "output_type": "execute_result"
    }
   ],
   "source": [
    "meta.shape"
   ]
  },
  {
   "cell_type": "code",
   "execution_count": 10,
   "metadata": {
    "collapsed": false
   },
   "outputs": [
    {
     "data": {
      "text/plain": [
       "(100000, 40)"
      ]
     },
     "execution_count": 10,
     "metadata": {},
     "output_type": "execute_result"
    }
   ],
   "source": [
    "data.shape"
   ]
  },
  {
   "cell_type": "markdown",
   "metadata": {},
   "source": [
    "### Visualization using matplotlib and seaborn\n",
    "\n",
    "* You learned a bit about seaborn yesterday. Matplotlib is another widely used plotting library in python. Everyone has their own preference for which they like to use. I will try to show examples of each here, though I will focus on matplotlib. You can decide for yourself which you prefer. \n",
    "\n",
    "Before we get into analysis, it's always a good idea to inspect your raw data to make sure you know what's there, and that it was loaded properly.\n",
    "\n",
    "First let's use Pandas built-in `filter()` function to assign all ch1 traces to a DataFrame called `voltage_traces` and all ch2 traces to a DataFrame called `current_traces`. For basics of filtering, refer back to section 2.9.\n",
    "\n",
    "Here we use regular expressions to filter the data. These can be very confusing at first, don't worry. But, they are very powerful and worth spending some time getting used to. For more information: https://docs.python.org/2/library/re.html"
   ]
  },
  {
   "cell_type": "code",
   "execution_count": 11,
   "metadata": {
    "collapsed": true
   },
   "outputs": [],
   "source": [
    "voltage_traces = data.filter(regex=\"ch1.\", axis=1)   # if you wanted to filter on rows instead of columns, use axis=0\n",
    "current_traces = data.filter(regex=\"ch2.\",axis=1)"
   ]
  },
  {
   "cell_type": "code",
   "execution_count": 12,
   "metadata": {
    "collapsed": true
   },
   "outputs": [],
   "source": [
    "## Set the index name\n",
    "voltage_traces.index.name = 'Time'\n",
    "current_traces.index.name = 'Time'"
   ]
  },
  {
   "cell_type": "code",
   "execution_count": 13,
   "metadata": {
    "collapsed": false
   },
   "outputs": [
    {
     "data": {
      "text/html": [
       "<div>\n",
       "<style scoped>\n",
       "    .dataframe tbody tr th:only-of-type {\n",
       "        vertical-align: middle;\n",
       "    }\n",
       "\n",
       "    .dataframe tbody tr th {\n",
       "        vertical-align: top;\n",
       "    }\n",
       "\n",
       "    .dataframe thead th {\n",
       "        text-align: right;\n",
       "    }\n",
       "</style>\n",
       "<table border=\"1\" class=\"dataframe\">\n",
       "  <thead>\n",
       "    <tr style=\"text-align: right;\">\n",
       "      <th></th>\n",
       "      <th>ch1_sweep1</th>\n",
       "      <th>ch1_sweep2</th>\n",
       "      <th>ch1_sweep3</th>\n",
       "      <th>ch1_sweep4</th>\n",
       "      <th>ch1_sweep5</th>\n",
       "      <th>ch1_sweep6</th>\n",
       "      <th>ch1_sweep7</th>\n",
       "      <th>ch1_sweep8</th>\n",
       "      <th>ch1_sweep9</th>\n",
       "      <th>ch1_sweep10</th>\n",
       "      <th>ch1_sweep11</th>\n",
       "      <th>ch1_sweep12</th>\n",
       "      <th>ch1_sweep13</th>\n",
       "      <th>ch1_sweep14</th>\n",
       "      <th>ch1_sweep15</th>\n",
       "      <th>ch1_sweep16</th>\n",
       "      <th>ch1_sweep17</th>\n",
       "      <th>ch1_sweep18</th>\n",
       "      <th>ch1_sweep19</th>\n",
       "      <th>ch1_sweep20</th>\n",
       "    </tr>\n",
       "    <tr>\n",
       "      <th>Time</th>\n",
       "      <th></th>\n",
       "      <th></th>\n",
       "      <th></th>\n",
       "      <th></th>\n",
       "      <th></th>\n",
       "      <th></th>\n",
       "      <th></th>\n",
       "      <th></th>\n",
       "      <th></th>\n",
       "      <th></th>\n",
       "      <th></th>\n",
       "      <th></th>\n",
       "      <th></th>\n",
       "      <th></th>\n",
       "      <th></th>\n",
       "      <th></th>\n",
       "      <th></th>\n",
       "      <th></th>\n",
       "      <th></th>\n",
       "      <th></th>\n",
       "    </tr>\n",
       "  </thead>\n",
       "  <tbody>\n",
       "    <tr>\n",
       "      <th>0.00000</th>\n",
       "      <td>-48.889160</td>\n",
       "      <td>-49.652100</td>\n",
       "      <td>-49.224854</td>\n",
       "      <td>-48.675537</td>\n",
       "      <td>-48.187256</td>\n",
       "      <td>-48.248291</td>\n",
       "      <td>-48.522949</td>\n",
       "      <td>-48.065186</td>\n",
       "      <td>-49.072266</td>\n",
       "      <td>-47.729492</td>\n",
       "      <td>-47.729492</td>\n",
       "      <td>-48.919678</td>\n",
       "      <td>-48.858643</td>\n",
       "      <td>-49.163818</td>\n",
       "      <td>-51.025391</td>\n",
       "      <td>-51.330566</td>\n",
       "      <td>-52.947998</td>\n",
       "      <td>-55.236816</td>\n",
       "      <td>-52.856445</td>\n",
       "      <td>-53.619385</td>\n",
       "    </tr>\n",
       "    <tr>\n",
       "      <th>0.00001</th>\n",
       "      <td>-49.011230</td>\n",
       "      <td>-49.926758</td>\n",
       "      <td>-49.194336</td>\n",
       "      <td>-48.583984</td>\n",
       "      <td>-47.912598</td>\n",
       "      <td>-47.973633</td>\n",
       "      <td>-48.461914</td>\n",
       "      <td>-48.095703</td>\n",
       "      <td>-48.767090</td>\n",
       "      <td>-47.851562</td>\n",
       "      <td>-47.790527</td>\n",
       "      <td>-48.828125</td>\n",
       "      <td>-48.736572</td>\n",
       "      <td>-48.980713</td>\n",
       "      <td>-51.147461</td>\n",
       "      <td>-51.300049</td>\n",
       "      <td>-52.947998</td>\n",
       "      <td>-55.206299</td>\n",
       "      <td>-52.917480</td>\n",
       "      <td>-53.466797</td>\n",
       "    </tr>\n",
       "    <tr>\n",
       "      <th>0.00002</th>\n",
       "      <td>-49.072266</td>\n",
       "      <td>-49.743652</td>\n",
       "      <td>-49.255371</td>\n",
       "      <td>-48.400879</td>\n",
       "      <td>-47.882080</td>\n",
       "      <td>-48.034668</td>\n",
       "      <td>-48.065186</td>\n",
       "      <td>-48.400879</td>\n",
       "      <td>-48.553467</td>\n",
       "      <td>-47.760010</td>\n",
       "      <td>-47.973633</td>\n",
       "      <td>-48.706055</td>\n",
       "      <td>-48.645020</td>\n",
       "      <td>-49.224854</td>\n",
       "      <td>-51.391602</td>\n",
       "      <td>-51.086426</td>\n",
       "      <td>-52.856445</td>\n",
       "      <td>-55.023193</td>\n",
       "      <td>-53.100586</td>\n",
       "      <td>-53.833008</td>\n",
       "    </tr>\n",
       "    <tr>\n",
       "      <th>0.00003</th>\n",
       "      <td>-48.980713</td>\n",
       "      <td>-49.682617</td>\n",
       "      <td>-49.163818</td>\n",
       "      <td>-48.492432</td>\n",
       "      <td>-48.095703</td>\n",
       "      <td>-48.187256</td>\n",
       "      <td>-48.187256</td>\n",
       "      <td>-48.400879</td>\n",
       "      <td>-48.828125</td>\n",
       "      <td>-47.515869</td>\n",
       "      <td>-47.912598</td>\n",
       "      <td>-49.072266</td>\n",
       "      <td>-49.072266</td>\n",
       "      <td>-49.224854</td>\n",
       "      <td>-51.239014</td>\n",
       "      <td>-50.994873</td>\n",
       "      <td>-52.917480</td>\n",
       "      <td>-55.023193</td>\n",
       "      <td>-52.917480</td>\n",
       "      <td>-53.833008</td>\n",
       "    </tr>\n",
       "    <tr>\n",
       "      <th>0.00004</th>\n",
       "      <td>-49.041748</td>\n",
       "      <td>-49.774170</td>\n",
       "      <td>-49.041748</td>\n",
       "      <td>-48.553467</td>\n",
       "      <td>-48.065186</td>\n",
       "      <td>-48.095703</td>\n",
       "      <td>-48.400879</td>\n",
       "      <td>-48.095703</td>\n",
       "      <td>-49.011230</td>\n",
       "      <td>-47.698975</td>\n",
       "      <td>-47.760010</td>\n",
       "      <td>-48.980713</td>\n",
       "      <td>-48.980713</td>\n",
       "      <td>-49.011230</td>\n",
       "      <td>-51.086426</td>\n",
       "      <td>-51.422119</td>\n",
       "      <td>-53.100586</td>\n",
       "      <td>-55.358887</td>\n",
       "      <td>-52.886963</td>\n",
       "      <td>-53.619385</td>\n",
       "    </tr>\n",
       "  </tbody>\n",
       "</table>\n",
       "</div>"
      ],
      "text/plain": [
       "         ch1_sweep1  ch1_sweep2  ch1_sweep3  ch1_sweep4  ch1_sweep5  \\\n",
       "Time                                                                  \n",
       "0.00000  -48.889160  -49.652100  -49.224854  -48.675537  -48.187256   \n",
       "0.00001  -49.011230  -49.926758  -49.194336  -48.583984  -47.912598   \n",
       "0.00002  -49.072266  -49.743652  -49.255371  -48.400879  -47.882080   \n",
       "0.00003  -48.980713  -49.682617  -49.163818  -48.492432  -48.095703   \n",
       "0.00004  -49.041748  -49.774170  -49.041748  -48.553467  -48.065186   \n",
       "\n",
       "         ch1_sweep6  ch1_sweep7  ch1_sweep8  ch1_sweep9  ch1_sweep10  \\\n",
       "Time                                                                   \n",
       "0.00000  -48.248291  -48.522949  -48.065186  -49.072266   -47.729492   \n",
       "0.00001  -47.973633  -48.461914  -48.095703  -48.767090   -47.851562   \n",
       "0.00002  -48.034668  -48.065186  -48.400879  -48.553467   -47.760010   \n",
       "0.00003  -48.187256  -48.187256  -48.400879  -48.828125   -47.515869   \n",
       "0.00004  -48.095703  -48.400879  -48.095703  -49.011230   -47.698975   \n",
       "\n",
       "         ch1_sweep11  ch1_sweep12  ch1_sweep13  ch1_sweep14  ch1_sweep15  \\\n",
       "Time                                                                       \n",
       "0.00000   -47.729492   -48.919678   -48.858643   -49.163818   -51.025391   \n",
       "0.00001   -47.790527   -48.828125   -48.736572   -48.980713   -51.147461   \n",
       "0.00002   -47.973633   -48.706055   -48.645020   -49.224854   -51.391602   \n",
       "0.00003   -47.912598   -49.072266   -49.072266   -49.224854   -51.239014   \n",
       "0.00004   -47.760010   -48.980713   -48.980713   -49.011230   -51.086426   \n",
       "\n",
       "         ch1_sweep16  ch1_sweep17  ch1_sweep18  ch1_sweep19  ch1_sweep20  \n",
       "Time                                                                      \n",
       "0.00000   -51.330566   -52.947998   -55.236816   -52.856445   -53.619385  \n",
       "0.00001   -51.300049   -52.947998   -55.206299   -52.917480   -53.466797  \n",
       "0.00002   -51.086426   -52.856445   -55.023193   -53.100586   -53.833008  \n",
       "0.00003   -50.994873   -52.917480   -55.023193   -52.917480   -53.833008  \n",
       "0.00004   -51.422119   -53.100586   -55.358887   -52.886963   -53.619385  "
      ]
     },
     "execution_count": 13,
     "metadata": {},
     "output_type": "execute_result"
    }
   ],
   "source": [
    "voltage_traces.head()"
   ]
  },
  {
   "cell_type": "markdown",
   "metadata": {},
   "source": [
    "#### Plot using matplotlib"
   ]
  },
  {
   "cell_type": "code",
   "execution_count": 14,
   "metadata": {
    "collapsed": false
   },
   "outputs": [
    {
     "data": {
      "image/png": "[encoded data removed]",
      "text/plain": [
       "<matplotlib.figure.Figure at 0x7f636fa67450>"
      ]
     },
     "metadata": {},
     "output_type": "display_data"
    }
   ],
   "source": [
    "fig, ax = plt.subplots(2,1,sharex=True)\n",
    "ax[0].plot(voltage_traces)\n",
    "ax[0].legend(voltage_traces,loc='upper right')\n",
    "ax[0].set_title('Voltage traces')\n",
    "ax[0].set_ylabel(meta['ch1_units'][0])\n",
    "ax[0].set_xlabel('Time (s)')\n",
    "\n",
    "ax[1].plot(current_traces)\n",
    "ax[1].legend(current_traces,loc='upper right')\n",
    "ax[1].set_title('Current traces')\n",
    "ax[1].set_xlabel('Time (s)')\n",
    "ax[1].set_ylabel(meta['ch2_units'][0])\n",
    "\n",
    "plt.tight_layout()\n",
    "plt.show()"
   ]
  },
  {
   "cell_type": "markdown",
   "metadata": {},
   "source": [
    "#### Plot using pandas\n",
    "* Pandas offers wrapper functions around matplotlib that make the above code a bit more concise. We'll use this (plotting with pandas) quite a bit in this notebook. Just note that what it's really doing is written out explicity  above. See here: https://pandas.pydata.org/pandas-docs/stable/visualization.html  for a little more explanation"
   ]
  },
  {
   "cell_type": "code",
   "execution_count": 15,
   "metadata": {
    "collapsed": false
   },
   "outputs": [
    {
     "data": {
      "image/png": "[encoded data removed]",
      "text/plain": [
       "<matplotlib.figure.Figure at 0x7f636d81acd0>"
      ]
     },
     "metadata": {},
     "output_type": "display_data"
    }
   ],
   "source": [
    "fig, ax = plt.subplots(2,1,sharex=True)\n",
    "voltage_traces.plot(title='Voltage Traces', ax=ax[0])    # calling plot (a matplotlib wrapper from pandas)\n",
    "current_traces.plot(title='Current Traces', ax=ax[1])\n",
    "## Position the legends\n",
    "ax[0].legend(loc='upper right')\n",
    "ax[1].legend(loc='upper right')\n",
    "## Set X and Y axis labels\n",
    "ax[0].set(ylabel=meta['ch1_units'][0])\n",
    "ax[1].set(ylabel=meta['ch2_units'][0], xlabel='Time (s)')\n",
    "plt.tight_layout();"
   ]
  },
  {
   "cell_type": "markdown",
   "metadata": {},
   "source": [
    "#### Plot using seaborn\n",
    "* Note that there are some slight tweaks you need to make to the data in this case in order to use seaborn, including downsampling the data (otherwise it takes A LONG time to run). Mostly for this reason, I'll stick with using matplotlib for the rest of today. Just be aware that you can also use seaborn if you prefer."
   ]
  },
  {
   "cell_type": "markdown",
   "metadata": {},
   "source": [
    "Reformat (melt) the data into \"long form\" from \"wide from\". This is a step that will be necessary with any data in wideform that you want to plot in this way."
   ]
  },
  {
   "cell_type": "code",
   "execution_count": 16,
   "metadata": {
    "collapsed": true
   },
   "outputs": [],
   "source": [
    "## Reformat the dataframe to work with a Seaborn time-series plot\n",
    "voltage_ts = voltage_traces.iloc[:,:5].copy()\n",
    "voltage_ts['Time'] = voltage_ts.index\n",
    "voltage_ts = pd.melt(voltage_ts, id_vars='Time', var_name='Sweep', value_name='mV')\n",
    "voltage_ts['Dummy'] = 0"
   ]
  },
  {
   "cell_type": "markdown",
   "metadata": {},
   "source": [
    "Downsample the data so that this runs faster. This is quirk for this type of data that is sampled at a very high sampling rate making seaborn run rather slowly."
   ]
  },
  {
   "cell_type": "code",
   "execution_count": 17,
   "metadata": {
    "collapsed": false
   },
   "outputs": [
    {
     "data": {
      "text/html": [
       "<div>\n",
       "<style scoped>\n",
       "    .dataframe tbody tr th:only-of-type {\n",
       "        vertical-align: middle;\n",
       "    }\n",
       "\n",
       "    .dataframe tbody tr th {\n",
       "        vertical-align: top;\n",
       "    }\n",
       "\n",
       "    .dataframe thead th {\n",
       "        text-align: right;\n",
       "    }\n",
       "</style>\n",
       "<table border=\"1\" class=\"dataframe\">\n",
       "  <thead>\n",
       "    <tr style=\"text-align: right;\">\n",
       "      <th></th>\n",
       "      <th>Time</th>\n",
       "      <th>Sweep</th>\n",
       "      <th>mV</th>\n",
       "      <th>Dummy</th>\n",
       "    </tr>\n",
       "  </thead>\n",
       "  <tbody>\n",
       "    <tr>\n",
       "      <th>0</th>\n",
       "      <td>0.0000</td>\n",
       "      <td>ch1_sweep1</td>\n",
       "      <td>-48.889160</td>\n",
       "      <td>0</td>\n",
       "    </tr>\n",
       "    <tr>\n",
       "      <th>50</th>\n",
       "      <td>0.0005</td>\n",
       "      <td>ch1_sweep1</td>\n",
       "      <td>-49.041748</td>\n",
       "      <td>0</td>\n",
       "    </tr>\n",
       "    <tr>\n",
       "      <th>100</th>\n",
       "      <td>0.0010</td>\n",
       "      <td>ch1_sweep1</td>\n",
       "      <td>-49.011230</td>\n",
       "      <td>0</td>\n",
       "    </tr>\n",
       "    <tr>\n",
       "      <th>150</th>\n",
       "      <td>0.0015</td>\n",
       "      <td>ch1_sweep1</td>\n",
       "      <td>-49.102783</td>\n",
       "      <td>0</td>\n",
       "    </tr>\n",
       "    <tr>\n",
       "      <th>200</th>\n",
       "      <td>0.0020</td>\n",
       "      <td>ch1_sweep1</td>\n",
       "      <td>-49.194336</td>\n",
       "      <td>0</td>\n",
       "    </tr>\n",
       "  </tbody>\n",
       "</table>\n",
       "</div>"
      ],
      "text/plain": [
       "       Time       Sweep         mV  Dummy\n",
       "0    0.0000  ch1_sweep1 -48.889160      0\n",
       "50   0.0005  ch1_sweep1 -49.041748      0\n",
       "100  0.0010  ch1_sweep1 -49.011230      0\n",
       "150  0.0015  ch1_sweep1 -49.102783      0\n",
       "200  0.0020  ch1_sweep1 -49.194336      0"
      ]
     },
     "execution_count": 17,
     "metadata": {},
     "output_type": "execute_result"
    }
   ],
   "source": [
    "## Downsample the data (take every 50th row)\n",
    "voltage_ts = voltage_ts.iloc[np.arange(500000)[::50],:]\n",
    "voltage_ts.head()"
   ]
  },
  {
   "cell_type": "markdown",
   "metadata": {},
   "source": [
    "Perform the same operations on the current trace data"
   ]
  },
  {
   "cell_type": "code",
   "execution_count": 18,
   "metadata": {
    "collapsed": true
   },
   "outputs": [],
   "source": [
    "## Do the same for the current traces\n",
    "## Reformat the dataframe to work with a Seaborn time-series plot\n",
    "current_ts = current_traces.iloc[:,:5].copy()\n",
    "current_ts['Time'] = current_ts.index\n",
    "current_ts = pd.melt(current_ts, id_vars='Time', var_name='Sweep', value_name='pA')\n",
    "current_ts['Dummy'] = 0\n",
    "## Downsample the data (take every 50th row)\n",
    "current_ts = current_ts.iloc[np.arange(500000)[::50],:]"
   ]
  },
  {
   "cell_type": "markdown",
   "metadata": {},
   "source": [
    "Now, plot the data using the seaborn function: tsplot (time-series plot): http://seaborn.pydata.org/generated/seaborn.tsplot.html\n",
    "* Note in particular the argument \"unit\". We must pass it something otherwise seaborn will run into issues when it tries to calculate confidence intervals for this data. Therefore we just pass a \"Dummy\" unit to make seaborn happy since we don't really care about the confidence interval in this case."
   ]
  },
  {
   "cell_type": "code",
   "execution_count": 19,
   "metadata": {
    "collapsed": false
   },
   "outputs": [
    {
     "data": {
      "image/png": "[encoded data removed]",
      "text/plain": [
       "<matplotlib.figure.Figure at 0x7f636daf4510>"
      ]
     },
     "metadata": {},
     "output_type": "display_data"
    }
   ],
   "source": [
    "# This will take a minute to load\n",
    "fig, ax = plt.subplots(2,1,sharex=True)\n",
    "sns.tsplot(data=voltage_ts, time='Time', condition='Sweep', unit='Dummy', value='mV', err_style=None, ax=ax[0])\n",
    "sns.tsplot(data=current_ts, time='Time', condition='Sweep', unit='Dummy', value='pA', err_style=None, ax=ax[1])\n",
    "# Position the legends\n",
    "ax[0].legend(loc='upper right')\n",
    "ax[1].legend(loc='upper right');"
   ]
  },
  {
   "cell_type": "markdown",
   "metadata": {},
   "source": [
    "This is pretty messy. Can we make it better?\n",
    "\n",
    "### Exercise 4\n",
    "\n",
    "* Try plotting only the last sweep of both current and voltage so that we can see what's going on more easily.\n",
    "* Use the code from above as a starting point for how to create your own plot. Ask a TA or instructor if you need help.\n",
    "\n",
    "First, let's find the column id for the last sweep using the \"tricks\" above (there are multiple ways to do this).\n",
    "* In python, we can use \"-1\" to grab the last index of something. This is equivalent to using \"end\" in matlab."
   ]
  },
  {
   "cell_type": "code",
   "execution_count": 20,
   "metadata": {
    "collapsed": false
   },
   "outputs": [
    {
     "name": "stdout",
     "output_type": "stream",
     "text": [
      "ch1_sweep20\n",
      "ch2_sweep20\n"
     ]
    }
   ],
   "source": [
    "lastSweep_voltage = voltage_traces.columns[-1]     \n",
    "lastSweep_current = current_traces.columns[-1]\n",
    "\n",
    "print(lastSweep_voltage)\n",
    "print(lastSweep_current)"
   ]
  },
  {
   "cell_type": "markdown",
   "metadata": {},
   "source": [
    "Now, use these  column id's to select only the columns containing data for the last sweep:"
   ]
  },
  {
   "cell_type": "code",
   "execution_count": 21,
   "metadata": {
    "collapsed": true
   },
   "outputs": [],
   "source": [
    "last_voltage = voltage_traces[lastSweep_voltage]\n",
    "last_current = current_traces[lastSweep_current]"
   ]
  },
  {
   "cell_type": "code",
   "execution_count": 22,
   "metadata": {
    "collapsed": false
   },
   "outputs": [
    {
     "data": {
      "image/png": "[encoded data removed]",
      "text/plain": [
       "<matplotlib.figure.Figure at 0x7f636d4c59d0>"
      ]
     },
     "metadata": {},
     "output_type": "display_data"
    }
   ],
   "source": [
    "## Plot with Pandas\n",
    "## Create a figure and plot first 5 voltage and current traces\n",
    "fig, ax = plt.subplots(2,1,sharex=True)\n",
    "last_voltage.plot(title='Voltage Traces', ax=ax[0])\n",
    "last_current.plot(title='Current Traces', ax=ax[1])\n",
    "## Position the legends\n",
    "ax[0].legend(loc='upper right')\n",
    "ax[1].legend(loc='upper right')\n",
    "## Set X and Y axis labels\n",
    "ax[0].set(ylabel=meta['ch1_units'][0])\n",
    "ax[1].set(ylabel=meta['ch2_units'][0], xlabel='Time (s)')\n",
    "plt.tight_layout();"
   ]
  },
  {
   "cell_type": "markdown",
   "metadata": {},
   "source": [
    "That looks better, but can we zoom in on some of the spikes in the voltage traces?\n",
    "\n",
    "### Exercise 5\n",
    "* Plot only time points from 0.02 to 0.10 seconds:"
   ]
  },
  {
   "cell_type": "code",
   "execution_count": 23,
   "metadata": {
    "collapsed": true
   },
   "outputs": [],
   "source": [
    "# define the range if indexes you want to select\n",
    "inds = data.index[(0.02 < data.index) & (data.index < 0.1)]"
   ]
  },
  {
   "cell_type": "code",
   "execution_count": 24,
   "metadata": {
    "collapsed": false
   },
   "outputs": [
    {
     "data": {
      "image/png": "[encoded data removed]",
      "text/plain": [
       "<matplotlib.figure.Figure at 0x7f636fa4ec50>"
      ]
     },
     "metadata": {},
     "output_type": "display_data"
    }
   ],
   "source": [
    "## Plot with Pandas\n",
    "## Create a figure and plot first 5 voltage and current traces\n",
    "fig, ax = plt.subplots(2,1,sharex=True)\n",
    "last_voltage[inds].plot(title='Voltage Traces', ax=ax[0])\n",
    "last_current[inds].plot(title='Current Traces', ax=ax[1])\n",
    "## Position the legends\n",
    "ax[0].legend(loc='upper right')\n",
    "ax[1].legend(loc='upper right')\n",
    "## Set X and Y axis labels\n",
    "ax[0].set(ylabel=meta['ch1_units'][0])\n",
    "ax[1].set(ylabel=meta['ch2_units'][0], xlabel='Time (s)')\n",
    "plt.tight_layout();"
   ]
  },
  {
   "cell_type": "markdown",
   "metadata": {},
   "source": [
    "## 3.4 Analyze a single sweep of electrophysiology data"
   ]
  },
  {
   "cell_type": "markdown",
   "metadata": {
    "collapsed": true
   },
   "source": [
    "A common way to show a neuron's response to input is to make a frequency-intensity curve (F-I curve).  The frequency of firing is plotted on the y-axis and the amplitude of the current injection that caused the spikes is plotted on the x-axis.  \n",
    "\n",
    "From looking at these F-I curves you can identify if the cell is transiently firing, whether the spike rate reaches a maximum at some high current step, the gain of firing (the slope of the line, in Hz/pA), etc.  To construct a F-I curve we need to first find the number of spikes per unit time in each sweep and the current injection that drove those spikes. Then plot it."
   ]
  },
  {
   "cell_type": "markdown",
   "metadata": {},
   "source": [
    "First, we will perform the analysis for just one sweep of data. Then, if there is time, we will define a function to help automate the process. We will run the function on all sweeps using a for-loop, and plot the results in a F-I curve.  \n",
    "\n",
    "Becasue we have already pulled out the last voltage trace, let's go ahead and analyze this time-series first."
   ]
  },
  {
   "cell_type": "markdown",
   "metadata": {},
   "source": [
    "The analysis will consist of a few key steps:\n",
    "* Step 1: Locate the time points of all spikes\n",
    "* Step 2: Find the time window and magnitude of current injection\n",
    "* Step 3: Calculate the firing rate\n",
    "\n",
    "#### Step 1: Locate the time points of all spikes\n",
    "* There are a couple of ways to do this. We will do it by locating the relative maxima of the voltage trace during the current injection\n",
    "* We will also set a threshold above which to detect maxima (to avoid counting local maxima in the baseline (noise) as a spikes)"
   ]
  },
  {
   "cell_type": "code",
   "execution_count": 25,
   "metadata": {
    "collapsed": true
   },
   "outputs": [],
   "source": [
    "threshold = -20  \n",
    "last_voltage_thresholded = last_voltage[last_voltage > threshold]  "
   ]
  },
  {
   "cell_type": "markdown",
   "metadata": {},
   "source": [
    "Let's take a look at what happened when we thresholded the voltage trace:"
   ]
  },
  {
   "cell_type": "code",
   "execution_count": 26,
   "metadata": {
    "collapsed": false
   },
   "outputs": [
    {
     "data": {
      "image/png": "[encoded data removed]",
      "text/plain": [
       "<matplotlib.figure.Figure at 0x7f636d19ae50>"
      ]
     },
     "metadata": {},
     "output_type": "display_data"
    }
   ],
   "source": [
    "## Plot with Pandas\n",
    "## Create a figure and plot first 5 voltage and current traces\n",
    "## Note: X-axis is different for each subplot\n",
    "fig, ax = plt.subplots(2,1)\n",
    "last_voltage_thresholded.plot(title='Thresholded Trace', ax=ax[0])\n",
    "last_voltage.plot(title='Raw Trace', ax=ax[1])\n",
    "## Position the legends\n",
    "ax[0].legend(loc='upper right')\n",
    "ax[1].legend(loc='upper right')\n",
    "## Set X and Y axis labels\n",
    "ax[0].set(ylabel=meta['ch1_units'][0], xlabel='Time (s)')\n",
    "ax[1].set(ylabel=meta['ch1_units'][0], xlabel='Time (s)')\n",
    "plt.tight_layout();"
   ]
  },
  {
   "cell_type": "markdown",
   "metadata": {},
   "source": [
    "Using a a threshold of -20, we have selected all the voltage points above -20 mV. In other words, these are all points during which an action potential was happening."
   ]
  },
  {
   "cell_type": "markdown",
   "metadata": {},
   "source": [
    "*Scipy*, another useful Python package, has a function that finds the indices where relative extrema occur: `argrelextrema`\n",
    "This function takes two required arguments: data and comparator (for details see [documentation](https://docs.scipy.org/doc/scipy-0.19.0/reference/generated/scipy.signal.argrelextrema.html)).\n",
    "\n",
    "* Note: `last_voltage_thresholded` is a Pandas DataFrame. `argrelextrema` expects data to be an Array, not a DataFrame.\n",
    "* Note: `argrelextrema` also takes an optional argument: \"order\" that specifies the amount of points on each size to use for the comparison."
   ]
  },
  {
   "cell_type": "code",
   "execution_count": 27,
   "metadata": {
    "collapsed": true
   },
   "outputs": [],
   "source": [
    "indexes_of_maxima = ss.argrelextrema(data=last_voltage_thresholded.values, comparator=np.greater, order=1)"
   ]
  },
  {
   "cell_type": "markdown",
   "metadata": {},
   "source": [
    "The Scipy function returns indexes i.e. 1,2 3... BUT we want the time points (which are stored in the index of our DataFrame)"
   ]
  },
  {
   "cell_type": "code",
   "execution_count": 28,
   "metadata": {
    "collapsed": true
   },
   "outputs": [],
   "source": [
    "spike_times = last_voltage_thresholded.index[indexes_of_maxima] "
   ]
  },
  {
   "cell_type": "markdown",
   "metadata": {},
   "source": [
    "It's possible that the voltage trace is a little noisy, even during a spike. This might cause a spike to be double counted by the Scipy function, which is only locating relative/local maxima. To fix these cases, we impose a constraint based on the refractory period of neuron."
   ]
  },
  {
   "cell_type": "code",
   "execution_count": 29,
   "metadata": {
    "collapsed": true
   },
   "outputs": [],
   "source": [
    "refractory_period_low_limit = 0.002  # 2ms is a lower limit on the refracotry period for a neuron"
   ]
  },
  {
   "cell_type": "markdown",
   "metadata": {},
   "source": [
    "Now, let's calculate the interspike intervals for all the maxima we located (using numpy's ediff1d function) and exclude any spikes that violate the refractory period.\n",
    "* np.ediff1d: Calculates the difference between all adjancent elements in a 1d array: https://docs.scipy.org/doc/numpy/reference/generated/numpy.ediff1d.html\n",
    "* np.arghwere: Locates the indexes where the given condition is met: https://docs.scipy.org/doc/numpy-1.13.0/reference/generated/numpy.argwhere.html"
   ]
  },
  {
   "cell_type": "code",
   "execution_count": 30,
   "metadata": {
    "collapsed": false
   },
   "outputs": [
    {
     "name": "stdout",
     "output_type": "stream",
     "text": [
      "Float64Index([0.0262702627026,  0.029940299403, 0.0327403274033,\n",
      "              0.0358303583036, 0.0388803888039, 0.0419104191042,\n",
      "              0.0450904509045, 0.0480104801048, 0.0513905139051,\n",
      "              0.0545705457055,\n",
      "              ...\n",
      "               0.481364813648,  0.485284852849,  0.489334893349,\n",
      "               0.493844938449,   0.49779497795,   0.50214502145,\n",
      "               0.506355063551,  0.510245102451,  0.514685146851,\n",
      "               0.522875228752],\n",
      "             dtype='float64', name=u'Time', length=134)\n"
     ]
    }
   ],
   "source": [
    "interspike_interval = np.ediff1d(spike_times)\n",
    "VIOLATION_indexes = np.argwhere(interspike_interval<refractory_period_low_limit)\n",
    "spike_times = spike_times.delete(VIOLATION_indexes)\n",
    "print(spike_times)"
   ]
  },
  {
   "cell_type": "markdown",
   "metadata": {},
   "source": [
    "We now have an array of time points where we think spikes occured. Let's plot them to see if we were successful"
   ]
  },
  {
   "cell_type": "code",
   "execution_count": 31,
   "metadata": {
    "collapsed": false
   },
   "outputs": [
    {
     "data": {
      "image/png": "[encoded data removed]",
      "text/plain": [
       "<matplotlib.figure.Figure at 0x7f636d26f1d0>"
      ]
     },
     "metadata": {},
     "output_type": "display_data"
    }
   ],
   "source": [
    "## Plot with Pandas\n",
    "ax = last_voltage.plot(title='Raw Trace')\n",
    "ax.set(ylabel=meta['ch1_units'][0], xlabel='Time (s)')\n",
    "ax.plot(spike_times, last_voltage[spike_times], \".\", markersize=20); # plot a point at each time point where a spike was detected"
   ]
  },
  {
   "cell_type": "code",
   "execution_count": 32,
   "metadata": {
    "collapsed": false
   },
   "outputs": [
    {
     "data": {
      "text/plain": [
       "[<matplotlib.lines.Line2D at 0x7f636d2acb50>]"
      ]
     },
     "execution_count": 32,
     "metadata": {},
     "output_type": "execute_result"
    },
    {
     "data": {
      "image/png": "[encoded data removed]",
      "text/plain": [
       "<matplotlib.figure.Figure at 0x7f636d164310>"
      ]
     },
     "metadata": {},
     "output_type": "display_data"
    }
   ],
   "source": [
    "plt.figure()\n",
    "plt.plot(last_voltage)\n",
    "plt.plot(spike_times, last_voltage[spike_times], \".\", markersize=20) # plot a point at each time point where a spike was detected"
   ]
  },
  {
   "cell_type": "markdown",
   "metadata": {
    "collapsed": true
   },
   "source": [
    "This is looking pretty good. \n",
    "\n",
    "### Exercise 6\n",
    "What happens if you now change the threshold to -60 and re-run the cells above? This should help illustrate why it's important to choose the apporpriate threshold when detecting spikes.\n",
    "\n",
    "Now, let's zoom in on some spikes to make sure we really are counting each individual spike"
   ]
  },
  {
   "cell_type": "code",
   "execution_count": 33,
   "metadata": {
    "collapsed": false
   },
   "outputs": [
    {
     "data": {
      "image/png": "[encoded data removed]",
      "text/plain": [
       "<matplotlib.figure.Figure at 0x7f636d4f8b50>"
      ]
     },
     "metadata": {},
     "output_type": "display_data"
    }
   ],
   "source": [
    "## Plot with Pandas\n",
    "ax = last_voltage[inds].plot(title='Raw Trace')\n",
    "ax.set(ylabel=meta['ch1_units'][0], xlabel='Time (s)')\n",
    "ax.plot(last_voltage[inds][spike_times], \".\", markersize=9); # plot a point at each time point where a spike was detected"
   ]
  },
  {
   "cell_type": "code",
   "execution_count": 34,
   "metadata": {
    "collapsed": false
   },
   "outputs": [
    {
     "data": {
      "image/png": "[encoded data removed]",
      "text/plain": [
       "<matplotlib.figure.Figure at 0x7f636db98490>"
      ]
     },
     "metadata": {},
     "output_type": "display_data"
    }
   ],
   "source": [
    "plt.figure()\n",
    "plt.plot(last_voltage[inds])\n",
    "plt.plot(last_voltage[inds][spike_times],\".\",markersize=9)\n",
    "plt.show()"
   ]
  },
  {
   "cell_type": "markdown",
   "metadata": {},
   "source": [
    "Great, looks like we are capturing all the spikes, not double counting, and not counting any noise as spikes. "
   ]
  },
  {
   "cell_type": "markdown",
   "metadata": {},
   "source": [
    "#### Step 2: Find out the time window of current injection\n",
    "This is pretty straightforward for this experiment because as we saw earlier, it's just square pulse injections. Therefore, we can just find the time points where current == max(current)."
   ]
  },
  {
   "cell_type": "code",
   "execution_count": 35,
   "metadata": {
    "collapsed": false
   },
   "outputs": [
    {
     "name": "stdout",
     "output_type": "stream",
     "text": [
      "Current injection: 450.0 pA\n"
     ]
    }
   ],
   "source": [
    "current_magnitude = max(last_current.values)  \n",
    "current_inj_times = last_current.index[last_current==current_magnitude] # time points when current is being injected   \n",
    "current_inj_length = max(current_inj_times) - min(current_inj_times) # duration in seconds\n",
    "print(\"Current injection: \"+str(current_magnitude)+\" pA\")"
   ]
  },
  {
   "cell_type": "markdown",
   "metadata": {},
   "source": [
    "Before we calculate the firing frequecny, there is one last check we must perform. It is possile that some spontaneous spikes occured outside the current injection window (it didn't happen in this case, but it could and that could change our results). To handle this, we remove all spikes times outside of the current injection window. To do this, we create a boolean mask (list of True and False) which we can then use to only grab indixes where there is a one:"
   ]
  },
  {
   "cell_type": "code",
   "execution_count": 36,
   "metadata": {
    "collapsed": false
   },
   "outputs": [
    {
     "name": "stdout",
     "output_type": "stream",
     "text": [
      "[ True  True  True  True  True  True  True  True  True  True  True  True\n",
      "  True  True  True  True  True  True  True  True  True  True  True  True\n",
      "  True  True  True  True  True  True  True  True  True  True  True  True\n",
      "  True  True  True  True  True  True  True  True  True  True  True  True\n",
      "  True  True  True  True  True  True  True  True  True  True  True  True\n",
      "  True  True  True  True  True  True  True  True  True  True  True  True\n",
      "  True  True  True  True  True  True  True  True  True  True  True  True\n",
      "  True  True  True  True  True  True  True  True  True  True  True  True\n",
      "  True  True  True  True  True  True  True  True  True  True  True  True\n",
      "  True  True  True  True  True  True  True  True  True  True  True  True\n",
      "  True  True  True  True  True  True  True  True  True  True  True  True\n",
      "  True  True]\n"
     ]
    }
   ],
   "source": [
    "boolean_array = (max(current_inj_times)>= spike_times) & (spike_times >= min(current_inj_times)) # boolean array (0's and 1's)\n",
    "print(boolean_array)"
   ]
  },
  {
   "cell_type": "markdown",
   "metadata": {},
   "source": [
    "Now, use the boolean mask to get only the spike times inside the appropriate time window"
   ]
  },
  {
   "cell_type": "code",
   "execution_count": 37,
   "metadata": {
    "collapsed": true
   },
   "outputs": [],
   "source": [
    "spike_times = spike_times[boolean_array]   # only saving spike times where boolean_array=True e.g. during current injection"
   ]
  },
  {
   "cell_type": "markdown",
   "metadata": {},
   "source": [
    "#### Step 3: Calculate the firing rate \n",
    "There are couple of different ways to calculate firing frequency. They are both useful and tell you different things.  \n",
    "The most straighforward way is to simply count the number of spikes and divide by the amout of time (in seconds) that the current was being injected."
   ]
  },
  {
   "cell_type": "code",
   "execution_count": 38,
   "metadata": {
    "collapsed": false
   },
   "outputs": [
    {
     "name": "stdout",
     "output_type": "stream",
     "text": [
      "spiking frequency = 268.0 Hz\n"
     ]
    }
   ],
   "source": [
    "n_spikes = len(spike_times)\n",
    "spike_freq = n_spikes/current_inj_length\n",
    "\n",
    "print(\"spiking frequency = \" + str(round(spike_freq,2))+\" Hz\")"
   ]
  },
  {
   "cell_type": "markdown",
   "metadata": {},
   "source": [
    "The second way to go about this is to calculate the average interspike interval. This is particularly useful if the neuron does not continue to fire or adapts during the current injection."
   ]
  },
  {
   "cell_type": "code",
   "execution_count": 39,
   "metadata": {
    "collapsed": false
   },
   "outputs": [
    {
     "name": "stdout",
     "output_type": "stream",
     "text": [
      "spiking frequency = 267.82Hz\n"
     ]
    }
   ],
   "source": [
    "ISI = np.ediff1d(spike_times) #interspike interval\n",
    "meanISI = np.mean(ISI)  # calculate the mean ISI\n",
    "spike_freq = 1/meanISI  # ISI is in units of seconds, divide 1s/meanISI to get mean firing frequency\n",
    "print(\"spiking frequency = \" +str(round(spike_freq,2))+\"Hz\")"
   ]
  },
  {
   "cell_type": "markdown",
   "metadata": {},
   "source": [
    "For this cell, both methods give us basially the same result because as we saw above, this neuron fires pretty regularly during the entire stimulation. This isn't necesarily the case, so it's good to check. \n",
    "\n",
    "One final check we can perform is just to look at all the raw ISI values to make sure there wasn't a change in frequency over the course of the stimulation (high firing at the beginnning, slower at the end)"
   ]
  },
  {
   "cell_type": "code",
   "execution_count": 40,
   "metadata": {
    "collapsed": false
   },
   "outputs": [
    {
     "data": {
      "image/png": "[encoded data removed]",
      "text/plain": [
       "<matplotlib.figure.Figure at 0x7f636d6d0490>"
      ]
     },
     "metadata": {},
     "output_type": "display_data"
    }
   ],
   "source": [
    "plt.figure()\n",
    "plt.hist(ISI*1000,bins=50) # convert to ms by multiplying by 1000\n",
    "plt.ylabel('Count')\n",
    "plt.xlabel('Interspike interval (ms)');"
   ]
  },
  {
   "cell_type": "markdown",
   "metadata": {},
   "source": [
    "This looks pretty good with the exception of a few outliers. It also confirms that there are no refractory period violations. \n"
   ]
  },
  {
   "cell_type": "markdown",
   "metadata": {},
   "source": [
    "### Exercise 7\n",
    "Go back and re-run everything from \"Step 1\" but this time, DO NOT run the cells that corrected for refractory period violations. This should illustrate why this final histogram can be a good check on your analysis."
   ]
  },
  {
   "cell_type": "markdown",
   "metadata": {},
   "source": [
    "####  Summary of single sweep analysis \n",
    "Although what we really want is the F-I curve for the cell, analyzing one sweep at a time, like we did here, is often a good idea. This way, you can make sure that the code you write is really analyzing the data in the way you intend."
   ]
  },
  {
   "cell_type": "markdown",
   "metadata": {},
   "source": [
    "## 3.5 Create an F-I curve for a single cell\n",
    "\n",
    "* To do this, we will perform the above analysis many times. Once for each current injection/sweep\n",
    "* Because we are doing the same thing many times, rather than write all of the above code 20 times (once for each sweep), we'll write a \"for\" loop that performs the same operation many times\n",
    "* When you are performing an operation many times, it is often nice to write function to perform this operation. We will write a function that returns the firing frequency for any sweep"
   ]
  },
  {
   "cell_type": "markdown",
   "metadata": {},
   "source": [
    "#### Write a function that returns the firing rate for a single sweep of data"
   ]
  },
  {
   "cell_type": "code",
   "execution_count": 41,
   "metadata": {
    "collapsed": true
   },
   "outputs": [],
   "source": [
    "def get_firing_rate(v, threshold, tstart, tend, method=\"ISI\"):\n",
    "    '''\n",
    "    ================ This is called a doc string ====================\n",
    "    ========== It tells you how to use the function =================\n",
    "    ======= It is what is printed when you call \"help\" ==============\n",
    "    Arguments:\n",
    "        v (data frame): array of voltage values during one sweep with the index being the time series\n",
    "        threshold (float): cut-off to count spikes\n",
    "        tstart (float): time current injection begins\n",
    "        tend (float): time current injection ends\n",
    "        method (string, optional): method for calculating the firing rate\n",
    "                ISI: use interspike interval\n",
    "                AVG: use average over whole current injection window\n",
    "    Output:\n",
    "        firing_rate (float): firing rate during the period defined by tstart and tend\n",
    "    '''\n",
    "    refractory_limit=0.002 # set refractory period limit (to avoid double counting spikes)\n",
    "    current_duration = tend-tstart\n",
    "    \n",
    "    v_thresh = v[v>threshold]\n",
    "    \n",
    "    spike_indexes = ss.argrelextrema(v_thresh.values, np.greater,order=1)  # indices of spikes (0,1,2...)\n",
    "    spike_times = v_thresh.index[spike_indexes]  # convert to time (in seconds)   \n",
    "    \n",
    "    # get rid of refractory violations\n",
    "    interspike_interval = np.ediff1d(spike_times)\n",
    "    VIOLATION_indexes = np.argwhere(interspike_interval<refractory_limit)\n",
    "    spike_times = spike_times.delete(VIOLATION_indexes)    # delete any spike times that occured too soon after a previous spike\n",
    "    \n",
    "    # get rid of spikes outside the current injection window\n",
    "    tf = (tend >= spike_times) & (spike_times >= tstart) # boolean array (0's and 1's)\n",
    "    spike_times = spike_times[tf]   # only saving spike times where tf==1 e.g. during current injection\n",
    "    \n",
    "    if method==\"ISI\":\n",
    "        # calculate the firing frequency using interspike interval\n",
    "        # in case there were no spikes, set firing rate to 0 Hz\n",
    "        if spike_times.size==0:\n",
    "            firing_rate=0  # there were no spikes, so firing rate is 0\n",
    "        else:\n",
    "            ISI = np.mean(np.ediff1d(spike_times))\n",
    "            firing_rate = 1/ISI\n",
    "    elif method==\"AVG\":\n",
    "        firing_rate = len(spike_times)/current_duration\n",
    "    \n",
    "    return firing_rate"
   ]
  },
  {
   "cell_type": "markdown",
   "metadata": {},
   "source": [
    "There is alot going on in that function. If you are confused on any part of it, please ask the instructor or TAs for assitance. \n",
    "* You should understand how the function works, and how to modify it if you need/want to\n",
    "* You should understand the difference between required and optional function arguments\n",
    "* You should understand the if-else statements at the end of the function definition\n",
    "    * Note: check out what happens when you call \"help\" on the function we just wrote:"
   ]
  },
  {
   "cell_type": "code",
   "execution_count": 42,
   "metadata": {
    "collapsed": false
   },
   "outputs": [
    {
     "name": "stdout",
     "output_type": "stream",
     "text": [
      "Help on function get_firing_rate in module __main__:\n",
      "\n",
      "get_firing_rate(v, threshold, tstart, tend, method='ISI')\n",
      "    ================ This is called a doc string ====================\n",
      "    ========== It tells you how to use the function =================\n",
      "    ======= It is what is printed when you call \"help\" ==============\n",
      "    Arguments:\n",
      "        v (data frame): array of voltage values during one sweep with the index being the time series\n",
      "        threshold (float): cut-off to count spikes\n",
      "        tstart (float): time current injection begins\n",
      "        tend (float): time current injection ends\n",
      "        method (string, optional): method for calculating the firing rate\n",
      "                ISI: use interspike interval\n",
      "                AVG: use average over whole current injection window\n",
      "    Output:\n",
      "        firing_rate (float): firing rate during the period defined by tstart and tend\n",
      "\n"
     ]
    }
   ],
   "source": [
    "help(get_firing_rate)"
   ]
  },
  {
   "cell_type": "markdown",
   "metadata": {},
   "source": [
    "#### Write a for-loop to calculate the firing rate for every sweep of data\n",
    "* First intitalize the constants that we will use throughout the analysis\n",
    "    * threshold\n",
    "    * current_duration"
   ]
  },
  {
   "cell_type": "code",
   "execution_count": 43,
   "metadata": {
    "collapsed": true
   },
   "outputs": [],
   "source": [
    "# set threshold above which to detect spikes\n",
    "threshold = -20   \n",
    "\n",
    "# Find current duration (same for all sweeps so we can just do this once)\n",
    "current_magnitude = max(last_current.values)  \n",
    "current_inj_times = last_current.index[last_current==current_magnitude]  # time points when current is being injected  \n",
    "I_start = min(current_inj_times)\n",
    "I_end = max(current_inj_times)\n",
    "current_duration = max(current_inj_times) - min(current_inj_times)      # duration in seconds   "
   ]
  },
  {
   "cell_type": "markdown",
   "metadata": {},
   "source": [
    "Loop over all the sweeps, find the current magnitude and firing rate, print them out"
   ]
  },
  {
   "cell_type": "markdown",
   "metadata": {},
   "source": [
    "Define the list of sweeps to loop over:"
   ]
  },
  {
   "cell_type": "code",
   "execution_count": 44,
   "metadata": {
    "collapsed": true
   },
   "outputs": [],
   "source": [
    "sweeps = meta.index"
   ]
  },
  {
   "cell_type": "code",
   "execution_count": 45,
   "metadata": {
    "collapsed": false
   },
   "outputs": [
    {
     "name": "stdout",
     "output_type": "stream",
     "text": [
      "sweep1:  I: -500.0 pA,   Firing rate: 0 Hz\n",
      "sweep2:  I: -450.0 pA,   Firing rate: 0 Hz\n",
      "sweep3:  I: -400.0 pA,   Firing rate: 0 Hz\n",
      "sweep4:  I: -350.0 pA,   Firing rate: 0 Hz\n",
      "sweep5:  I: -300.0 pA,   Firing rate: 0 Hz\n",
      "sweep6:  I: -250.0 pA,   Firing rate: 0 Hz\n",
      "sweep7:  I: -200.0 pA,   Firing rate: 0 Hz\n",
      "sweep8:  I: -150.0 pA,   Firing rate: 0 Hz\n",
      "sweep9:  I: -100.0 pA,   Firing rate: 0 Hz\n",
      "sweep10:  I: -50.0 pA,   Firing rate: 0 Hz\n",
      "sweep11:  I: 0 pA,   Firing rate: 0 Hz\n",
      "sweep12:  I: 50.0 pA,   Firing rate: 91.3232876712 Hz\n",
      "sweep13:  I: 100.0 pA,   Firing rate: 118.079399011 Hz\n",
      "sweep14:  I: 150.0 pA,   Firing rate: 145.729830385 Hz\n",
      "sweep15:  I: 200.0 pA,   Firing rate: 166.198832543 Hz\n",
      "sweep16:  I: 250.0 pA,   Firing rate: 185.082744885 Hz\n",
      "sweep17:  I: 300.0 pA,   Firing rate: 206.924963838 Hz\n",
      "sweep18:  I: 350.0 pA,   Firing rate: 223.973223834 Hz\n",
      "sweep19:  I: 400.0 pA,   Firing rate: 243.008495341 Hz\n",
      "sweep20:  I: 450.0 pA,   Firing rate: 267.81850584 Hz\n"
     ]
    }
   ],
   "source": [
    "for i, sweep in enumerate(sweeps):\n",
    "    \n",
    "    # Call our function that we wrote above (get_firing_rate)    \n",
    "    firing_rate = get_firing_rate(data['ch1_'+sweep], threshold, I_start, I_end, method=\"ISI\")  \n",
    "    \n",
    "    # get current injection magnitude\n",
    "    # Note how we deal with negative current injections using if-else statements\n",
    "    I_mag = max(data['ch2_'+sweep])\n",
    "    if I_mag == 0 and min(data['ch2_'+sweep])==0:\n",
    "        I_mag = 0\n",
    "    elif I_mag == 0 and min(data['ch2_'+sweep]) != 0:\n",
    "        I_mag = min(data['ch2_'+sweep])\n",
    "    \n",
    "    # print the result\n",
    "    print(sweep+\":  \"+\"I: \"+str(I_mag)+\" \"+meta['ch2_units'][i]+ \",   Firing rate: \"+str(firing_rate)+\" Hz\")"
   ]
  },
  {
   "cell_type": "markdown",
   "metadata": {},
   "source": [
    "There's a lot of stuff going on here as well. Some key takeaways:\n",
    "* Make sure you understand the for loop, what it's doing, and why it's useful\n",
    "* Make sure that the if-else statements inside the for loop are making sense\n",
    "* If you are confused on these points, ask the instructor or a TA"
   ]
  },
  {
   "cell_type": "markdown",
   "metadata": {},
   "source": [
    "Now that we understand how the code above is working, let's run it again but this time actually save the results instead of just printing them out. To save our results, let's create a new data frame called \"results\" to store everything"
   ]
  },
  {
   "cell_type": "code",
   "execution_count": 46,
   "metadata": {
    "collapsed": false
   },
   "outputs": [
    {
     "data": {
      "text/html": [
       "<div>\n",
       "<style scoped>\n",
       "    .dataframe tbody tr th:only-of-type {\n",
       "        vertical-align: middle;\n",
       "    }\n",
       "\n",
       "    .dataframe tbody tr th {\n",
       "        vertical-align: top;\n",
       "    }\n",
       "\n",
       "    .dataframe thead th {\n",
       "        text-align: right;\n",
       "    }\n",
       "</style>\n",
       "<table border=\"1\" class=\"dataframe\">\n",
       "  <thead>\n",
       "    <tr style=\"text-align: right;\">\n",
       "      <th></th>\n",
       "      <th>Current Injection</th>\n",
       "      <th>Firing Rate</th>\n",
       "    </tr>\n",
       "  </thead>\n",
       "  <tbody>\n",
       "    <tr>\n",
       "      <th>sweep1</th>\n",
       "      <td>NaN</td>\n",
       "      <td>NaN</td>\n",
       "    </tr>\n",
       "    <tr>\n",
       "      <th>sweep2</th>\n",
       "      <td>NaN</td>\n",
       "      <td>NaN</td>\n",
       "    </tr>\n",
       "    <tr>\n",
       "      <th>sweep3</th>\n",
       "      <td>NaN</td>\n",
       "      <td>NaN</td>\n",
       "    </tr>\n",
       "    <tr>\n",
       "      <th>sweep4</th>\n",
       "      <td>NaN</td>\n",
       "      <td>NaN</td>\n",
       "    </tr>\n",
       "    <tr>\n",
       "      <th>sweep5</th>\n",
       "      <td>NaN</td>\n",
       "      <td>NaN</td>\n",
       "    </tr>\n",
       "  </tbody>\n",
       "</table>\n",
       "</div>"
      ],
      "text/plain": [
       "       Current Injection Firing Rate\n",
       "sweep1               NaN         NaN\n",
       "sweep2               NaN         NaN\n",
       "sweep3               NaN         NaN\n",
       "sweep4               NaN         NaN\n",
       "sweep5               NaN         NaN"
      ]
     },
     "execution_count": 46,
     "metadata": {},
     "output_type": "execute_result"
    }
   ],
   "source": [
    "results = pd.DataFrame(columns=[\"Current Injection\", \"Firing Rate\"],index = meta.index)\n",
    "results.head()"
   ]
  },
  {
   "cell_type": "markdown",
   "metadata": {},
   "source": [
    "We've now created an empty data frame to store the results for all data sweeps. Using a for loop, let's again calculate the current injection and firing rate for each sweep and fill up the empty results data frame"
   ]
  },
  {
   "cell_type": "code",
   "execution_count": 47,
   "metadata": {
    "collapsed": true
   },
   "outputs": [],
   "source": [
    "for i, sweep in enumerate(sweeps):\n",
    "    firing_rate = get_firing_rate(data['ch1_'+sweep],threshold,I_start,I_end,method=\"ISI\")\n",
    "    \n",
    "    I_mag = max(data['ch2_'+sweep])\n",
    "    if I_mag == 0 and min(data['ch2_'+sweep])==0:\n",
    "        I_mag = 0\n",
    "    elif I_mag == 0 and min(data['ch2_'+sweep]) != 0:\n",
    "        I_mag = min(data['ch2_'+sweep])\n",
    "       \n",
    "    results['Current Injection'][sweep]=I_mag\n",
    "    results['Firing Rate'][sweep]=firing_rate"
   ]
  },
  {
   "cell_type": "markdown",
   "metadata": {},
   "source": [
    "Now, we have stored all our results into a new data frame."
   ]
  },
  {
   "cell_type": "code",
   "execution_count": 48,
   "metadata": {
    "collapsed": false
   },
   "outputs": [
    {
     "data": {
      "text/html": [
       "<div>\n",
       "<style scoped>\n",
       "    .dataframe tbody tr th:only-of-type {\n",
       "        vertical-align: middle;\n",
       "    }\n",
       "\n",
       "    .dataframe tbody tr th {\n",
       "        vertical-align: top;\n",
       "    }\n",
       "\n",
       "    .dataframe thead th {\n",
       "        text-align: right;\n",
       "    }\n",
       "</style>\n",
       "<table border=\"1\" class=\"dataframe\">\n",
       "  <thead>\n",
       "    <tr style=\"text-align: right;\">\n",
       "      <th></th>\n",
       "      <th>Current Injection</th>\n",
       "      <th>Firing Rate</th>\n",
       "    </tr>\n",
       "  </thead>\n",
       "  <tbody>\n",
       "    <tr>\n",
       "      <th>sweep1</th>\n",
       "      <td>-500</td>\n",
       "      <td>0</td>\n",
       "    </tr>\n",
       "    <tr>\n",
       "      <th>sweep2</th>\n",
       "      <td>-450</td>\n",
       "      <td>0</td>\n",
       "    </tr>\n",
       "    <tr>\n",
       "      <th>sweep3</th>\n",
       "      <td>-400</td>\n",
       "      <td>0</td>\n",
       "    </tr>\n",
       "    <tr>\n",
       "      <th>sweep4</th>\n",
       "      <td>-350</td>\n",
       "      <td>0</td>\n",
       "    </tr>\n",
       "    <tr>\n",
       "      <th>sweep5</th>\n",
       "      <td>-300</td>\n",
       "      <td>0</td>\n",
       "    </tr>\n",
       "    <tr>\n",
       "      <th>sweep6</th>\n",
       "      <td>-250</td>\n",
       "      <td>0</td>\n",
       "    </tr>\n",
       "    <tr>\n",
       "      <th>sweep7</th>\n",
       "      <td>-200</td>\n",
       "      <td>0</td>\n",
       "    </tr>\n",
       "    <tr>\n",
       "      <th>sweep8</th>\n",
       "      <td>-150</td>\n",
       "      <td>0</td>\n",
       "    </tr>\n",
       "    <tr>\n",
       "      <th>sweep9</th>\n",
       "      <td>-100</td>\n",
       "      <td>0</td>\n",
       "    </tr>\n",
       "    <tr>\n",
       "      <th>sweep10</th>\n",
       "      <td>-50</td>\n",
       "      <td>0</td>\n",
       "    </tr>\n",
       "    <tr>\n",
       "      <th>sweep11</th>\n",
       "      <td>0</td>\n",
       "      <td>0</td>\n",
       "    </tr>\n",
       "    <tr>\n",
       "      <th>sweep12</th>\n",
       "      <td>50</td>\n",
       "      <td>91.3233</td>\n",
       "    </tr>\n",
       "    <tr>\n",
       "      <th>sweep13</th>\n",
       "      <td>100</td>\n",
       "      <td>118.079</td>\n",
       "    </tr>\n",
       "    <tr>\n",
       "      <th>sweep14</th>\n",
       "      <td>150</td>\n",
       "      <td>145.73</td>\n",
       "    </tr>\n",
       "    <tr>\n",
       "      <th>sweep15</th>\n",
       "      <td>200</td>\n",
       "      <td>166.199</td>\n",
       "    </tr>\n",
       "    <tr>\n",
       "      <th>sweep16</th>\n",
       "      <td>250</td>\n",
       "      <td>185.083</td>\n",
       "    </tr>\n",
       "    <tr>\n",
       "      <th>sweep17</th>\n",
       "      <td>300</td>\n",
       "      <td>206.925</td>\n",
       "    </tr>\n",
       "    <tr>\n",
       "      <th>sweep18</th>\n",
       "      <td>350</td>\n",
       "      <td>223.973</td>\n",
       "    </tr>\n",
       "    <tr>\n",
       "      <th>sweep19</th>\n",
       "      <td>400</td>\n",
       "      <td>243.008</td>\n",
       "    </tr>\n",
       "    <tr>\n",
       "      <th>sweep20</th>\n",
       "      <td>450</td>\n",
       "      <td>267.819</td>\n",
       "    </tr>\n",
       "  </tbody>\n",
       "</table>\n",
       "</div>"
      ],
      "text/plain": [
       "        Current Injection Firing Rate\n",
       "sweep1               -500           0\n",
       "sweep2               -450           0\n",
       "sweep3               -400           0\n",
       "sweep4               -350           0\n",
       "sweep5               -300           0\n",
       "sweep6               -250           0\n",
       "sweep7               -200           0\n",
       "sweep8               -150           0\n",
       "sweep9               -100           0\n",
       "sweep10               -50           0\n",
       "sweep11                 0           0\n",
       "sweep12                50     91.3233\n",
       "sweep13               100     118.079\n",
       "sweep14               150      145.73\n",
       "sweep15               200     166.199\n",
       "sweep16               250     185.083\n",
       "sweep17               300     206.925\n",
       "sweep18               350     223.973\n",
       "sweep19               400     243.008\n",
       "sweep20               450     267.819"
      ]
     },
     "execution_count": 48,
     "metadata": {},
     "output_type": "execute_result"
    }
   ],
   "source": [
    "results"
   ]
  },
  {
   "cell_type": "markdown",
   "metadata": {},
   "source": [
    "Now, we can create our f-i plot for this neuron"
   ]
  },
  {
   "cell_type": "code",
   "execution_count": 49,
   "metadata": {
    "collapsed": false
   },
   "outputs": [
    {
     "data": {
      "image/png": "[encoded data removed]",
      "text/plain": [
       "<matplotlib.figure.Figure at 0x7f636dba8d90>"
      ]
     },
     "metadata": {},
     "output_type": "display_data"
    }
   ],
   "source": [
    "## Plot with Pandas\n",
    "ax = results.plot('Current Injection', 'Firing Rate', title='F-I Curve', marker=\".\", color=\"r\", lw=2, markersize=5, alpha=0.6)\n",
    "ax.set(xlabel='Current '+meta['ch2_units'][0], ylabel='Firing rate (Hz)');"
   ]
  },
  {
   "cell_type": "markdown",
   "metadata": {},
   "source": [
    "Cool, we now have an F-I curve for this PV neuron. \n",
    "\n",
    "### Final Excercise: do the same analysis but calculate frequency as n_spikes/time instead of using the ISI as we just did\n",
    "* Add the result to the data frame called results and name this column \"Firing rate (avg)\"\n",
    "* hint: one way to add a column to a data frame is to make a series and then add it to the original data frame\n",
    "    * newcolumn = pd.series(index=, name=)\n",
    "    * pd.concat((results,newcolumn),axis=1)\n",
    "* Once you've accomplished all this, plot the results alongside the trace above"
   ]
  },
  {
   "cell_type": "markdown",
   "metadata": {},
   "source": [
    "#### Create  new column using pandas series \n",
    "* https://pandas.pydata.org/pandas-docs/stable/generated/pandas.Series.html"
   ]
  },
  {
   "cell_type": "code",
   "execution_count": null,
   "metadata": {
    "collapsed": true
   },
   "outputs": [],
   "source": [
    "newColumn = pd.Series()\n",
    "# answer: newColumn = pd.Series(index=sweeps, name=\"Firing Rate (avg)\")"
   ]
  },
  {
   "cell_type": "markdown",
   "metadata": {},
   "source": [
    "#### Loop over all the data and fill in the new column"
   ]
  },
  {
   "cell_type": "code",
   "execution_count": null,
   "metadata": {
    "collapsed": true
   },
   "outputs": [],
   "source": [
    "for :\n",
    "    \n",
    "    # get firing rate\n",
    "    \n",
    "    # add to new column\n",
    "    \n",
    "    \n",
    "\n",
    "'''\n",
    "answer:\n",
    "for i, sweep in enumerate(sweeps):\n",
    "    \n",
    "    firing_rate = get_firing_rate(data['ch1_'+sweep],threshold,I_start,I_end, method=\"AVG\")\n",
    "    \n",
    "    newColumn[sweep]=firing_rate\n",
    "'''"
   ]
  },
  {
   "cell_type": "markdown",
   "metadata": {},
   "source": [
    "#### Concatenate the newColumn with results\n",
    "* https://pandas.pydata.org/pandas-docs/stable/generated/pandas.concat.html"
   ]
  },
  {
   "cell_type": "code",
   "execution_count": null,
   "metadata": {
    "collapsed": true
   },
   "outputs": [],
   "source": [
    "results = pd.concat()   # concatenate\n",
    "results.head()          # look at results\n",
    "\n",
    "'''\n",
    "results = pd.concat((results,newColumn),axis=1)\n",
    "results.head()\n",
    "'''"
   ]
  },
  {
   "cell_type": "markdown",
   "metadata": {},
   "source": [
    "Plot the results for both methods on the same figure"
   ]
  },
  {
   "cell_type": "code",
   "execution_count": null,
   "metadata": {
    "collapsed": true
   },
   "outputs": [],
   "source": [
    "# Use examples of plotting from above\n",
    "\n",
    "\n",
    "\n",
    "\n",
    "'''\n",
    "plt.figure()\n",
    "plt.plot(results['Current Injection'].values, results['Firing Rate'].values, \".-\", color=\"r\", lw=2,\n",
    "         markersize=5, alpha=0.6)\n",
    "plt.plot(results['Current Injection'].values, results['Firing Rate (avg)'].values, \".-\", color=\"b\", lw=2,\n",
    "         markersize=5, alpha=0.6)\n",
    "plt.xlabel('Current '+meta['ch2_units'][0])\n",
    "plt.ylabel('Firing rate (Hz)')\n",
    "plt.legend(['ISI', 'avg'])\n",
    "plt.title('F-I curve')\n",
    "plt.show()\n",
    "'''"
   ]
  },
  {
   "cell_type": "markdown",
   "metadata": {},
   "source": [
    "Basically, we get the same result. However, we do see a clear difference for the first positive current step, when the cell did not continue to fire over the course of the current injection but only fired a burst of spikes at the beginning of stimulation"
   ]
  },
  {
   "cell_type": "markdown",
   "metadata": {},
   "source": [
    "## 3.6 Extra exercises, if there's time"
   ]
  },
  {
   "cell_type": "markdown",
   "metadata": {},
   "source": [
    "#### Calculate the input resistance of the cell (Easier)\n",
    "Recall ohms law: voltage = current * resistance (V=IR). We know the current and we know the voltage so we can solve for R, the cell's input resistance. Using ohms law and the hints below, solve for this cell's input resistance."
   ]
  },
  {
   "cell_type": "markdown",
   "metadata": {},
   "source": [
    "* Hint 1: Input resistance is a passive property of a neuron, therefore we'll have to measure it when voltage activated channels are not opening/closing. Remember from our analysis above, there were a bunch of negative current steps that elicited no action potentials.\n",
    "\n",
    "* Hint 2: Even though the negative current steps didn't cause action potentials to fire there could still have been some channels opened, changing the resistance of the cell (for example, Ih currents). Therefore, it's probably best to use voltage measurements when the cell was in a steady state (later on in the current injection).\n",
    "\n",
    "* Hint 3: Ohms law is a linear relationship. In other words, if we plot voltage vs. current we should see a straight line (if no channels were opening and closing). The slope of this line is R. Plot voltage vs. current for all negative current injections and meausre the slope at the point where the line is most linear."
   ]
  },
  {
   "cell_type": "code",
   "execution_count": null,
   "metadata": {
    "collapsed": true
   },
   "outputs": [],
   "source": [
    "# ==============================   Solution    ========================================\n",
    "\n",
    "negative_current_sweeps = results.index[[i for i in results['Current Injection']<0]]\n",
    "tstart=0.4\n",
    "tend=0.5\n",
    "steady_state_voltage = []\n",
    "current=[]\n",
    "for sweep in negative_current_sweeps:\n",
    "    steady_state_voltage.append(np.mean(data['ch1_'+sweep][tstart:tend]))\n",
    "    current.append(results['Current Injection'][sweep])\n",
    "\n",
    "plt.figure()\n",
    "plt.plot(current, steady_state_voltage,'.-')\n",
    "plt.ylabel('mV')\n",
    "plt.xlabel('pA')\n",
    "\n",
    "\n",
    "# remove last two current injections because seems to get non-linear there\n",
    "# and convert to Volts and Amps\n",
    "R = ((steady_state_voltage[-2]-steady_state_voltage[0])/1000)/((current[-2] - current[0])/10e12)\n",
    "R_mohms = round(R/10e6,2)\n",
    "plt.title('Input resistance = ' + str(R_mohms)+ ' Mohms')\n",
    "\n",
    "plt.show()"
   ]
  },
  {
   "cell_type": "markdown",
   "metadata": {},
   "source": [
    "#### Create a phase-plot for this cell (More difficult)\n",
    "A phase plot is a plot of voltage vs. the derivative of the voltage (rate of change) during an action potential. Here's an example:\n",
    "<img src = 'phase_plot.png'>"
   ]
  },
  {
   "cell_type": "markdown",
   "metadata": {},
   "source": [
    "Your goal is to create a phase plot for the action potentials fired during the 500pA current injection. There a few steps involved to do this:\n",
    "* Step 1: Generate and array of \"spike cutouts\" during this current step. In other words, make a 2D numpy array where the rows are time points and the columns are individual action potentials. Do this by taking 1ms of data before an AP peak and 2ms of data after a peak. Hint: remember how we found the time points of AP peaks earlier...\n",
    "\n",
    "* Step 2: Generate an equivalent numpy array except in this array, each column is the derivative of the action potential in the array from step 1\n",
    "\n",
    "* Step 3: Take the mean of all columns in both arrays and then plot action potential mean on the x-axis vs. the derivative mean on the y-axis"
   ]
  },
  {
   "cell_type": "code",
   "execution_count": null,
   "metadata": {
    "collapsed": true
   },
   "outputs": [],
   "source": [
    "# ============================== Solution =======================================\n",
    "\n",
    "# get the voltage values for the 500pA sweep (last sweep)\n",
    "\n",
    "voltages = voltage_traces[voltage_traces.columns[-1]]\n",
    "\n",
    "# find spike times\n",
    "threshold=-20\n",
    "voltages_thresh = voltages[voltages>-20]\n",
    "indexes_of_maxima = ss.argrelextrema(data=voltages_thresh.values, comparator=np.greater, order=1)\n",
    "spike_times = voltages_thresh.index[indexes_of_maxima]\n",
    "\n",
    "\n",
    "# get rid of refractory violations\n",
    "interspike_interval = np.ediff1d(spike_times)\n",
    "VIOLATION_indexes = np.argwhere(interspike_interval<0.002)\n",
    "spike_times = spike_times.delete(VIOLATION_indexes)\n",
    "\n",
    "\n",
    "\n",
    "# get spike cutouts\n",
    "n_spikes = len(spike_times)\n",
    "len_spike_window = len(voltages[0:0.003])\n",
    "\n",
    "# make an empty arrays to hold spike cutouts and derivatives\n",
    "spike_cutouts = np.empty((n_spikes,len_spike_window-1))\n",
    "derivative = np.empty((n_spikes, len_spike_window-2))\n",
    "\n",
    "# fill arrays\n",
    "fs = meta['fs'][0]\n",
    "for i in range(0, n_spikes):\n",
    "    spike_cutouts[i,:] = voltages[(spike_times[i]-0.001):(spike_times[i]+0.002)].squeeze()\n",
    "    derivative[i,:] = np.ediff1d(spike_cutouts[i,:])/(1/fs)\n",
    "\n",
    "spike = np.mean(spike_cutouts,axis=0)[:-1]\n",
    "deriv = np.mean(derivative,axis=0)\n",
    "\n",
    "plt.figure()\n",
    "time = np.linspace(0,0.003,len(spike))\n",
    "plt.subplot(221)\n",
    "plt.title('Action potential')\n",
    "plt.plot(time,spike)\n",
    "plt.xlabel('Time (s)')\n",
    "plt.ylabel('mV')\n",
    "\n",
    "plt.subplot(223)\n",
    "plt.title('Derivative')\n",
    "plt.xlabel('Time (s)')\n",
    "plt.ylabel('mV/s')\n",
    "plt.plot(time,deriv)\n",
    "\n",
    "plt.subplot(122)\n",
    "plt.title('Phase plot')\n",
    "plt.ylabel('dV/dt (mV/s)')\n",
    "plt.xlabel('mV')\n",
    "plt.plot(spike, deriv,'.-')\n",
    "plt.tight_layout()\n",
    "\n",
    "plt.show()"
   ]
  },
  {
   "cell_type": "markdown",
   "metadata": {},
   "source": [
    "## Appendix\n",
    "\n",
    "#### Loading binary files (.abf, .dat, etc.) using the python package, neo\n",
    " neo is an open source python package, like numpy or pandas. It was written specifically to help load binary file formats from electrophysiology data into python. We have written a function that uses this package to load .abf files into a .csv data format (spreadsheet). If you are interested in learning more about this, ask one of your TA's or intsructors, or just go look at the file binary_file_loading_tools.py that is located in the day 3 folder. Note, in order to run the loading function, you will need neo installed on your machine. To do this, type: \"pip install neo\" into a terminal window on your machine. For more information on neo, see: http://neuralensemble.org/neo/\n",
    " "
   ]
  }
 ],
 "metadata": {
  "kernelspec": {
   "display_name": "Python [Root]",
   "language": "python",
   "name": "Python [Root]"
  },
  "language_info": {
   "codemirror_mode": {
    "name": "ipython",
    "version": 2
   },
   "file_extension": ".py",
   "mimetype": "text/x-python",
   "name": "python",
   "nbconvert_exporter": "python",
   "pygments_lexer": "ipython2",
   "version": "2.7.11"
  }
 },
 "nbformat": 4,
 "nbformat_minor": 2
}
