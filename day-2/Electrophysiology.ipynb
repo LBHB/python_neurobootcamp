{
 "cells": [
  {
   "cell_type": "markdown",
   "metadata": {},
   "source": [
    "# Using pandas data frames to analyze single cell electrophysiology data"
   ]
  },
  {
   "cell_type": "markdown",
   "metadata": {},
   "source": [
    "###  *** Set file path to day-2 of the python_neurobootcamp ***\n",
    "* Note, this won't change if we're all working on the same server, might have to change for each person's user name?"
   ]
  },
  {
   "cell_type": "code",
   "execution_count": 6,
   "metadata": {
    "collapsed": true
   },
   "outputs": [],
   "source": [
    "path = '/home/hellerc/Desktop/python_bootcamp/python_neurobootcamp/day-2/'"
   ]
  },
  {
   "cell_type": "markdown",
   "metadata": {},
   "source": [
    "Importing built in python modules"
   ]
  },
  {
   "cell_type": "code",
   "execution_count": 1,
   "metadata": {
    "collapsed": true
   },
   "outputs": [],
   "source": [
    "import numpy as np\n",
    "import matplotlib.pyplot as plt\n",
    "import pandas as pd"
   ]
  },
  {
   "cell_type": "markdown",
   "metadata": {},
   "source": [
    "Importing custom module called \"loading_tools\" that will help us load our raw data\n",
    "* because tools is custom written and is not saved in the same place as native python modules, we have to first tell python where to look for this module. To do this, we use sys to tell python to look in our current directory (day-2) then to look inside the folder called Tools: sys.path.append(path+'/Tools')\n",
    "* Then, from tools, we import the function call bin_to_csv \n",
    "* special note - in order to use bin_to_csv, the python module neo must be installed. This should already be taken care of by your TAs. If not, open a terminal and type: pip install neo"
   ]
  },
  {
   "cell_type": "code",
   "execution_count": 35,
   "metadata": {
    "collapsed": true
   },
   "outputs": [],
   "source": [
    "import sys\n",
    "sys.path.append(path+'Tools')\n",
    "import imp\n",
    "import loading_tools\n",
    "imp.reload(loading_tools)\n",
    "from loading_tools import bin_to_csv"
   ]
  },
  {
   "cell_type": "markdown",
   "metadata": {},
   "source": [
    "## Loading data for a single cell\n",
    "\n",
    "bin_to_csv loads binary data files created by your patching software (.abf, .dat etc.) and transorms them into .csv files (which it saves under \"day-2/csv_data/\"). It also returns the data in two pandas data frames. One containing meta data, one containing the voltage/current traces\n",
    "\n",
    "* If you're interested in how this function works, or want to modify it to suit your own needs, you can go check it out yourself. We won't cover this in class today for time's sake"
   ]
  },
  {
   "cell_type": "code",
   "execution_count": 29,
   "metadata": {
    "collapsed": false
   },
   "outputs": [
    {
     "name": "stderr",
     "output_type": "stream",
     "text": [
      "/home/hellerc/Desktop/python_bootcamp/python_neurobootcamp/day-2/Tools/tools.py:68: UserWarning: If fs is same for all sweeps, hard coding time series to be the same for all sweeps within an .abf file\n",
      "  warnings.warn('If fs is same for all sweeps, hard coding time series to be the same for all sweeps within an .abf file')\n"
     ]
    },
    {
     "name": "stdout",
     "output_type": "stream",
     "text": [
      "saving data in csv format. Stored in csv_data folder\n"
     ]
    }
   ],
   "source": [
    "meta, data = bin_to_csv(filename=path+'Raw_Data/PVcell3.abf')"
   ]
  },
  {
   "cell_type": "markdown",
   "metadata": {},
   "source": [
    "To take a peak at our data, we can type the name of our data frame, followed by \".head()\". This will show us the first 5 rows of the data in spreadsheet format. \n",
    "* Try comparing the output here with what was saved into the csv_data folder. They should look essentially identical"
   ]
  },
  {
   "cell_type": "code",
   "execution_count": 38,
   "metadata": {
    "collapsed": false
   },
   "outputs": [
    {
     "data": {
      "text/html": [
       "<div>\n",
       "<style>\n",
       "    .dataframe thead tr:only-child th {\n",
       "        text-align: right;\n",
       "    }\n",
       "\n",
       "    .dataframe thead th {\n",
       "        text-align: left;\n",
       "    }\n",
       "\n",
       "    .dataframe tbody tr th {\n",
       "        vertical-align: top;\n",
       "    }\n",
       "</style>\n",
       "<table border=\"1\" class=\"dataframe\">\n",
       "  <thead>\n",
       "    <tr style=\"text-align: right;\">\n",
       "      <th></th>\n",
       "      <th>fs</th>\n",
       "      <th>celltype</th>\n",
       "      <th>date</th>\n",
       "      <th>ch1_units</th>\n",
       "      <th>ch2_units</th>\n",
       "    </tr>\n",
       "  </thead>\n",
       "  <tbody>\n",
       "    <tr>\n",
       "      <th>sweep1</th>\n",
       "      <td>100000</td>\n",
       "      <td>PV</td>\n",
       "      <td>10_03_2014</td>\n",
       "      <td>mV</td>\n",
       "      <td>pA</td>\n",
       "    </tr>\n",
       "    <tr>\n",
       "      <th>sweep2</th>\n",
       "      <td>100000</td>\n",
       "      <td>PV</td>\n",
       "      <td>10_03_2014</td>\n",
       "      <td>mV</td>\n",
       "      <td>pA</td>\n",
       "    </tr>\n",
       "    <tr>\n",
       "      <th>sweep3</th>\n",
       "      <td>100000</td>\n",
       "      <td>PV</td>\n",
       "      <td>10_03_2014</td>\n",
       "      <td>mV</td>\n",
       "      <td>pA</td>\n",
       "    </tr>\n",
       "    <tr>\n",
       "      <th>sweep4</th>\n",
       "      <td>100000</td>\n",
       "      <td>PV</td>\n",
       "      <td>10_03_2014</td>\n",
       "      <td>mV</td>\n",
       "      <td>pA</td>\n",
       "    </tr>\n",
       "    <tr>\n",
       "      <th>sweep5</th>\n",
       "      <td>100000</td>\n",
       "      <td>PV</td>\n",
       "      <td>10_03_2014</td>\n",
       "      <td>mV</td>\n",
       "      <td>pA</td>\n",
       "    </tr>\n",
       "  </tbody>\n",
       "</table>\n",
       "</div>"
      ],
      "text/plain": [
       "            fs celltype        date ch1_units ch2_units\n",
       "sweep1  100000       PV  10_03_2014        mV        pA\n",
       "sweep2  100000       PV  10_03_2014        mV        pA\n",
       "sweep3  100000       PV  10_03_2014        mV        pA\n",
       "sweep4  100000       PV  10_03_2014        mV        pA\n",
       "sweep5  100000       PV  10_03_2014        mV        pA"
      ]
     },
     "execution_count": 38,
     "metadata": {},
     "output_type": "execute_result"
    }
   ],
   "source": [
    "meta.head()"
   ]
  },
  {
   "cell_type": "markdown",
   "metadata": {
    "collapsed": true
   },
   "source": [
    "* Notice that in our meta data, we have information about the sampling rate (fs), celltype, date of recording, units for ch1 data, and units for ch2 data for each sweep in the binary file that we loaded.\n",
    "* Though the channels aren't labeled, we can determine what each represents by the their units (pico-amps or milli-volts in this case)"
   ]
  },
  {
   "cell_type": "code",
   "execution_count": 31,
   "metadata": {
    "collapsed": false
   },
   "outputs": [
    {
     "data": {
      "text/html": [
       "<div>\n",
       "<style>\n",
       "    .dataframe thead tr:only-child th {\n",
       "        text-align: right;\n",
       "    }\n",
       "\n",
       "    .dataframe thead th {\n",
       "        text-align: left;\n",
       "    }\n",
       "\n",
       "    .dataframe tbody tr th {\n",
       "        vertical-align: top;\n",
       "    }\n",
       "</style>\n",
       "<table border=\"1\" class=\"dataframe\">\n",
       "  <thead>\n",
       "    <tr style=\"text-align: right;\">\n",
       "      <th></th>\n",
       "      <th>ch1_sweep1</th>\n",
       "      <th>ch2_sweep1</th>\n",
       "      <th>ch1_sweep2</th>\n",
       "      <th>ch2_sweep2</th>\n",
       "      <th>ch1_sweep3</th>\n",
       "      <th>ch2_sweep3</th>\n",
       "      <th>ch1_sweep4</th>\n",
       "      <th>ch2_sweep4</th>\n",
       "      <th>ch1_sweep5</th>\n",
       "      <th>ch2_sweep5</th>\n",
       "      <th>...</th>\n",
       "      <th>ch1_sweep16</th>\n",
       "      <th>ch2_sweep16</th>\n",
       "      <th>ch1_sweep17</th>\n",
       "      <th>ch2_sweep17</th>\n",
       "      <th>ch1_sweep18</th>\n",
       "      <th>ch2_sweep18</th>\n",
       "      <th>ch1_sweep19</th>\n",
       "      <th>ch2_sweep19</th>\n",
       "      <th>ch1_sweep20</th>\n",
       "      <th>ch2_sweep20</th>\n",
       "    </tr>\n",
       "  </thead>\n",
       "  <tbody>\n",
       "    <tr>\n",
       "      <th>0.00000</th>\n",
       "      <td>-48.889160</td>\n",
       "      <td>0.0</td>\n",
       "      <td>-49.652100</td>\n",
       "      <td>0.0</td>\n",
       "      <td>-49.224854</td>\n",
       "      <td>0.0</td>\n",
       "      <td>-48.675537</td>\n",
       "      <td>0.0</td>\n",
       "      <td>-48.187256</td>\n",
       "      <td>0.0</td>\n",
       "      <td>...</td>\n",
       "      <td>-51.330566</td>\n",
       "      <td>0.0</td>\n",
       "      <td>-52.947998</td>\n",
       "      <td>0.0</td>\n",
       "      <td>-55.236816</td>\n",
       "      <td>0.0</td>\n",
       "      <td>-52.856445</td>\n",
       "      <td>0.0</td>\n",
       "      <td>-53.619385</td>\n",
       "      <td>0.0</td>\n",
       "    </tr>\n",
       "    <tr>\n",
       "      <th>0.00001</th>\n",
       "      <td>-49.011230</td>\n",
       "      <td>0.0</td>\n",
       "      <td>-49.926758</td>\n",
       "      <td>0.0</td>\n",
       "      <td>-49.194336</td>\n",
       "      <td>0.0</td>\n",
       "      <td>-48.583984</td>\n",
       "      <td>0.0</td>\n",
       "      <td>-47.912598</td>\n",
       "      <td>0.0</td>\n",
       "      <td>...</td>\n",
       "      <td>-51.300049</td>\n",
       "      <td>0.0</td>\n",
       "      <td>-52.947998</td>\n",
       "      <td>0.0</td>\n",
       "      <td>-55.206299</td>\n",
       "      <td>0.0</td>\n",
       "      <td>-52.917480</td>\n",
       "      <td>0.0</td>\n",
       "      <td>-53.466797</td>\n",
       "      <td>0.0</td>\n",
       "    </tr>\n",
       "    <tr>\n",
       "      <th>0.00002</th>\n",
       "      <td>-49.072266</td>\n",
       "      <td>0.0</td>\n",
       "      <td>-49.743652</td>\n",
       "      <td>0.0</td>\n",
       "      <td>-49.255371</td>\n",
       "      <td>0.0</td>\n",
       "      <td>-48.400879</td>\n",
       "      <td>0.0</td>\n",
       "      <td>-47.882080</td>\n",
       "      <td>0.0</td>\n",
       "      <td>...</td>\n",
       "      <td>-51.086426</td>\n",
       "      <td>0.0</td>\n",
       "      <td>-52.856445</td>\n",
       "      <td>0.0</td>\n",
       "      <td>-55.023193</td>\n",
       "      <td>0.0</td>\n",
       "      <td>-53.100586</td>\n",
       "      <td>0.0</td>\n",
       "      <td>-53.833008</td>\n",
       "      <td>0.0</td>\n",
       "    </tr>\n",
       "    <tr>\n",
       "      <th>0.00003</th>\n",
       "      <td>-48.980713</td>\n",
       "      <td>0.0</td>\n",
       "      <td>-49.682617</td>\n",
       "      <td>0.0</td>\n",
       "      <td>-49.163818</td>\n",
       "      <td>0.0</td>\n",
       "      <td>-48.492432</td>\n",
       "      <td>0.0</td>\n",
       "      <td>-48.095703</td>\n",
       "      <td>0.0</td>\n",
       "      <td>...</td>\n",
       "      <td>-50.994873</td>\n",
       "      <td>0.0</td>\n",
       "      <td>-52.917480</td>\n",
       "      <td>0.0</td>\n",
       "      <td>-55.023193</td>\n",
       "      <td>0.0</td>\n",
       "      <td>-52.917480</td>\n",
       "      <td>0.0</td>\n",
       "      <td>-53.833008</td>\n",
       "      <td>0.0</td>\n",
       "    </tr>\n",
       "    <tr>\n",
       "      <th>0.00004</th>\n",
       "      <td>-49.041748</td>\n",
       "      <td>0.0</td>\n",
       "      <td>-49.774170</td>\n",
       "      <td>0.0</td>\n",
       "      <td>-49.041748</td>\n",
       "      <td>0.0</td>\n",
       "      <td>-48.553467</td>\n",
       "      <td>0.0</td>\n",
       "      <td>-48.065186</td>\n",
       "      <td>0.0</td>\n",
       "      <td>...</td>\n",
       "      <td>-51.422119</td>\n",
       "      <td>0.0</td>\n",
       "      <td>-53.100586</td>\n",
       "      <td>0.0</td>\n",
       "      <td>-55.358887</td>\n",
       "      <td>0.0</td>\n",
       "      <td>-52.886963</td>\n",
       "      <td>0.0</td>\n",
       "      <td>-53.619385</td>\n",
       "      <td>0.0</td>\n",
       "    </tr>\n",
       "  </tbody>\n",
       "</table>\n",
       "<p>5 rows × 40 columns</p>\n",
       "</div>"
      ],
      "text/plain": [
       "         ch1_sweep1  ch2_sweep1  ch1_sweep2  ch2_sweep2  ch1_sweep3  \\\n",
       "0.00000  -48.889160         0.0  -49.652100         0.0  -49.224854   \n",
       "0.00001  -49.011230         0.0  -49.926758         0.0  -49.194336   \n",
       "0.00002  -49.072266         0.0  -49.743652         0.0  -49.255371   \n",
       "0.00003  -48.980713         0.0  -49.682617         0.0  -49.163818   \n",
       "0.00004  -49.041748         0.0  -49.774170         0.0  -49.041748   \n",
       "\n",
       "         ch2_sweep3  ch1_sweep4  ch2_sweep4  ch1_sweep5  ch2_sweep5  \\\n",
       "0.00000         0.0  -48.675537         0.0  -48.187256         0.0   \n",
       "0.00001         0.0  -48.583984         0.0  -47.912598         0.0   \n",
       "0.00002         0.0  -48.400879         0.0  -47.882080         0.0   \n",
       "0.00003         0.0  -48.492432         0.0  -48.095703         0.0   \n",
       "0.00004         0.0  -48.553467         0.0  -48.065186         0.0   \n",
       "\n",
       "            ...       ch1_sweep16  ch2_sweep16  ch1_sweep17  ch2_sweep17  \\\n",
       "0.00000     ...        -51.330566          0.0   -52.947998          0.0   \n",
       "0.00001     ...        -51.300049          0.0   -52.947998          0.0   \n",
       "0.00002     ...        -51.086426          0.0   -52.856445          0.0   \n",
       "0.00003     ...        -50.994873          0.0   -52.917480          0.0   \n",
       "0.00004     ...        -51.422119          0.0   -53.100586          0.0   \n",
       "\n",
       "         ch1_sweep18  ch2_sweep18  ch1_sweep19  ch2_sweep19  ch1_sweep20  \\\n",
       "0.00000   -55.236816          0.0   -52.856445          0.0   -53.619385   \n",
       "0.00001   -55.206299          0.0   -52.917480          0.0   -53.466797   \n",
       "0.00002   -55.023193          0.0   -53.100586          0.0   -53.833008   \n",
       "0.00003   -55.023193          0.0   -52.917480          0.0   -53.833008   \n",
       "0.00004   -55.358887          0.0   -52.886963          0.0   -53.619385   \n",
       "\n",
       "         ch2_sweep20  \n",
       "0.00000          0.0  \n",
       "0.00001          0.0  \n",
       "0.00002          0.0  \n",
       "0.00003          0.0  \n",
       "0.00004          0.0  \n",
       "\n",
       "[5 rows x 40 columns]"
      ]
     },
     "execution_count": 31,
     "metadata": {},
     "output_type": "execute_result"
    }
   ],
   "source": [
    "data.head()"
   ]
  },
  {
   "cell_type": "markdown",
   "metadata": {},
   "source": [
    "* Notice that data contains the time series for each channel on each sweep. The indexes here represent the time points that each value was acquired at"
   ]
  },
  {
   "cell_type": "markdown",
   "metadata": {},
   "source": [
    "### Some quick pandas tricks for inspecting data frames"
   ]
  },
  {
   "cell_type": "code",
   "execution_count": 74,
   "metadata": {
    "collapsed": false
   },
   "outputs": [
    {
     "name": "stdout",
     "output_type": "stream",
     "text": [
      "Rows in meta:\n",
      "Index(['sweep1', 'sweep2', 'sweep3', 'sweep4', 'sweep5', 'sweep6', 'sweep7',\n",
      "       'sweep8', 'sweep9', 'sweep10', 'sweep11', 'sweep12', 'sweep13',\n",
      "       'sweep14', 'sweep15', 'sweep16', 'sweep17', 'sweep18', 'sweep19',\n",
      "       'sweep20'],\n",
      "      dtype='object')\n",
      "Number of sweeps:\n",
      "20\n",
      "Columns in meta:\n",
      "Index(['fs', 'celltype', 'date', 'ch1_units', 'ch2_units'], dtype='object')\n"
     ]
    },
    {
     "data": {
      "text/plain": [
       "sweep1    100000\n",
       "sweep2    100000\n",
       "sweep3    100000\n",
       "sweep4    100000\n",
       "sweep5    100000\n",
       "Name: fs, dtype: object"
      ]
     },
     "execution_count": 74,
     "metadata": {},
     "output_type": "execute_result"
    }
   ],
   "source": [
    "# Let's check out the meta data frame\n",
    "\n",
    "# How many sweeps are there?\n",
    "print('Rows in meta:')\n",
    "print(meta.index)\n",
    "\n",
    "# To only see the number, try:\n",
    "print('Number of sweeps:')\n",
    "print(len(meta.index))\n",
    "\n",
    "# What information do we have about each sweep? i.e. what are the column names?\n",
    "print('Columns in meta:')\n",
    "print(meta.columns)\n",
    "\n",
    "# Can I see only the information for one column?\n",
    "cols = meta.columns\n",
    "firstCol = cols[0]\n",
    "OneCol = meta[firstCol]\n",
    "OneCol.head()"
   ]
  },
  {
   "cell_type": "markdown",
   "metadata": {},
   "source": [
    "## Visualize the raw data\n",
    "* Before we get into analysis, it's always a good idea to inspect your raw data to make sure you know what's there, and that it was loaded properly"
   ]
  },
  {
   "cell_type": "code",
   "execution_count": 46,
   "metadata": {
    "collapsed": true
   },
   "outputs": [],
   "source": [
    "# Use pandas built in filter function to assign all ch1 traces to a data frame called voltage traces and all\n",
    "# ch2 traces to a data frame called current_traces\n",
    "\n",
    "# Using regular expressions to filter\n",
    "\n",
    "voltage_traces = data.filter(regex=\"ch1.\")\n",
    "current_traces = data.filter(regex=\"ch2.\")"
   ]
  },
  {
   "cell_type": "markdown",
   "metadata": {},
   "source": [
    "Plotting both the current traces and the voltage traces using matplotlib."
   ]
  },
  {
   "cell_type": "code",
   "execution_count": 108,
   "metadata": {
    "collapsed": false
   },
   "outputs": [
    {
     "data": {
      "image/png": "[encoded data removed]",
      "text/plain": [
       "<matplotlib.figure.Figure at 0x7fc23ad834e0>"
      ]
     },
     "metadata": {},
     "output_type": "display_data"
    }
   ],
   "source": [
    "fig, ax = plt.subplots(2,1,sharex=True)\n",
    "ax[0].plot(voltage_traces)\n",
    "ax[0].set_ylabel(meta['ch1_units'][0])\n",
    "ax[0].legend(voltage_traces.columns, loc='upper right')\n",
    "ax[1].plot(current_traces)\n",
    "ax[1].set_ylabel(meta['ch2_units'][0])\n",
    "ax[1].set_xlabel('Time (s)')\n",
    "ax[1].legend(current_traces.columns, loc='upper right')\n",
    "plt.show()"
   ]
  },
  {
   "cell_type": "markdown",
   "metadata": {},
   "source": [
    "This is really messy.\n",
    "#### Excercise: \n",
    "* Try plotting only the last sweep of both current and voltage so that we can see what's going on more easily"
   ]
  },
  {
   "cell_type": "code",
   "execution_count": 69,
   "metadata": {
    "collapsed": false
   },
   "outputs": [
    {
     "name": "stdout",
     "output_type": "stream",
     "text": [
      "ch1_sweep20\n",
      "ch2_sweep20\n"
     ]
    }
   ],
   "source": [
    "# First find the column name for the last sweep in each df using the \"tricks\" above:\n",
    "lastSweep_voltage = voltage_traces.columns[-1]\n",
    "lastSweep_current = current_traces.columns[-1]\n",
    "\n",
    "print(lastSweep_voltage)\n",
    "print(lastSweep_current)"
   ]
  },
  {
   "cell_type": "code",
   "execution_count": 75,
   "metadata": {
    "collapsed": true
   },
   "outputs": [],
   "source": [
    "# Now, use these id's to select only the column containing the last sweep\n",
    "last_voltage = voltage_traces[lastSweep_voltage]\n",
    "last_current = current_traces[lastSweep_current]"
   ]
  },
  {
   "cell_type": "code",
   "execution_count": 106,
   "metadata": {
    "collapsed": false
   },
   "outputs": [
    {
     "data": {
      "image/png": "[encoded data removed]",
      "text/plain": [
       "<matplotlib.figure.Figure at 0x7fc23ad042e8>"
      ]
     },
     "metadata": {},
     "output_type": "display_data"
    }
   ],
   "source": [
    "# Now use these column id's to only plot the traces for these sweeps\n",
    "\n",
    "fig, ax = plt.subplots(2,1,sharex=True)\n",
    "ax[0].plot(last_voltage)\n",
    "ax[0].set_ylabel(meta['ch1_units'][0])\n",
    "ax[0].legend([lastSweep_voltage], loc='upper right')\n",
    "ax[1].plot(last_current)\n",
    "ax[1].set_ylabel(meta['ch2_units'][0])\n",
    "ax[1].set_xlabel('Time (s)')\n",
    "ax[1].legend([lastSweep_current], loc='upper right')\n",
    "plt.show()"
   ]
  },
  {
   "cell_type": "markdown",
   "metadata": {},
   "source": [
    "That looks better, but can we zoom in on some of the spikes in the voltage traces?\n",
    "#### Excercise, plot only time points from 0.2 to 0.21 seconds"
   ]
  },
  {
   "cell_type": "code",
   "execution_count": 97,
   "metadata": {
    "collapsed": true
   },
   "outputs": [],
   "source": [
    "# define the range if indexes you want to select\n",
    "inds = data.index[(0.2<data.index) & (data.index < 0.21)]"
   ]
  },
  {
   "cell_type": "code",
   "execution_count": 105,
   "metadata": {
    "collapsed": false
   },
   "outputs": [
    {
     "data": {
      "image/png": "[encoded data removed]",
      "text/plain": [
       "<matplotlib.figure.Figure at 0x7fc24269dbe0>"
      ]
     },
     "metadata": {},
     "output_type": "display_data"
    }
   ],
   "source": [
    "# Now repeat the plot above, only for the given indeces\n",
    "fig, ax = plt.subplots(2,1,sharex=True)\n",
    "ax[0].plot(last_voltage[inds])\n",
    "ax[0].set_ylabel(meta['ch1_units'][0])\n",
    "ax[0].legend([lastSweep_voltage], loc='upper right')\n",
    "ax[1].plot(last_current[inds])\n",
    "ax[1].set_ylabel(meta['ch2_units'][0])\n",
    "ax[1].set_xlabel('Time (s)')\n",
    "ax[1].legend([lastSweep_current], loc='upper right')\n",
    "plt.show()"
   ]
  },
  {
   "cell_type": "markdown",
   "metadata": {},
   "source": [
    "## Data Analysis for a single cell"
   ]
  },
  {
   "cell_type": "code",
   "execution_count": null,
   "metadata": {
    "collapsed": true
   },
   "outputs": [],
   "source": []
  }
 ],
 "metadata": {
  "kernelspec": {
   "display_name": "Python 2",
   "language": "python",
   "name": "python2"
  },
  "language_info": {
   "codemirror_mode": {
    "name": "ipython",
    "version": 2
   },
   "file_extension": ".py",
   "mimetype": "text/x-python",
   "name": "python",
   "nbconvert_exporter": "python",
   "pygments_lexer": "ipython2",
   "version": "2.7.13"
  }
 },
 "nbformat": 4,
 "nbformat_minor": 2
}
