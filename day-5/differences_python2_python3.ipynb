{
 "cells": [
  {
   "cell_type": "markdown",
   "metadata": {},
   "source": [
    "# A brief introduction to handling differences in Python Versions 2 and 3. \n",
    "\n",
    "Python has a few different versions available. The most commons ones are Version 2 and Version 3. There are a few key differences between these versions which can cause usability issues (i.e. some code written for python 3 won't run with python 2 without revisions). **This course is used Python Version 3.** However, you may encounter Python version 2, so we would like you to be aware of some of the differences and ways to handle them.  \n",
    "\n",
    "\n",
    "## Documentation for Python version 2:\n",
    "* [Python 2 documentation](https://docs.python.org/2/) - Comprehensive Python documentation for version 2.\n",
    "* More on other [built-in functions](https://docs.python.org/2/library/functions.html) in Python 2\n",
    "* [Library Reference](https://docs.python.org/2/library/index.html) - Extensive information about the standard Python 2 library \n",
    "\n",
    "\n"
   ]
  },
  {
   "cell_type": "markdown",
   "metadata": {},
   "source": [
    "## How to tell which version of Python you are running\n",
    "\n",
    "You may have more than one version of Python installed on your computer. \n",
    "\n",
    "There are a few different ways to determine which version of Python you are running:\n",
    "> 1. From a command line, type `python -V`   \n",
    "> 2. From a python shell/notebook, you can import the `sys` module (this can also be incorparted into scripts that you write to checking that the correct version of Python is being used, or to display an error warning the user that it is not correct): "
   ]
  },
  {
   "cell_type": "code",
   "execution_count": 6,
   "metadata": {
    "collapsed": false
   },
   "outputs": [
    {
     "data": {
      "text/plain": [
       "'3.5.3 |Anaconda custom (x86_64)| (default, Mar  6 2017, 12:15:08) \\n[GCC 4.2.1 Compatible Apple LLVM 6.0 (clang-600.0.57)]'"
      ]
     },
     "execution_count": 6,
     "metadata": {},
     "output_type": "execute_result"
    }
   ],
   "source": [
    "import sys\n",
    "sys.version"
   ]
  },
  {
   "cell_type": "markdown",
   "metadata": {},
   "source": [
    "## Division  \n",
    "In Python 2, the / symbol performs what is known as \"*classic*\" division; this means that the decimal points are truncated. This happens because we asked Python to compute a division on two `integers` and the ouput, that should be a `float`, comes out also as an integer. Python 3 is smarter and a single / performs \"*true*\" division.\n",
    "\n",
    "So what do we do if we are using Python 2 to avoid this?\n",
    "\n",
    "There are two options:\n",
    "\n",
    "You could specify one of the numbers to be a float:"
   ]
  },
  {
   "cell_type": "code",
   "execution_count": null,
   "metadata": {
    "collapsed": true
   },
   "outputs": [],
   "source": [
    "# Specifying one of the numbers as a float\n",
    "3.0/2"
   ]
  },
  {
   "cell_type": "code",
   "execution_count": null,
   "metadata": {
    "collapsed": true
   },
   "outputs": [],
   "source": [
    "# Works for either number\n",
    "3/2.0"
   ]
  },
  {
   "cell_type": "markdown",
   "metadata": {},
   "source": [
    "Or you can \"cast\" the type using a function that basically turns integers into floats. This function, unsurprisingly, is called float()."
   ]
  },
  {
   "cell_type": "code",
   "execution_count": null,
   "metadata": {
    "collapsed": true
   },
   "outputs": [],
   "source": [
    "float(3)/2"
   ]
  },
  {
   "cell_type": "markdown",
   "metadata": {},
   "source": [
    "Or we can do something even cooler which is traveling back to the future..."
   ]
  },
  {
   "cell_type": "code",
   "execution_count": null,
   "metadata": {
    "collapsed": true
   },
   "outputs": [],
   "source": [
    "from __future__ import division\n",
    "3/2\n",
    "# you can do this at the beginning of your notebook and from there on you will be able to use \n",
    "# the division as in Python 3."
   ]
  },
  {
   "cell_type": "markdown",
   "metadata": {},
   "source": [
    "## The `print` function\n",
    "You may recall that to use the `print` function in Python 3, the syntax is:\n",
    "   > `print('Text to print')`\n",
    "   \n",
    "In Python 2, paratheses were not necessary to print text, the syntax was:\n",
    "> `print 'Text to print'`\n",
    "\n",
    "If you try using the `print` function in Python 3 with the syntax from Python 2, you will get an error, go ahead and try running the cell below to see it. "
   ]
  },
  {
   "cell_type": "code",
   "execution_count": 2,
   "metadata": {
    "collapsed": false
   },
   "outputs": [
    {
     "ename": "SyntaxError",
     "evalue": "Missing parentheses in call to 'print' (<ipython-input-2-707b7148c641>, line 2)",
     "output_type": "error",
     "traceback": [
      "\u001b[0;36m  File \u001b[0;32m\"<ipython-input-2-707b7148c641>\"\u001b[0;36m, line \u001b[0;32m2\u001b[0m\n\u001b[0;31m    print 'Hello, Neurocoders!'\u001b[0m\n\u001b[0m                              ^\u001b[0m\n\u001b[0;31mSyntaxError\u001b[0m\u001b[0;31m:\u001b[0m Missing parentheses in call to 'print'\n"
     ]
    }
   ],
   "source": [
    "# You can use print to print out anything you want\n",
    "print 'Hello, Neurocoders!'"
   ]
  },
  {
   "cell_type": "markdown",
   "metadata": {},
   "source": [
    "The error message indicated that you are missing paratheses. So if you are using Python 3, you will have to use `print()` as follows. If you are using Python 2, you can import the print() function from the future. "
   ]
  },
  {
   "cell_type": "code",
   "execution_count": 3,
   "metadata": {
    "collapsed": false
   },
   "outputs": [
    {
     "name": "stdout",
     "output_type": "stream",
     "text": [
      "Hello, Neurocoders!\n"
     ]
    }
   ],
   "source": [
    "print('Hello, Neurocoders!')"
   ]
  },
  {
   "cell_type": "code",
   "execution_count": 4,
   "metadata": {
    "collapsed": false
   },
   "outputs": [
    {
     "name": "stdout",
     "output_type": "stream",
     "text": [
      "Hello, Neurocoders!\n"
     ]
    }
   ],
   "source": [
    "from __future__ import print_function \n",
    "print('Hello, Neurocoders!')"
   ]
  },
  {
   "cell_type": "code",
   "execution_count": null,
   "metadata": {
    "collapsed": true
   },
   "outputs": [],
   "source": []
  }
 ],
 "metadata": {
  "kernelspec": {
   "display_name": "Python 3",
   "language": "python",
   "name": "python3"
  },
  "language_info": {
   "codemirror_mode": {
    "name": "ipython",
    "version": 3
   },
   "file_extension": ".py",
   "mimetype": "text/x-python",
   "name": "python",
   "nbconvert_exporter": "python",
   "pygments_lexer": "ipython3",
   "version": "3.5.3"
  }
 },
 "nbformat": 4,
 "nbformat_minor": 2
}
