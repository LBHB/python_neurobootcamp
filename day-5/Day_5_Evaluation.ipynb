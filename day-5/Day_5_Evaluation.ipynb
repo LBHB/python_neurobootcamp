{
 "cells": [
  {
   "cell_type": "markdown",
   "metadata": {},
   "source": [
    "## Final Project\n",
    "\n",
    "For your final project, you will use the imaris dataset in `\"data/imaris/\"`. You are allowed to pair together, but both of you must submit your notebook to Ted at laderast@ohsu.edu.\n",
    "\n",
    "For your final project, you need to:\n",
    "\n",
    "1) Load `pandas` and `seaborn`. \n",
    "\n",
    "2) Load all the files from the appropriate folder using `read_csv` into a list of `DataFrame`s. Add a column to each `DataFrame` that contains the file name (that is, \"file1.csv\", \"file2.csv\", etc).\n",
    "\n",
    "3) Combine each `DataFrame` in the list into a single `DataFrame`.\n",
    "\n",
    "4) Produce a boxplot figure of the Areas by file name using `seaborn`.\n"
   ]
  },
  {
   "cell_type": "code",
   "execution_count": null,
   "metadata": {
    "collapsed": true
   },
   "outputs": [],
   "source": [
    "##import the correct modules here\n",
    "%matplotlib inline\n",
    "\n",
    "##Put your loading code here\n",
    "##There are multiple files, so you'll need to load them all\n",
    "\n"
   ]
  },
  {
   "cell_type": "code",
   "execution_count": null,
   "metadata": {
    "collapsed": false
   },
   "outputs": [],
   "source": [
    "##Combine all the files here\n",
    "##Hint 1: load the files up in a list, then combine them\n",
    "\n",
    "##Hint 2: for each data file you'll need to add a column called\n",
    "##\"file_name\" where each entry is the name of the file.'\n",
    "\n",
    "##Note: for the imaris data, we have only given you the Areas \n",
    "##for each file, so it should simplify printing.\n",
    "\n"
   ]
  },
  {
   "cell_type": "code",
   "execution_count": null,
   "metadata": {
    "collapsed": false
   },
   "outputs": [],
   "source": [
    "##Make your figure here\n",
    "##For the imaris data, plot a boxplot of `Area` where the x variable is the `file_name`. \n",
    "##Find the file with the suspicious areas. Title it `Boxplot of Areas by File`\n"
   ]
  }
 ],
 "metadata": {
  "kernelspec": {
   "display_name": "Python 2",
   "language": "python",
   "name": "python2"
  },
  "language_info": {
   "codemirror_mode": {
    "name": "ipython",
    "version": 2
   },
   "file_extension": ".py",
   "mimetype": "text/x-python",
   "name": "python",
   "nbconvert_exporter": "python",
   "pygments_lexer": "ipython2",
   "version": "2.7.13"
  }
 },
 "nbformat": 4,
 "nbformat_minor": 2
}
