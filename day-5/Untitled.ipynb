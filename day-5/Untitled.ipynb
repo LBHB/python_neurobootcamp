{
 "cells": [
  {
   "cell_type": "markdown",
   "metadata": {},
   "source": [
    "## Final Project\n",
    "\n",
    "For your final project, you will have the choice of two datasets: \n",
    "\n",
    "1) Imaris Data\n",
    "2) Electrophysiology Data\n",
    "\n",
    "For each data type you'll do the following:\n",
    "\n",
    "1) Load all the files from the appropriate folder using `read_csv`\n",
    "2) Combine each file into a single DataFrame\n",
    "3) Produce a figure comparing an output of each file"
   ]
  }
 ],
 "metadata": {
  "kernelspec": {
   "display_name": "Python 3",
   "language": "python",
   "name": "python3"
  },
  "language_info": {
   "codemirror_mode": {
    "name": "ipython",
    "version": 3
   },
   "file_extension": ".py",
   "mimetype": "text/x-python",
   "name": "python",
   "nbconvert_exporter": "python",
   "pygments_lexer": "ipython3",
   "version": "3.6.1"
  }
 },
 "nbformat": 4,
 "nbformat_minor": 2
}
