{
 "cells": [
  {
   "cell_type": "markdown",
   "metadata": {},
   "source": [
    "# Welcome to the Python Neuro Bootcamp!!!\n",
    "\n",
    "<img src=\"http://blog.pascallisch.net/wp-content/uploads/2013/09/python-for-pascal.jpg\" width=\"200\" height=\"200\" />\n",
    "\n",
    "## __What is Python?__  \n",
    "Python is a widely used programming language for general-purpose programming, created by Guido van Rossum and first released in 1991. \n",
    "Python emphasizes code readability and a syntax that allows programmers to express concepts in fewer lines of code than might be used in languages such as C++ or Java. \n",
    "Writing \"*Pythonian*\" code means writing clear, documented code that other people (and you in six months) will understand. \n",
    "\n",
    "The goal of this bootcamp is to introduce you to Python by working through some neuro data sets that we selected based on your interests. But before we jump into hands-on analysis, we will go quickly through some basic concepts of Python programming. \n",
    "\n",
    "** A quick note about python versions. ** Python has a few different versions available. The most commons ones are Version 2 and Version 3. There are a few key differences between these versions which can cause usability issues (i.e. some code written for python 3 won't run with python 2 without revisions). **This course is using Python Version 3.** We will provide some additional resources and information about version 2 on Day 5. \n",
    "\n",
    "## __What are Python's main strengths and why did we choose it for this course?__ \n",
    "- Python is FREE!\n",
    "- Python is becoming the *de facto* standard programming language in Neuroscience.\n",
    "- There is a lot of support online, and it is easy to find an answer to your questions just by googling it.\n",
    "- It is designed to be readable (if you write it to be so!) \n",
    "\n",
    "## __What is the Jupyter notebook and why are we using it for this course?__\n",
    "\n",
    "This is a Jupyter notebook, a space where you can combine text (this is Markdown) and code. It is an awesome educational tool! The best part is that you will be able to interact with anythnig that is written here, test out code, take notes, and make it your own.\n",
    "\n",
    "For more information about the Jupyter notebook and how to use it, check out the [complete guide](https://jupyter.brynmawr.edu/services/public/dblank/Jupyter%20Notebook%20Users%20Manual.ipynb).\n",
    "\n",
    "## __Where to get help:__\n",
    "* [Python HELP](https://www.python.org/about/help/) - Collection of links to documentation if you are new to Python\n",
    "* [Python documentation](https://docs.python.org/3/) - Comprehensive Python documentation for version 3.\n",
    "* **`help()` function** - calling the built-in `help([object]`) function will invoke the python documentation.  \n",
    "* More on other [built-in functions](https://docs.python.org/3/library/functions.html) in Python 3 \n",
    "* [Tutorial](https://docs.python.org/3/tutorial/index.html) - Comprehensive Python tutorial - feel free to browse if you are hungry for more after this course! \n",
    "* [Library Reference](https://docs.python.org/3/library/index.html) - Extensive information about the standard Python library \n",
    "* [Scientific python stack documentation: numpy, scipy, matplotlib](https://scipy.org/docs.html) - Information about some science-specific Python packages\n",
    "* [Stack Overflow](https://stackoverflow.com/) - A general forum commonly used to asked programming questions. Search for answers to your questions before posting your questions!\n",
    "\n",
    "MATLAB-to-Python cheat sheets:  \n",
    "* http://mathesaurus.sourceforge.net/matlab-numpy.html\n",
    "* http://mathesaurus.sourceforge.net/matlab-python-xref.pdf \n"
   ]
  },
  {
   "cell_type": "markdown",
   "metadata": {},
   "source": [
    "## Remember that:\n",
    "\n",
    "* Python is an interpreted language.\n",
    "* It executes commands as it receives them.\n",
    "* It ignores lines that begin with '#'.  These are called 'comments'. \n",
    "* Comments are great, so write them as you go along. You think you will remember, but you know you won't! :)"
   ]
  },
  {
   "cell_type": "markdown",
   "metadata": {},
   "source": [
    "## Outline of this notebook\n",
    "\n",
    "We will go through some basic topics related to coding in Python:\n",
    "\n",
    "1. Intro to Python basic data types\n",
    "    * Numbers\n",
    "    * Printing\n",
    "    * Strings\n",
    "    * Lists\n",
    "    * Booleans, if, elif, else statements\n",
    "    * Dictionaries\n",
    "\n",
    "2. Handling errors\n",
    "\n",
    "3. Easy exercise to tie it all together\n",
    "\n"
   ]
  },
  {
   "cell_type": "markdown",
   "metadata": {},
   "source": [
    "# 1. Data types\n",
    "In Python, a single piece of data is called an *object*, and each object has a specific type. These include simple types like integers, floats, and strings, and more complex types like lists, arrays, and dictionaries. We will breifly introduce some of the commonly used data types. \n",
    "\n",
    "## Numbers\n",
    "Python has various \"types\" of numbers (numeric literals). We will mainly focus on **integers** (referred to as `int`) and **floating point numbers** (referred to as `float`).\n",
    " \n",
    "As you all know, integers are whole numbers that can be written without the fractional component, but what about \"*floating point numbers*\"? Floating point numbers in Python are notable because they have a decimal point in them, or use an exponential (e) to define the number. \n",
    "\n",
    "For example 2.0 and -2.1 are floating point numbers. 4e2 (4 times 10 to the power of 2) is also an example of a floating point number."
   ]
  },
  {
   "cell_type": "code",
   "execution_count": null,
   "metadata": {
    "collapsed": true
   },
   "outputs": [],
   "source": [
    "int_number = 56"
   ]
  },
  {
   "cell_type": "markdown",
   "metadata": {},
   "source": [
    "In the example above, we created an object named `int_number` with the value 56. If we want to know what type this object has, we can ask Python using the built-in *type( )* function: "
   ]
  },
  {
   "cell_type": "code",
   "execution_count": null,
   "metadata": {
    "collapsed": false
   },
   "outputs": [],
   "source": [
    "type(int_number)"
   ]
  },
  {
   "cell_type": "markdown",
   "metadata": {},
   "source": [
    "Let's look at some easy basic arithmetic operations"
   ]
  },
  {
   "cell_type": "code",
   "execution_count": null,
   "metadata": {
    "collapsed": true
   },
   "outputs": [],
   "source": [
    "a = 1 + 3           # addition\n",
    "b = 1 - 3           # subtraction\n",
    "c = 10.0 * 4        # multiplication \n",
    "d = 10.0 / 4        # division\n",
    "e = 8.5**3          # exponent\n",
    "f = 173 % 12        # modulo (this is super useful!)\n",
    "g = 1e2             # scientific notation  \n",
    "h = 5 * (c + a)     # parentheses for flow control"
   ]
  },
  {
   "cell_type": "markdown",
   "metadata": {},
   "source": [
    "To access any of the values stored in the variables assigned above, we can either simply type the object's name (a, b, c, etc.) or use a `print` statement. Remember we can also use the `type` function to identify the data type of the variable."
   ]
  },
  {
   "cell_type": "code",
   "execution_count": null,
   "metadata": {
    "collapsed": false
   },
   "outputs": [],
   "source": [
    "d"
   ]
  },
  {
   "cell_type": "code",
   "execution_count": null,
   "metadata": {
    "collapsed": false
   },
   "outputs": [],
   "source": [
    "print(d)"
   ]
  },
  {
   "cell_type": "code",
   "execution_count": null,
   "metadata": {
    "collapsed": false
   },
   "outputs": [],
   "source": [
    "type(d)"
   ]
  },
  {
   "cell_type": "code",
   "execution_count": null,
   "metadata": {
    "collapsed": false
   },
   "outputs": [],
   "source": [
    "type(a)"
   ]
  },
  {
   "cell_type": "markdown",
   "metadata": {},
   "source": [
    "## Strings\n",
    "\n",
    "Strings are used in Python to record text information, such as a name. Strings in Python are actually a sequence, which basically means Python keeps track of every element in the string as a sequence. We can create an object to hold a string or use them directly. "
   ]
  },
  {
   "cell_type": "code",
   "execution_count": null,
   "metadata": {
    "collapsed": false
   },
   "outputs": [],
   "source": [
    "# Assign the text 'Hello Neurocoders' to the variable s:\n",
    "my_string = \"Hello, Neurocoders!\"\n",
    "print(my_string)\n",
    "type(my_string)"
   ]
  },
  {
   "cell_type": "code",
   "execution_count": null,
   "metadata": {
    "collapsed": false
   },
   "outputs": [],
   "source": [
    "# Using strings directly:\n",
    "print('Hello again!')"
   ]
  },
  {
   "cell_type": "markdown",
   "metadata": {},
   "source": [
    "Let's go over some basic and fun string manipulations.\n",
    "Something very useful is figuring out the length of a string. To do that you can use another\n",
    "built-in function *len()*."
   ]
  },
  {
   "cell_type": "code",
   "execution_count": null,
   "metadata": {
    "collapsed": false
   },
   "outputs": [],
   "source": [
    "len(my_string)\n",
    "\n",
    "# Note that the count below includes spaces!"
   ]
  },
  {
   "cell_type": "markdown",
   "metadata": {},
   "source": [
    "### Indexing\n",
    "Indexing is something that we need to learn from day one! Doing it with strings is fun and easy. So, let's start indexing! <font color='red'>IMPORTANT NOTE: in Python the first index is a __0__!!!</font> In some languages (such as R) indexing starts at 1.  \n",
    "\n",
    "Conviniently, strings are sequences, which means Python can use indexes to call specific parts of the sequence. Let's learn how this works.\n",
    "\n",
    "Python uses brackets [ ] after an object to call its index. "
   ]
  },
  {
   "cell_type": "code",
   "execution_count": null,
   "metadata": {
    "collapsed": false
   },
   "outputs": [],
   "source": [
    "# Show first element (in this case a letter)\n",
    "my_string[0]\n",
    "\n",
    "# now try different indexes"
   ]
  },
  {
   "cell_type": "markdown",
   "metadata": {},
   "source": [
    "### Slicing\n",
    "We can use a \":\" to perform slicing which grabs everything up to a designated point. For example:"
   ]
  },
  {
   "cell_type": "code",
   "execution_count": null,
   "metadata": {
    "collapsed": false
   },
   "outputs": [],
   "source": [
    "# Grab everything past the first term all the way to the length of s which is len(s)\n",
    "my_string[1:]"
   ]
  },
  {
   "cell_type": "markdown",
   "metadata": {},
   "source": [
    "Note that by doing this you did not change the content of the object *s*"
   ]
  },
  {
   "cell_type": "code",
   "execution_count": null,
   "metadata": {
    "collapsed": false
   },
   "outputs": [],
   "source": [
    "my_string"
   ]
  },
  {
   "cell_type": "code",
   "execution_count": null,
   "metadata": {
    "collapsed": false
   },
   "outputs": [],
   "source": [
    "# Grab everything UP TO the 3rd index\n",
    "my_string[:3]"
   ]
  },
  {
   "cell_type": "markdown",
   "metadata": {},
   "source": [
    "Note on the above slicing. Here we're telling Python to grab everything from 0 up to 3. **This doesn't include the 3rd index**. You'll notice this a lot in Python, statements are usually in the context of \"up to, but not including\" – in math it would be [ )."
   ]
  },
  {
   "cell_type": "markdown",
   "metadata": {},
   "source": [
    "We can also use index and slice notation to grab elements of a sequence by a specified step size (the default is 1). For instance we can use two colons in a row and then a number specifying the frequency to grab elements."
   ]
  },
  {
   "cell_type": "code",
   "execution_count": null,
   "metadata": {
    "collapsed": false
   },
   "outputs": [],
   "source": [
    "# Grab everything, but go in step sizes of 2\n",
    "my_string[::2]"
   ]
  },
  {
   "cell_type": "markdown",
   "metadata": {},
   "source": [
    "### String Properties\n",
    "It is important to note that strings have an important property known as immutability. This means that once a string is created, the elements within it cannot be changed or replaced."
   ]
  },
  {
   "cell_type": "code",
   "execution_count": null,
   "metadata": {
    "collapsed": false
   },
   "outputs": [],
   "source": [
    "# If you try to change the first letter to 'x' for example...\n",
    "my_string[0] = 'x'"
   ]
  },
  {
   "cell_type": "markdown",
   "metadata": {},
   "source": [
    "What we can do is manipulate strings using some basic notation, just as we did with numbers:\n",
    "\n",
    "The + sign will concatenate two strings:"
   ]
  },
  {
   "cell_type": "code",
   "execution_count": null,
   "metadata": {
    "collapsed": false
   },
   "outputs": [],
   "source": [
    "my_string = my_string + \" Let's learn Python together!\"\n",
    "my_string"
   ]
  },
  {
   "cell_type": "markdown",
   "metadata": {},
   "source": [
    "Note: in the above example, we overwrote the contents of the object my_string (which previously contained 'Hello Neurocoders').  \n",
    "\n",
    "\\* will repeat the preceding sequence for the specified number of times"
   ]
  },
  {
   "cell_type": "code",
   "execution_count": null,
   "metadata": {
    "collapsed": false
   },
   "outputs": [],
   "source": [
    "letter = 'z'\n",
    "print(letter*10)\n",
    "\n",
    "letter = 'ab'\n",
    "print (letter*6)"
   ]
  },
  {
   "cell_type": "markdown",
   "metadata": {},
   "source": [
    "### Basic built-in string methods\n",
    "\n",
    "Objects in Python usually have built-in *methods*. These methods are functions inside the object that can perform actions or commands on the object itself.\n",
    "\n",
    "We use (or call) methods by writing the object's name with a period, followed by the method name, and any parameters passed to the method in paratheses. Thus, methods are in the form:\n",
    "\n",
    "> `object.method(parameters)`\n",
    "\n",
    "Where parameters are extra arguments we can pass into the method. You can press tab after the period to learn about methods associated with that particular object type."
   ]
  },
  {
   "cell_type": "code",
   "execution_count": null,
   "metadata": {
    "collapsed": true
   },
   "outputs": [],
   "source": [
    "# try identifying what methods are associated with the object my_string:\n",
    "my_string."
   ]
  },
  {
   "cell_type": "markdown",
   "metadata": {},
   "source": [
    "Here are a few useful built-in methods for strings:"
   ]
  },
  {
   "cell_type": "code",
   "execution_count": null,
   "metadata": {
    "collapsed": true
   },
   "outputs": [],
   "source": [
    "my_string.replace(\"Neurocoders\",\"Neuroscientists\")"
   ]
  },
  {
   "cell_type": "code",
   "execution_count": null,
   "metadata": {
    "collapsed": true
   },
   "outputs": [],
   "source": [
    "# Upper Case a string\n",
    "my_string.upper()"
   ]
  },
  {
   "cell_type": "code",
   "execution_count": null,
   "metadata": {
    "collapsed": true
   },
   "outputs": [],
   "source": [
    "# Lower case\n",
    "my_string.lower()"
   ]
  },
  {
   "cell_type": "code",
   "execution_count": null,
   "metadata": {
    "collapsed": true
   },
   "outputs": [],
   "source": [
    "# Split the words \n",
    "my_string.split()"
   ]
  },
  {
   "cell_type": "code",
   "execution_count": null,
   "metadata": {
    "collapsed": true
   },
   "outputs": [],
   "source": [
    "# Split by a specific element (doesn't include the element that was split on)\n",
    "my_string.split('N')"
   ]
  },
  {
   "cell_type": "markdown",
   "metadata": {},
   "source": [
    "Note that the object *s* does not change what it is assigned to."
   ]
  },
  {
   "cell_type": "markdown",
   "metadata": {},
   "source": [
    "## Lists\n",
    "\n",
    "Lists can be thought of the most general version of a *sequence* in Python. Lists are one of the most versatile data type in Python. Lists work similarly to strings – you can use the len() function to identify how many items are in a list, and square brackets [ ] to access specific data, with the first element at index 0.\n",
    "\n",
    "Lists are constructed with brackets [] and commas separating each element in the list."
   ]
  },
  {
   "cell_type": "code",
   "execution_count": null,
   "metadata": {
    "collapsed": true
   },
   "outputs": [],
   "source": [
    "# Assign a list to a variable named my_list\n",
    "my_list = [1,2,3]"
   ]
  },
  {
   "cell_type": "markdown",
   "metadata": {},
   "source": [
    "Unlike strings, lists are mutable, meaning the elements inside a list can be changed. Note that the content of my_list changes when you re-assign one element to something else. Also note that by doing so we have changed the original list."
   ]
  },
  {
   "cell_type": "code",
   "execution_count": null,
   "metadata": {
    "collapsed": true
   },
   "outputs": [],
   "source": [
    "my_list[0]='one'\n",
    "my_list"
   ]
  },
  {
   "cell_type": "markdown",
   "metadata": {},
   "source": [
    "Indexing, slicing, and basic arithmetic manipulation work just as they did in strings. Try grabbing only the last element of my_list and then check if you changed what my_list points to."
   ]
  },
  {
   "cell_type": "code",
   "execution_count": null,
   "metadata": {
    "collapsed": true
   },
   "outputs": [],
   "source": [
    "# Write here\n"
   ]
  },
  {
   "cell_type": "code",
   "execution_count": null,
   "metadata": {
    "collapsed": true
   },
   "outputs": [],
   "source": [
    "my_list + [4.0]"
   ]
  },
  {
   "cell_type": "code",
   "execution_count": null,
   "metadata": {
    "collapsed": true
   },
   "outputs": [],
   "source": [
    "my_list"
   ]
  },
  {
   "cell_type": "markdown",
   "metadata": {},
   "source": [
    "You would have to reassign the list to make the change permanent."
   ]
  },
  {
   "cell_type": "code",
   "execution_count": null,
   "metadata": {
    "collapsed": true
   },
   "outputs": [],
   "source": [
    "# Reassign\n",
    "my_list = my_list + [4.0]\n",
    "my_list"
   ]
  },
  {
   "cell_type": "markdown",
   "metadata": {},
   "source": [
    "### Basic built-in list methods\n",
    "\n",
    "Use the append() method to permanently add an item to the end of a list:"
   ]
  },
  {
   "cell_type": "code",
   "execution_count": null,
   "metadata": {
    "collapsed": true
   },
   "outputs": [],
   "source": [
    "# Append is a very useful method. We can append any other object, including another list!\n",
    "# That makes my_list a nested list\n",
    "my_list.append([\"five\",6])\n",
    "my_list"
   ]
  },
  {
   "cell_type": "code",
   "execution_count": null,
   "metadata": {
    "collapsed": true
   },
   "outputs": [],
   "source": [
    "# Grab the first element of the last elemen of my_list and assign in to the variable my_string\n",
    "my_string=my_list[-1][0]\n",
    "my_string"
   ]
  },
  {
   "cell_type": "code",
   "execution_count": null,
   "metadata": {
    "collapsed": true
   },
   "outputs": [],
   "source": [
    "# Pop off the 0 indexed item. By default pop() pops off the last index but you can specify\n",
    "# the index\n",
    "my_list.pop()\n",
    "my_list"
   ]
  },
  {
   "cell_type": "code",
   "execution_count": null,
   "metadata": {
    "collapsed": true
   },
   "outputs": [],
   "source": [
    "# Reverse the order of your list's elements\n",
    "my_list.reverse()\n",
    "my_list"
   ]
  },
  {
   "cell_type": "code",
   "execution_count": null,
   "metadata": {
    "collapsed": true
   },
   "outputs": [],
   "source": [
    "# Use sort to sort the list – in this case alphabetical order, but for numbers it \n",
    "# will go ascending. Also note that numbers have \"priority\" over strings.\n",
    "my_list.sort()\n",
    "my_list"
   ]
  },
  {
   "cell_type": "markdown",
   "metadata": {},
   "source": [
    "[More on Lists](http://thomas-cokelaer.info/tutorials/python/lists.html)"
   ]
  },
  {
   "cell_type": "markdown",
   "metadata": {},
   "source": [
    "### Booleans, if, elif, and else statements\n",
    "\n",
    "<img src=\"https://upload.wikimedia.org/wikipedia/commons/7/73/PSM_V17_D740_George_Boole.jpg\" width=\"200\" height=\"200\" />\n",
    "\n",
    "George Boole (1815–1864) was an English mathematician, educator, philosopher and logician. He first defined an algebraic system of logic that is still used today (or at least his name is still used!). \n",
    "\n",
    "A **Boolean data type** is a data type that has two values (usually denoted True and False), intended to represent the truth values of logic and Boolean algebra.  \n",
    "\n",
    "Python comes with Booleans (with predefined `True` and `False`). It also has a placeholder object called None. Let's walk through a few quick examples of Booleans."
   ]
  },
  {
   "cell_type": "code",
   "execution_count": null,
   "metadata": {
    "collapsed": true
   },
   "outputs": [],
   "source": [
    "# Set object to be a boolean\n",
    "a = True \n",
    "# Note that \"True\" capitalized is recognized by Python as a special character, not true or TRUE"
   ]
  },
  {
   "cell_type": "code",
   "execution_count": null,
   "metadata": {
    "collapsed": true
   },
   "outputs": [],
   "source": [
    "# Look it up ### WHAT ARE YOU INTENDING FOR THE STUDENTS TO DO HERE?\n"
   ]
  },
  {
   "cell_type": "code",
   "execution_count": null,
   "metadata": {
    "collapsed": false
   },
   "outputs": [],
   "source": [
    "# You can also ask Python if as is actually true\n",
    "a is True"
   ]
  },
  {
   "cell_type": "code",
   "execution_count": null,
   "metadata": {
    "collapsed": false
   },
   "outputs": [],
   "source": [
    "b = False"
   ]
  },
  {
   "cell_type": "code",
   "execution_count": null,
   "metadata": {
    "collapsed": false
   },
   "outputs": [],
   "source": [
    "b is True"
   ]
  },
  {
   "cell_type": "markdown",
   "metadata": {},
   "source": [
    "We can also ask Python to compare two numbers using `comparison operators`. Python will answer with a boolean."
   ]
  },
  {
   "cell_type": "code",
   "execution_count": null,
   "metadata": {
    "collapsed": false
   },
   "outputs": [],
   "source": [
    "# Output is boolean\n",
    "1 > 2"
   ]
  },
  {
   "cell_type": "markdown",
   "metadata": {},
   "source": [
    "Booleans are very useful in programming. We will see this more in depth in the next days, but let's introduce you to the concept of **if, elif, and else Statements**:\n",
    "\n",
    "`if` statements in Python allow you to tell the computer to perform alternative actions based on a certain set of results.\n",
    "\n",
    "Verbally, we can imagine we are telling the computer:\n",
    "\n",
    "\"Hey if this happens, do this\"\n",
    "\n",
    "We can then expand the idea further with elif and else statements, which allow us to tell the computer:\n",
    "\n",
    "\"Hey if this happens, do this. Else if another case happens, do this other thing. Else-- none of the above cases happened, do this last thing\"\n",
    "\n",
    "We can write some \"pseudocode\" to illustrate this and then jump into coding it in Python:\n",
    "\n",
    "    if case1:\n",
    "        perform action1\n",
    "    elif case2:\n",
    "        perform action2\n",
    "    else: \n",
    "        perform action 3  \n",
    "        \n",
    " Let's try a few examples:"
   ]
  },
  {
   "cell_type": "code",
   "execution_count": null,
   "metadata": {
    "collapsed": false
   },
   "outputs": [],
   "source": [
    "if a is True:\n",
    "    print ('It was true!')"
   ]
  },
  {
   "cell_type": "code",
   "execution_count": null,
   "metadata": {
    "collapsed": true
   },
   "outputs": [],
   "source": [
    "if b is True:\n",
    "    print ('It was true!')"
   ]
  },
  {
   "cell_type": "markdown",
   "metadata": {},
   "source": [
    "Note that nothing appears to have happened when you run the previous cell. This is because b is False. We can expand on this to print a message either way:"
   ]
  },
  {
   "cell_type": "code",
   "execution_count": null,
   "metadata": {
    "collapsed": false
   },
   "outputs": [],
   "source": [
    "if b is True:\n",
    "    print ('It was true!')\n",
    "else:\n",
    "    print ('It was false!')"
   ]
  },
  {
   "cell_type": "markdown",
   "metadata": {},
   "source": [
    "We can expand on this even further to control for the case where the object evaluated is not true or false:"
   ]
  },
  {
   "cell_type": "code",
   "execution_count": null,
   "metadata": {
    "collapsed": false
   },
   "outputs": [],
   "source": [
    "c = 5.2\n",
    "if c is True:\n",
    "    print ('It was true!')\n",
    "elif c is False:\n",
    "    print ('It was false!')\n",
    "else: \n",
    "    print ('It was not Boolean!')\n"
   ]
  },
  {
   "cell_type": "markdown",
   "metadata": {},
   "source": [
    "## Dictionaries\n",
    "In any language, dictionaries associate words to words' definitions. Words might have multiple definitions, but all definitions are associated with a unique word's entry in the dictionary.\n",
    "\n",
    "This maps to the data structure very well: each entry is a key-value pair, where the keys are the words, and the values are the definitions. If there are multiple definitions, you might instead have a list of definitions.\n",
    "\n",
    "Let's create our first dictionary in Python:"
   ]
  },
  {
   "cell_type": "code",
   "execution_count": null,
   "metadata": {
    "collapsed": true
   },
   "outputs": [],
   "source": [
    "# To create an empty dictionary use curly brackets:\n",
    "my_dict = {}"
   ]
  },
  {
   "cell_type": "markdown",
   "metadata": {},
   "source": [
    "We can then inject entries into the dictionary using indexing notation to set the value for a key. So for example, if the word (key) is 'include' and the definition (value) is 'comprise or contain as part of a whole', then we create the entry like this:"
   ]
  },
  {
   "cell_type": "code",
   "execution_count": null,
   "metadata": {
    "collapsed": false
   },
   "outputs": [],
   "source": [
    "my_dict['include'] = 'comprise or contain as part of a whole.'"
   ]
  },
  {
   "cell_type": "code",
   "execution_count": null,
   "metadata": {
    "collapsed": false
   },
   "outputs": [],
   "source": [
    "my_dict['exclude'] = 'deny access from a place, group, or privilege.'\n",
    "my_dict"
   ]
  },
  {
   "cell_type": "markdown",
   "metadata": {},
   "source": [
    "Note the repeated structure of `key: value` in the dictionary. When you inspect a dictionary, it may print the keys in alphabetical order, this is not an intrinisc characteristic of a dictionary: **there is no order for the keys in a dictionary.**  It doesn't matter what order you put things in to the dictionary, or whether they can be sorted alphabetically, or anything like that.\n",
    "\n",
    "The only guarantee that a dictionary makes is that you have a single key associated with a value in the dictionary. It is an unordered mapping of unique keys to values."
   ]
  },
  {
   "cell_type": "code",
   "execution_count": null,
   "metadata": {
    "collapsed": false
   },
   "outputs": [],
   "source": [
    "# explicitely printing the dict may give you a different output, but it does not matter!\n",
    "print(my_dict)"
   ]
  },
  {
   "cell_type": "markdown",
   "metadata": {},
   "source": [
    "To look up the value of a key in a dictionary, use indexing notation with the key: "
   ]
  },
  {
   "cell_type": "code",
   "execution_count": null,
   "metadata": {
    "collapsed": true
   },
   "outputs": [],
   "source": [
    "my_dict['exclude']"
   ]
  },
  {
   "cell_type": "code",
   "execution_count": null,
   "metadata": {
    "collapsed": true
   },
   "outputs": [],
   "source": [
    "# now look up the other key\n"
   ]
  },
  {
   "cell_type": "code",
   "execution_count": null,
   "metadata": {
    "collapsed": false
   },
   "outputs": [],
   "source": [
    "# What do you think will happen if we ask:\n",
    "my_dict[0]\n",
    "\n",
    "# Why?"
   ]
  },
  {
   "cell_type": "markdown",
   "metadata": {},
   "source": [
    "If you do not know the keys of the dictionary, you can use `my_dict.keys()`:"
   ]
  },
  {
   "cell_type": "code",
   "execution_count": null,
   "metadata": {
    "collapsed": false
   },
   "outputs": [],
   "source": [
    "print(my_dict.keys())"
   ]
  },
  {
   "cell_type": "markdown",
   "metadata": {},
   "source": [
    "**Examples using dictionaries:**\n",
    "Let's build a database with records holding the fields first name, last name and year in grad school (oops). The result of a query to this database might produce a list of dictionaries which looks something like this:"
   ]
  },
  {
   "cell_type": "code",
   "execution_count": null,
   "metadata": {
    "collapsed": true
   },
   "outputs": [],
   "source": [
    "students = [\n",
    "    {'first': 'Daniela', 'last': 'Saderi', 'yaer': 6},\n",
    "    {'first': 'Charlie', 'last': 'Heller', 'year': 2},\n",
    "    {'first': 'Luci', 'last': 'Moore', 'year': 5}\n",
    "]"
   ]
  },
  {
   "cell_type": "markdown",
   "metadata": {},
   "source": [
    "Exercise:\n",
    "* Find out the type of the object \"students\"\n",
    "* Query for the first element of the object \"students\"\n",
    "* Query for the first value of the first element"
   ]
  },
  {
   "cell_type": "code",
   "execution_count": null,
   "metadata": {
    "collapsed": true
   },
   "outputs": [],
   "source": [
    "# Write here\n"
   ]
  },
  {
   "cell_type": "markdown",
   "metadata": {},
   "source": [
    "Another way to create a dictionary is by calling the function `dict` with a list of Tuples as (`key, value`) pairs. (We have not seen Tuples yet, but bare with me for a moment!)"
   ]
  },
  {
   "cell_type": "code",
   "execution_count": null,
   "metadata": {
    "collapsed": true
   },
   "outputs": [],
   "source": [
    "lab_inventory = dict([('gauze (box)', 4), ('q-tips (packages)', 3), \n",
    "                      ('alcohol bottles', 5), ('fine FST forceps', 10)])\n",
    "lab_inventory"
   ]
  },
  {
   "cell_type": "markdown",
   "metadata": {},
   "source": [
    "If there is a new delivery of 10 more boxes of gauze, here is how you adda it:"
   ]
  },
  {
   "cell_type": "code",
   "execution_count": null,
   "metadata": {
    "collapsed": true
   },
   "outputs": [],
   "source": [
    "lab_inventory['gauze (box)'] += 10\n",
    "lab_inventory"
   ]
  },
  {
   "cell_type": "markdown",
   "metadata": {},
   "source": [
    "### Dictionary methods\n",
    "Dictionaries are objects, and so they have methods.  In this lecture we'll look at some of these and how to use them.\n",
    "\n",
    "Let's start with the \"my_dict\" dictionary example from before:"
   ]
  },
  {
   "cell_type": "code",
   "execution_count": null,
   "metadata": {
    "collapsed": true
   },
   "outputs": [],
   "source": [
    "# explore the content of my_dict\n",
    "\n"
   ]
  },
  {
   "cell_type": "markdown",
   "metadata": {},
   "source": [
    "#### Accessing items with `get()`\n",
    "\n",
    "You can also access values with the `get()` method. Get returns the value associated with a key, like indexing, but if the key doesn't exist it doesn't raise an error, but instead returns a default value `None`."
   ]
  },
  {
   "cell_type": "code",
   "execution_count": null,
   "metadata": {
    "collapsed": true
   },
   "outputs": [],
   "source": [
    "my_dict.get('exclude')"
   ]
  },
  {
   "cell_type": "markdown",
   "metadata": {},
   "source": [
    "#### Removing items with keyword `del()`\n",
    "\n",
    "To remove an element from a dictionary, you can use the `del` keyword (same in lists).  You specify the key of the element that you want to remove using indexing notation:"
   ]
  },
  {
   "cell_type": "code",
   "execution_count": null,
   "metadata": {
    "collapsed": true
   },
   "outputs": [],
   "source": [
    "del my_dict['exclude']\n",
    "my_dict"
   ]
  },
  {
   "cell_type": "markdown",
   "metadata": {},
   "source": [
    "#### Removing items with method pop( )\n",
    "\n",
    "You can also use the pop() method, similarly to the way it is used with lists. The pop() method expects the key that you want to remove and returns the corresponding value. This allows you to assign the value of the key that you pop out to another variable. You can also use popitem() to randomely remove any entry from your dictionary."
   ]
  },
  {
   "cell_type": "code",
   "execution_count": null,
   "metadata": {
    "collapsed": true
   },
   "outputs": [],
   "source": [
    "my_dict.pop('include')"
   ]
  },
  {
   "cell_type": "code",
   "execution_count": null,
   "metadata": {
    "collapsed": true
   },
   "outputs": [],
   "source": [
    "my_dict"
   ]
  },
  {
   "cell_type": "markdown",
   "metadata": {},
   "source": [
    "#### Modifying dictionaries with `update()`\n",
    "\n",
    "Let's make a new dictionary with 3 keys\n",
    "* first: YOUR FIRST NAME (add an error in the spelling\n",
    "* last: YOUR LAST NAME\n",
    "* age: YOUR AGE\n",
    "You can use `dict` or add one entry at the time after creating the empty dictionary."
   ]
  },
  {
   "cell_type": "code",
   "execution_count": null,
   "metadata": {
    "collapsed": true
   },
   "outputs": [],
   "source": [
    "# create your dict here\n"
   ]
  },
  {
   "cell_type": "markdown",
   "metadata": {},
   "source": [
    "Then let's say we want to modify that entry with the spelling mistake, and we want to add the middle name. How do we do that?"
   ]
  },
  {
   "cell_type": "code",
   "execution_count": null,
   "metadata": {
    "collapsed": true
   },
   "outputs": [],
   "source": [
    "# First we create a modification and then we use update() to update the original dict\n",
    "student_modification = {'first': 'Daniela', 'middle': 'Eli'}\n",
    "student.update(student_modification)\n",
    "student"
   ]
  },
  {
   "cell_type": "markdown",
   "metadata": {},
   "source": [
    "#### More useful dict methods\n",
    "Let's start out with a cell_count dict that has a collection of cell types that you can count in your field of view at a confocal:"
   ]
  },
  {
   "cell_type": "code",
   "execution_count": null,
   "metadata": {
    "collapsed": true
   },
   "outputs": [],
   "source": [
    "cell_count = {'neurons': 110, 'astrocytes': 500, 'uncategorized': 33}"
   ]
  },
  {
   "cell_type": "code",
   "execution_count": null,
   "metadata": {
    "collapsed": true
   },
   "outputs": [],
   "source": [
    "# You can ask if there are pv positive neuronts in your collection \n",
    "# and Python will answer with a False or True boolean operetor\n",
    "'pv+' in cell_count"
   ]
  },
  {
   "cell_type": "code",
   "execution_count": null,
   "metadata": {
    "collapsed": true
   },
   "outputs": [],
   "source": [
    "# Ask if there are any neurons\n"
   ]
  },
  {
   "cell_type": "markdown",
   "metadata": {},
   "source": [
    "If you want to know the list of cell types that are in the collection, you can use the keys() method:"
   ]
  },
  {
   "cell_type": "code",
   "execution_count": null,
   "metadata": {
    "collapsed": true
   },
   "outputs": [],
   "source": [
    "cell_count.keys()"
   ]
  },
  {
   "cell_type": "markdown",
   "metadata": {},
   "source": [
    "Similarly if you want to know about the values..."
   ]
  },
  {
   "cell_type": "code",
   "execution_count": null,
   "metadata": {
    "collapsed": true
   },
   "outputs": [],
   "source": [
    "cell_count.values()"
   ]
  },
  {
   "cell_type": "markdown",
   "metadata": {},
   "source": [
    "To get a list of the pairs of animals and the corresponding number, you can use items():"
   ]
  },
  {
   "cell_type": "code",
   "execution_count": null,
   "metadata": {
    "collapsed": true
   },
   "outputs": [],
   "source": [
    "cell_count.items()"
   ]
  },
  {
   "cell_type": "markdown",
   "metadata": {},
   "source": [
    "If you want to know the total number of cells, you could sum up the list of values:"
   ]
  },
  {
   "cell_type": "code",
   "execution_count": null,
   "metadata": {
    "collapsed": true
   },
   "outputs": [],
   "source": [
    "sum(cell_count.values())"
   ]
  },
  {
   "cell_type": "markdown",
   "metadata": {},
   "source": [
    "Exercise\n",
    "Add 100 neurons to the entry \"neurons\" and add a new entry \"pv+\":144"
   ]
  },
  {
   "cell_type": "code",
   "execution_count": null,
   "metadata": {
    "collapsed": true
   },
   "outputs": [],
   "source": [
    "# Write your answer here\n"
   ]
  },
  {
   "cell_type": "markdown",
   "metadata": {},
   "source": [
    "### When to use lists versus dictionaries\n",
    "\n",
    "Dictionaries are useful when there is a natural `key:value` pairing. An example could be a dateset in which the `keys` would naturally be sample IDs or an experiment dates, and `values` would be measurements. If you anticipate needing to search for values, since searching a dictionary is much more efficient than searching a list. \n"
   ]
  },
  {
   "cell_type": "markdown",
   "metadata": {},
   "source": [
    "## 2. Handling errors\n",
    "\n",
    "Everyone makes mistakes, and errors are common to every programmer, no matter their experience. \n",
    "\n",
    "To better prepare you on the inevitable, in this session we will try to understand what the different types of errors are and when you are likely to encounter them. Once you know why you get certain types of errors, they become much easier to fix.\n",
    "\n",
    "Errors in Python have a very specific form, called a *traceback*, meaning that Python will print the sequence of errors that led to the final error. For example:\n"
   ]
  },
  {
   "cell_type": "code",
   "execution_count": null,
   "metadata": {
    "collapsed": false
   },
   "outputs": [],
   "source": [
    "print(hello)"
   ]
  },
  {
   "cell_type": "markdown",
   "metadata": {},
   "source": [
    "From the error, we can tell that this is a **name-error** that occured on line 1 of the cell. It may not be obvious, but what the message is telling us is that there is no object named `hello` defined. To fix the error, we need to know what the code was meant to do- did we mean to write the word 'hello'? Then we forgot the quotes around `'hello'`. Were we trying to print the contents of an object that is called `hello`? If this is the case, we forgot to define the variable first or have a typo in our code (oops!).  \n",
    "\n",
    "We haven't spent much time on code structure in this course, but capitolization and spelling is very important in code that you write. Python views the words `hello`, `HELLO`, and `Hello` as all distinct words. Also, there is no auto-correct, so these errors (or other typos such as typing `hellp` instead of `hello`) will all result in NameErrors.   \n",
    "\n",
    "Below, we will fix the error in each of these cases. \n"
   ]
  },
  {
   "cell_type": "code",
   "execution_count": null,
   "metadata": {
    "collapsed": false
   },
   "outputs": [],
   "source": [
    "# The case where we meant to print the string 'hello'\n",
    "\n",
    "print('hello')"
   ]
  },
  {
   "cell_type": "code",
   "execution_count": null,
   "metadata": {
    "collapsed": false
   },
   "outputs": [],
   "source": [
    "# The case where we meant to print the object named hello \n",
    "# define the contents of the object hello\n",
    "hello = 'Hello!'\n",
    "# pass the object hello to the print function\n",
    "print(hello)"
   ]
  },
  {
   "cell_type": "markdown",
   "metadata": {},
   "source": [
    "Now try to identify and correct the error in the next example:"
   ]
  },
  {
   "cell_type": "code",
   "execution_count": null,
   "metadata": {
    "collapsed": false
   },
   "outputs": [],
   "source": [
    "myNumber = 8\n",
    "myNewNumber = 8 * 20\n",
    "print(mynewNumber)"
   ]
  },
  {
   "cell_type": "markdown",
   "metadata": {},
   "source": [
    "**Questions: **\n",
    "> 1. What line was the error on?\n",
    "2. Can you spot what is wrong with the code?\n",
    "3. How can you fix it?\n"
   ]
  },
  {
   "cell_type": "markdown",
   "metadata": {},
   "source": [
    "Another common error is a **index error**. These are errors that occur when you try to access an element in an object (such as a string or a list) that doesn't exist. \n",
    "\n",
    "Let's revisit the string we defined at the beginning of this lesson.\n",
    "\n",
    "`my_string = \"Hello, Neurocoders!\"`\n",
    "\n",
    "Remember, in Python, indexing starts at 0, and includes spaces. We can evaluate this with the `len()` function:"
   ]
  },
  {
   "cell_type": "code",
   "execution_count": null,
   "metadata": {
    "collapsed": false
   },
   "outputs": [],
   "source": [
    "my_string = \"Hello, Neurocoders!\"\n",
    "len(my_string)\n"
   ]
  },
  {
   "cell_type": "markdown",
   "metadata": {},
   "source": [
    "What happens when you try to acces the last element by using the value 19?"
   ]
  },
  {
   "cell_type": "code",
   "execution_count": null,
   "metadata": {
    "collapsed": false
   },
   "outputs": [],
   "source": [
    "my_letter = my_string[19]"
   ]
  },
  {
   "cell_type": "markdown",
   "metadata": {},
   "source": [
    "To fix an index error, you may want to inspect the object you are trying to work with with the `type` and `len` functions to identify the error and fix it. Try fixing the error in the cell below to assign the last letter of my_string to the object my_letter:"
   ]
  },
  {
   "cell_type": "code",
   "execution_count": null,
   "metadata": {
    "collapsed": true
   },
   "outputs": [],
   "source": [
    "my_letter = my_string[19]"
   ]
  },
  {
   "cell_type": "markdown",
   "metadata": {},
   "source": [
    "Another common error is a **type error** which occurs when you attempt to use data types in ways they are not meant to be used. For example, remember that strings are immutable, meaning they cannot be changed. If you try to change an element of a string, you will recieve a type error. Run the cell below to see the type error message:"
   ]
  },
  {
   "cell_type": "code",
   "execution_count": null,
   "metadata": {
    "collapsed": false
   },
   "outputs": [],
   "source": [
    "my_string[0] = 'x'"
   ]
  },
  {
   "cell_type": "markdown",
   "metadata": {},
   "source": [
    "Another reason to encounter type errors is when mixing data types. As you may recall, you can use the + sign to add numeric variables, and you can also use the + sign to concatenate strings. However, you cannot use a + sign with a numeric and a string:"
   ]
  },
  {
   "cell_type": "code",
   "execution_count": null,
   "metadata": {
    "collapsed": false
   },
   "outputs": [],
   "source": [
    "a = 5\n",
    "my_test = my_string + a"
   ]
  },
  {
   "cell_type": "markdown",
   "metadata": {},
   "source": [
    "The error message tells us that Python cannot convert an integer (int) into a string (str). To combine strings and numbers, you would need to do a type conversion:"
   ]
  },
  {
   "cell_type": "code",
   "execution_count": null,
   "metadata": {
    "collapsed": false
   },
   "outputs": [],
   "source": [
    "# convert the int stored in a to a string\n",
    "a = str(a)\n",
    "\n",
    "# concatenate: \n",
    "\n",
    "my_test = my_string + a \n",
    "print(my_test)\n"
   ]
  },
  {
   "cell_type": "markdown",
   "metadata": {},
   "source": [
    "[Software carpentry](https://southampton-rsg.github.io/2017-08-01-southampton-swc/novice/python/07-errors.html) has an entire lesson with exercises to better understand how to handle errors. Check it out! \n"
   ]
  },
  {
   "cell_type": "markdown",
   "metadata": {},
   "source": [
    "## 3. In class exercises\n",
    "\n",
    "Let's work together at figuring out how to manipulate the following string, which happens to be the DNA sequence that encodes for the human histon cluster 1, H1b. \n",
    "\n",
    "The sequence below is the \"coding\" strand which is usually the only one stored in bio-informatics, since the template strand can be derived from the fact that an adenine (A) base always pairs with a thymine (T) and a cytosine (C) always pairs with a guanine (G).\n",
    "\n",
    "      A ACC TGC TCT TTA GAT TTC GAG CTT ATT CTC TTC TAG CAG TTT CTT GCC\n",
    "    ACC ATG TCG GAA ACC GCT CCT GCC GAG ACA GCC ACC CCA GCG CCG GTG GAG\n",
    "    AAA TCC CCG GCT AAG AAG AAG GCA ACT AAG AAG GCT GCC GGC GCC GGC GCT\n",
    "    GCT AAG CGC AAA GCG ACG GGG CCC CCA GTC TCA GAG CTG ATC ACC AAG GCT\n",
    "    GTG GCT GCT TCT AAG GAG CGC AAT GGC CTT TCT TTG GCA GCC CTT AAG AAG\n",
    "    GCC TTA GCG GCC GGT GGC TAC GAC GTG GAG AAG AAT AAC AGC CGC ATT AAG\n",
    "    CTG GGC CTC AAG AGC TTG GTG AGC AAG GGC ACC CTG GTG CAG ACC AAG GGC\n",
    "    ACT GGT GCT TCT GGC TCC TTT AAA CTC AAC AAG AAG GCG GCC TCC GGG GAA\n",
    "    GCC AAG CCC AAA GCC AAG AAG GCA GGC GCC GCT AAA GCT AAG AAG CCC GCG\n",
    "    GGG GCC ACG CCT AAG AAG GCC AAG AAG GCT GCA GGG GCG AAA AAG GCA GTG\n",
    "    AAG AAG ACT CCG AAG AAG GCG AAG AAG CCC GCG GCG GCT GGC GTC AAA AAG\n",
    "    GTG GCG AAG AGC CCT AAG AAG GCC AAG GCC GCT GCC AAA CCG AAA AAG GCA\n",
    "    ACC AAG AGT CCT GCC AAG CCC AAG GCA GTT AAG CCG AAG GCG GCA AAG CCC\n",
    "    AAA GCC GCT AAG CCC AAA GCA GCA AAA CCT AAA GCT GCA AAG GCC AAG AAG\n",
    "    GCG GCT GCC AAA AAG AAG TAG GAA GCT GGC GTG TGA AAA CCG CAA CAA AGC\n",
    "    CCC AAA GGC TCT TTT CAG AGC CAC CCA\n",
    "\n",
    "As you all know, sequences of DNA and RNA are frequently represented by strings of letters corresponding to the bases:\n",
    "\n",
    "\"A\" adenine  \n",
    "\"C\" cytosine   \n",
    "\"G\" guanine  \n",
    "\"T\" thymine  \n",
    "\"U\" uracil (which replaces thymine in RNA)  \n",
    "\n",
    "### Question 1\n",
    "Compute the equivalent mRNA sequence to the sequence in this example."
   ]
  },
  {
   "cell_type": "code",
   "execution_count": null,
   "metadata": {
    "collapsed": true
   },
   "outputs": [],
   "source": [
    "coding_sequence = (\n",
    "    \"AACCTGCTCTTTAGATTTCGAGCTTATTCTCTTCTAGCAGTTTCTTGCCACCATGTCGGAAACCGCTCCT\" +\n",
    "    \"GCCGAGACAGCCACCCCAGCGCCGGTGGAGAAATCCCCGGCTAAGAAGAAGGCAACTAAGAAGGCTGCCG\" +\n",
    "    \"GCGCCGGCGCTGCTAAGCGCAAAGCGACGGGGCCCCCAGTCTCAGAGCTGATCACCAAGGCTGTGGCTGC\" +\n",
    "    \"TTCTAAGGAGCGCAATGGCCTTTCTTTGGCAGCCCTTAAGAAGGCCTTAGCGGCCGGTGGCTACGACGTG\" +\n",
    "    \"GAGAAGAATAACAGCCGCATTAAGCTGGGCCTCAAGAGCTTGGTGAGCAAGGGCACCCTGGTGCAGACCA\" +\n",
    "    \"AGGGCACTGGTGCTTCTGGCTCCTTTAAACTCAACAAGAAGGCGGCCTCCGGGGAAGCCAAGCCCAAAGC\" +\n",
    "    \"CAAGAAGGCAGGCGCCGCTAAAGCTAAGAAGCCCGCGGGGGCCACGCCTAAGAAGGCCAAGAAGGCTGCA\" +\n",
    "    \"GGGGCGAAAAAGGCAGTGAAGAAGACTCCGAAGAAGGCGAAGAAGCCCGCGGCGGCTGGCGTCAAAAAGG\" +\n",
    "    \"TGGCGAAGAGCCCTAAGAAGGCCAAGGCCGCTGCCAAACCGAAAAAGGCAACCAAGAGTCCTGCCAAGCC\" +\n",
    "    \"CAAGGCAGTTAAGCCGAAGGCGGCAAAGCCCAAAGCCGCTAAGCCCAAAGCAGCAAAACCTAAAGCTGCA\" +\n",
    "    \"AAGGCCAAGAAGGCGGCTGCCAAAAAGAAGTAGGAAGCTGGCGTGTGAAAACCGCAACAAAGCCCCAAAG\" +\n",
    "    \"GCTCTTTTCAGAGCCACCCA\"\n",
    ")"
   ]
  },
  {
   "cell_type": "markdown",
   "metadata": {},
   "source": [
    "Hint: See if there is a string method that lets you *replace* substrings."
   ]
  },
  {
   "cell_type": "code",
   "execution_count": null,
   "metadata": {
    "collapsed": true
   },
   "outputs": [],
   "source": [
    "# Your code goes here\n"
   ]
  },
  {
   "cell_type": "markdown",
   "metadata": {},
   "source": [
    "### Question 2\n",
    "A gene encodes a protein by specifying the amino acids that compose it via\n",
    "groups of 3 bases (called \"codons\").  In the usual genetic code the\n",
    "sequence \"ATG\" indicates the start of the encoding of the protein.\n",
    "\n",
    "Find the index of the start of the coding section in the coding sequence above.\n",
    "\n",
    "Hint: Look for a string method that helps you *find* a substring."
   ]
  },
  {
   "cell_type": "code",
   "execution_count": null,
   "metadata": {
    "collapsed": true
   },
   "outputs": [],
   "source": [
    "# Your code goes here\n"
   ]
  },
  {
   "cell_type": "markdown",
   "metadata": {},
   "source": [
    "### Question 3\n",
    "\n",
    "The end of the encoding of a protein is indicated by one of three \"stop\"\n",
    "codons: \"TAA\", \"TAG\" or \"TGA\".  In this case the stop is 'TAG'.  Find the\n",
    "'TAG' codon closest to the end of the coding sequence above.\n",
    "\n",
    "Hin: Look for a string method that helps you find a substring starting from the *right* of a string."
   ]
  },
  {
   "cell_type": "code",
   "execution_count": null,
   "metadata": {
    "collapsed": true
   },
   "outputs": [],
   "source": [
    "# Your code goes here\n"
   ]
  },
  {
   "cell_type": "markdown",
   "metadata": {},
   "source": [
    "### Question 4\n",
    "\n",
    "Now we will look at a dictionary called `codon_table` that maps codons to their corresponding amino acid abbreviations (the stop codons are usually abbreviated by a *).   \n",
    "Extract the abbreviation associated with the codon \"AAG\" and then print it in a statement that says \"AAG is associated with the aminoacid X.\""
   ]
  },
  {
   "cell_type": "code",
   "execution_count": null,
   "metadata": {
    "collapsed": true
   },
   "outputs": [],
   "source": [
    "codon_table = {\n",
    "    'TTT': 'F', 'TTC': 'F', 'TTA': 'L', 'TTG': 'L',\n",
    "    'TCT': 'S', 'TCC': 'S', 'TCA': 'S', 'TCG': 'S',\n",
    "    'TAT': 'Y', 'TAC': 'Y', 'TAA': '*', 'TAG': '*',\n",
    "    'TGT': 'C', 'TGC': 'C', 'TGA': '*', 'TGG': 'W',\n",
    "\n",
    "    'CTT': 'L', 'CTC': 'L', 'CTA': 'L', 'CTG': 'L',\n",
    "    'CCT': 'P', 'CCC': 'P', 'CCA': 'P', 'CCG': 'P',\n",
    "    'CAT': 'H', 'CAC': 'H', 'CAA': 'Q', 'CAG': 'Q',\n",
    "    'CGT': 'R', 'CGC': 'R', 'CGA': 'R', 'CGG': 'R',\n",
    "\n",
    "    'ATT': 'I', 'ATC': 'I', 'ATA': 'I', 'ATG': 'M',\n",
    "    'ACT': 'T', 'ACC': 'T', 'ACA': 'T', 'ACG': 'T',\n",
    "    'AAT': 'N', 'AAC': 'N', 'AAA': 'K', 'AAG': 'K',\n",
    "    'AGT': 'S', 'AGC': 'S', 'AGA': 'R', 'AGG': 'R',\n",
    "\n",
    "    'GTT': 'V', 'GTC': 'V', 'GTA': 'V', 'GTG': 'V',\n",
    "    'GCT': 'A', 'GCC': 'A', 'GCA': 'A', 'GCG': 'A',\n",
    "    'GAT': 'D', 'GAC': 'D', 'GAA': 'E', 'GAG': 'E',\n",
    "    'GGT': 'G', 'GGC': 'G', 'GGA': 'G', 'GGG': 'G',\n",
    "}"
   ]
  },
  {
   "cell_type": "code",
   "execution_count": null,
   "metadata": {
    "collapsed": true
   },
   "outputs": [],
   "source": [
    "# Your code goes here\n",
    "codon = \"AAG\"\n"
   ]
  }
 ],
 "metadata": {
  "kernelspec": {
   "display_name": "Python 3",
   "language": "python",
   "name": "python3"
  },
  "language_info": {
   "codemirror_mode": {
    "name": "ipython",
    "version": 3
   },
   "file_extension": ".py",
   "mimetype": "text/x-python",
   "name": "python",
   "nbconvert_exporter": "python",
   "pygments_lexer": "ipython3",
   "version": "3.5.3"
  }
 },
 "nbformat": 4,
 "nbformat_minor": 2
}
