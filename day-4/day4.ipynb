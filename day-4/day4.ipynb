{
 "cells": [
  {
   "cell_type": "markdown",
   "metadata": {},
   "source": [
    "## Further work with confocal image datasets\n",
    "\n",
    "Yesterday you worked with some statistics derived from an Imaris file. Today,\n",
    "you will learn how to work directly with the file to extract additional\n",
    "information. \n",
    "\n",
    "As a brief reminder, this dataset is a confocal Z-stack of several inner hair\n",
    "cells from a gerbil cochlea. These cells have been labeled with antibodies for\n",
    "pre-synaptic ribbons (CtBP2), post-synaptic receptors (GluR2) and cytoskeleton\n",
    "(Myosin VIIa). This dataset was analyzed using Imaris to identify CtBP2\n",
    "\"puncta\" (i.e., the \"spots\" from yesterday's class) and the extent of the GluR2\n",
    "label (the \"surface\"). \n",
    "\n",
    "A functional inner hair cell synapse requires both a pre-synaptic ribbon and a\n",
    "post-synaptic glutamate receptor. The next step in our analysis is to determine\n",
    "whether each CtBP2 puncta is near a GluR2 label. There are a number of\n",
    "approaches we can take:\n",
    "\n",
    "\t* For each CtBP2 puncta, extract a fixed volume (e.g., 1 um x 1um x 1um)\n",
    "\t  from the 3D image and quantify the amount of GluR2 label.\n",
    "\n",
    "\t* Calculate the distance from each CtBP2 puncta to the nearest point on the\n",
    "\t  GluR2 surface.\n",
    "\n",
    "Imaris is an open-source file format based on HDF5. A number of languages have\n",
    "packages for reading this file format. For Python, there are two main packages,\n",
    "`h5py` and `pytables`. We will use `pytables` for this exercise.\n"
   ]
  },
  {
   "cell_type": "code",
   "execution_count": 1,
   "metadata": {
    "collapsed": true
   },
   "outputs": [],
   "source": [
    "import pylab as pl\n",
    "import os.path\n",
    "import tables as tb\n",
    "import imaris\n",
    "\n",
    "%matplotlib inline\n",
    "\n",
    "pathname = '/auto/data/daq/gerbil/confocal/170705.1 middle R'\n",
    "filename = '170705.0 middle R 0.7 kHz MyosinVIIA CtBP2 GluR2 IHC ASR_Out.ims'\n",
    "\n",
    "filename = os.path.join(pathname, filename)\n",
    "fh = tb.open_file(filename)"
   ]
  },
  {
   "cell_type": "markdown",
   "metadata": {},
   "source": [
    "First, we need to figure out how to find the image data. We can start by taking a look at the file. Since HDF5 is a hierarchial data format, data inside the file is stored in a tree-like structure. We can view this structure using `print`."
   ]
  },
  {
   "cell_type": "code",
   "execution_count": 2,
   "metadata": {
    "collapsed": false,
    "scrolled": false
   },
   "outputs": [
    {
     "name": "stdout",
     "output_type": "stream",
     "text": [
      "/auto/data/daq/gerbil/confocal/170705.1 middle R/170705.0 middle R 0.7 kHz MyosinVIIA CtBP2 GluR2 IHC ASR_Out.ims (File) ''\n",
      "Last modif.: 'Tue Dec  5 09:24:22 2017'\n",
      "Object Tree: \n",
      "/ (RootGroup) ''\n",
      "/DataSet (Group) ''\n",
      "/DataSetInfo (Group) ''\n",
      "/DataSetTimes (Group) ''\n",
      "/DataSetTimes/Time (Table(1,)) ''\n",
      "/DataSetTimes/TimeBegin (Table(1,)) ''\n",
      "/Scene (Group) ''\n",
      "/Scene/Data (VLArray(1,)) ''\n",
      "/Scene8 (Group) ''\n",
      "/Scene8/Data (VLArray(1,)) ''\n",
      "/Thumbnail (Group) ''\n",
      "/Thumbnail/Data (Array(256, 1024)) ''\n",
      "/Scene8/Content (Group) ''\n",
      "/Scene8/Content/Points0 (Group) ''\n",
      "/Scene8/Content/Points0/Category (Table(2,)) ''\n",
      "/Scene8/Content/Points0/Factor (Table(6,)) ''\n",
      "/Scene8/Content/Points0/FactorList (Table(6,)) ''\n",
      "/Scene8/Content/Points0/LabelGroupNames (Table(0,)) ''\n",
      "/Scene8/Content/Points0/LabelSetLabelIDs (Table(0,)) ''\n",
      "/Scene8/Content/Points0/LabelSetObjectIDs (Table(0,)) ''\n",
      "/Scene8/Content/Points0/LabelSets (Table(0,)) ''\n",
      "/Scene8/Content/Points0/LabelValues (Table(0,)) ''\n",
      "/Scene8/Content/Points0/MainTrackSegmentTable (Table(1,)) ''\n",
      "/Scene8/Content/Points0/Spot (Table(217,)) ''\n",
      "/Scene8/Content/Points0/SpotTimeOffset (Table(1,)) ''\n",
      "/Scene8/Content/Points0/SpotZStretchFactor (Table(217,)) ''\n",
      "/Scene8/Content/Points0/StatisticsType (Table(37,)) ''\n",
      "/Scene8/Content/Points0/StatisticsValue (Table(7597,)) ''\n",
      "/Scene8/Content/Points0/StatisticsValueTimeOffset (Table(2,)) ''\n",
      "/Scene8/Content/Points0/Time (Table(1,)) ''\n",
      "/Scene8/Content/Points0/TimeBegin (Table(1,)) ''\n",
      "/Scene8/Content/Points0/TrackSegment0 (Table(217,)) ''\n",
      "/Scene8/Content/Points1 (Group) ''\n",
      "/Scene8/Content/Points1/Category (Table(2,)) ''\n",
      "/Scene8/Content/Points1/Factor (Table(6,)) ''\n",
      "/Scene8/Content/Points1/FactorList (Table(6,)) ''\n",
      "/Scene8/Content/Points1/LabelGroupNames (Table(0,)) ''\n",
      "/Scene8/Content/Points1/LabelSetLabelIDs (Table(0,)) ''\n",
      "/Scene8/Content/Points1/LabelSetObjectIDs (Table(0,)) ''\n",
      "/Scene8/Content/Points1/LabelSets (Table(0,)) ''\n",
      "/Scene8/Content/Points1/LabelValues (Table(0,)) ''\n",
      "/Scene8/Content/Points1/MainTrackSegmentTable (Table(1,)) ''\n",
      "/Scene8/Content/Points1/Spot (Table(215,)) ''\n",
      "/Scene8/Content/Points1/SpotTimeOffset (Table(1,)) ''\n",
      "/Scene8/Content/Points1/SpotZStretchFactor (Table(215,)) ''\n",
      "/Scene8/Content/Points1/StatisticsType (Table(37,)) ''\n",
      "/Scene8/Content/Points1/StatisticsValue (Table(7527,)) ''\n",
      "/Scene8/Content/Points1/StatisticsValueTimeOffset (Table(2,)) ''\n",
      "/Scene8/Content/Points1/Time (Table(1,)) ''\n",
      "/Scene8/Content/Points1/TimeBegin (Table(1,)) ''\n",
      "/Scene8/Content/Points1/TrackSegment0 (Table(215,)) ''\n",
      "/Scene8/Content/Points2 (Group) ''\n",
      "/Scene8/Content/Points2/Category (Table(2,)) ''\n",
      "/Scene8/Content/Points2/Factor (Table(6,)) ''\n",
      "/Scene8/Content/Points2/FactorList (Table(6,)) ''\n",
      "/Scene8/Content/Points2/LabelGroupNames (Table(0,)) ''\n",
      "/Scene8/Content/Points2/LabelSetLabelIDs (Table(0,)) ''\n",
      "/Scene8/Content/Points2/LabelSetObjectIDs (Table(0,)) ''\n",
      "/Scene8/Content/Points2/LabelSets (Table(0,)) ''\n",
      "/Scene8/Content/Points2/LabelValues (Table(0,)) ''\n",
      "/Scene8/Content/Points2/MainTrackSegmentTable (Table(1,)) ''\n",
      "/Scene8/Content/Points2/Spot (Table(2,)) ''\n",
      "/Scene8/Content/Points2/SpotTimeOffset (Table(1,)) ''\n",
      "/Scene8/Content/Points2/StatisticsType (Table(37,)) ''\n",
      "/Scene8/Content/Points2/StatisticsValue (Table(72,)) ''\n",
      "/Scene8/Content/Points2/StatisticsValueTimeOffset (Table(2,)) ''\n",
      "/Scene8/Content/Points2/Time (Table(1,)) ''\n",
      "/Scene8/Content/Points2/TimeBegin (Table(1,)) ''\n",
      "/Scene8/Content/Points2/TrackSegment0 (Table(2,)) ''\n",
      "/Scene8/Content/Surfaces0 (Group) ''\n",
      "/Scene8/Content/Surfaces0/Category (Table(2,)) ''\n",
      "/Scene8/Content/Surfaces0/Factor (Table(17,)) ''\n",
      "/Scene8/Content/Surfaces0/FactorList (Table(14,)) ''\n",
      "/Scene8/Content/Surfaces0/LabelGroupNames (Table(0,)) ''\n",
      "/Scene8/Content/Surfaces0/LabelSetLabelIDs (Table(0,)) ''\n",
      "/Scene8/Content/Surfaces0/LabelSetObjectIDs (Table(0,)) ''\n",
      "/Scene8/Content/Surfaces0/LabelSets (Table(0,)) ''\n",
      "/Scene8/Content/Surfaces0/LabelValues (Table(0,)) ''\n",
      "/Scene8/Content/Surfaces0/MainTrackSegmentTable (Table(1,)) ''\n",
      "/Scene8/Content/Surfaces0/StatisticsType (Table(74,)) ''\n",
      "/Scene8/Content/Surfaces0/StatisticsValue (Table(14422,)) ''\n",
      "/Scene8/Content/Surfaces0/StatisticsValueTimeOffset (Table(2,)) ''\n",
      "/Scene8/Content/Surfaces0/Surface (Table(212,)) ''\n",
      "/Scene8/Content/Surfaces0/SurfaceTimeOffset (Table(1,)) ''\n",
      "/Scene8/Content/Surfaces0/Time (Table(1,)) ''\n",
      "/Scene8/Content/Surfaces0/TimeBegin (Table(1,)) ''\n",
      "/Scene8/Content/Surfaces0/TrackSegment0 (Table(212,)) ''\n",
      "/Scene8/Content/Surfaces0/Triangle (Table(249352,)) ''\n",
      "/Scene8/Content/Surfaces0/TriangleTimeOffset (Table(1,)) ''\n",
      "/Scene8/Content/Surfaces0/Vertex (Table(125100,)) ''\n",
      "/Scene8/Content/Surfaces0/VertexTimeOffset (Table(1,)) ''\n",
      "/Scene/Content (Group) ''\n",
      "/Scene/Content/Points0 (Group) ''\n",
      "/Scene/Content/Points0/CoordsXYZR (Array(217, 4)) ''\n",
      "/Scene/Content/Points0/RadiusYZ (Array(217, 2)) ''\n",
      "/Scene/Content/Points0/Time (CArray(217, 1), zlib(1)) ''\n",
      "/Scene/Content/Points0/TimeInfos (Array(1,)) ''\n",
      "/Scene/Content/Points1 (Group) ''\n",
      "/Scene/Content/Points1/CoordsXYZR (Array(215, 4)) ''\n",
      "/Scene/Content/Points1/RadiusYZ (Array(215, 2)) ''\n",
      "/Scene/Content/Points1/Time (CArray(215, 1), zlib(1)) ''\n",
      "/Scene/Content/Points1/TimeInfos (Array(1,)) ''\n",
      "/Scene/Content/Points2 (Group) ''\n",
      "/Scene/Content/Points2/CoordsXYZR (Array(2, 4)) ''\n",
      "/Scene/Content/Points2/RadiusYZ (Array(2, 2)) ''\n",
      "/Scene/Content/Points2/Time (CArray(2, 1), zlib(1)) ''\n",
      "/Scene/Content/Points2/TimeInfos (Array(1,)) ''\n",
      "/Scene/Content/Surfaces0 (Group) ''\n",
      "/Scene/Content/Surfaces0/TimeInfos (Array(1,)) ''\n",
      "/Scene/Content/Surfaces0/TimeNVerticesNTriangles (CArray(212, 3), zlib(1)) ''\n",
      "/Scene/Content/Surfaces0/Triangles (CArray(249352, 3), zlib(1)) ''\n",
      "/Scene/Content/Surfaces0/Vertices (Array(125100, 6)) ''\n",
      "/DataSetInfo/Channel 0 (Group) ''\n",
      "/DataSetInfo/Channel 1 (Group) ''\n",
      "/DataSetInfo/Channel 2 (Group) ''\n",
      "/DataSetInfo/Document (Group) ''\n",
      "/DataSetInfo/Image (Group) ''\n",
      "/DataSetInfo/Imaris (Group) ''\n",
      "/DataSetInfo/ImarisDataSet (Group) ''\n",
      "/DataSetInfo/Log (Group) ''\n",
      "/DataSetInfo/TimeInfo (Group) ''\n",
      "/DataSetInfo/User (Group) ''\n",
      "/DataSetInfo/ZeissAttrs (Group) ''\n",
      "/DataSet/ResolutionLevel 0 (Group) ''\n",
      "/DataSet/ResolutionLevel 1 (Group) ''\n",
      "/DataSet/ResolutionLevel 2 (Group) ''\n",
      "/DataSet/ResolutionLevel 2/TimePoint 0 (Group) ''\n",
      "/DataSet/ResolutionLevel 2/TimePoint 0/Channel 0 (Group) ''\n",
      "/DataSet/ResolutionLevel 2/TimePoint 0/Channel 0/Data (CArray(64, 128, 512), zlib(2)) ''\n",
      "/DataSet/ResolutionLevel 2/TimePoint 0/Channel 0/Histogram (Array(256,)) ''\n",
      "/DataSet/ResolutionLevel 2/TimePoint 0/Channel 1 (Group) ''\n",
      "/DataSet/ResolutionLevel 2/TimePoint 0/Channel 1/Data (CArray(64, 128, 512), zlib(2)) ''\n",
      "/DataSet/ResolutionLevel 2/TimePoint 0/Channel 1/Histogram (Array(256,)) ''\n",
      "/DataSet/ResolutionLevel 2/TimePoint 0/Channel 2 (Group) ''\n",
      "/DataSet/ResolutionLevel 2/TimePoint 0/Channel 2/Data (CArray(64, 128, 512), zlib(2)) ''\n",
      "/DataSet/ResolutionLevel 2/TimePoint 0/Channel 2/Histogram (Array(256,)) ''\n",
      "/DataSet/ResolutionLevel 1/TimePoint 0 (Group) ''\n",
      "/DataSet/ResolutionLevel 1/TimePoint 0/Channel 0 (Group) ''\n",
      "/DataSet/ResolutionLevel 1/TimePoint 0/Channel 0/Data (CArray(96, 256, 1024), zlib(2)) ''\n",
      "/DataSet/ResolutionLevel 1/TimePoint 0/Channel 0/Histogram (Array(256,)) ''\n",
      "/DataSet/ResolutionLevel 1/TimePoint 0/Channel 1 (Group) ''\n",
      "/DataSet/ResolutionLevel 1/TimePoint 0/Channel 1/Data (CArray(96, 256, 1024), zlib(2)) ''\n",
      "/DataSet/ResolutionLevel 1/TimePoint 0/Channel 1/Histogram (Array(256,)) ''\n",
      "/DataSet/ResolutionLevel 1/TimePoint 0/Channel 2 (Group) ''\n",
      "/DataSet/ResolutionLevel 1/TimePoint 0/Channel 2/Data (CArray(96, 256, 1024), zlib(2)) ''\n",
      "/DataSet/ResolutionLevel 1/TimePoint 0/Channel 2/Histogram (Array(256,)) ''\n",
      "/DataSet/ResolutionLevel 0/TimePoint 0 (Group) ''\n",
      "/DataSet/ResolutionLevel 0/TimePoint 0/Channel 0 (Group) ''\n",
      "/DataSet/ResolutionLevel 0/TimePoint 0/Channel 0/Data (CArray(160, 384, 1920), zlib(2)) ''\n",
      "/DataSet/ResolutionLevel 0/TimePoint 0/Channel 0/Histogram (Array(256,)) ''\n",
      "/DataSet/ResolutionLevel 0/TimePoint 0/Channel 1 (Group) ''\n",
      "/DataSet/ResolutionLevel 0/TimePoint 0/Channel 1/Data (CArray(160, 384, 1920), zlib(2)) ''\n",
      "/DataSet/ResolutionLevel 0/TimePoint 0/Channel 1/Histogram (Array(256,)) ''\n",
      "/DataSet/ResolutionLevel 0/TimePoint 0/Channel 2 (Group) ''\n",
      "/DataSet/ResolutionLevel 0/TimePoint 0/Channel 2/Data (CArray(160, 384, 1920), zlib(2)) ''\n",
      "/DataSet/ResolutionLevel 0/TimePoint 0/Channel 2/Histogram (Array(256,)) ''\n",
      "\n"
     ]
    }
   ],
   "source": [
    "print(fh)"
   ]
  },
  {
   "cell_type": "markdown",
   "metadata": {},
   "source": [
    "This is a lot of information! However, in scanning the list there are several\n",
    "things that jump out as important clues. First, remember that the tissue has\n",
    "three labels (CtBP2, GluR2 and MyosinVIIa). In confocal imaging, each label is\n",
    "acquired using a separate channel. At the bottom of the list we see several\n",
    "rows that mention `Channel 0`, `Channel 1` and `Channel 2`. This is most likely\n",
    "the data we need.\n",
    "\n",
    "However, the channels appear several times (under `ResolutionLevel 0`,\n",
    "`ResolutionLevel 1`, and `ResolutionLevel 2`). Which one do we want? Our\n",
    "intuition as a programmer tells us that Imaris likely generates the dataset at\n",
    "multiple resolutions and uses the appropriate resolution based on your zoom\n",
    "level. For quantitative analysis, we probably want the highest resolution\n",
    "level. \n",
    "\n",
    "Take another look at the list. You'll notice that at the end of each line\n",
    "there's an indicator in parenthesis (`Group`, `Array`, `CArray`). These are the\n",
    "different types of nodes (i.e., entries) in the HDF5 file. The simplest way to\n",
    "think of a HDF5 file is that it's a self-contained filesystem. A `group` node\n",
    "is equivalent to a folder. A `leaf` node (e.g., `Array`, `CArray`, `Table`) is\n",
    "equivalent to a file. Group nodes are used to organize the data in the HDF5\n",
    "file.\n",
    "\n",
    "Now, let's look at the `Channel 0/Data` line for each resolution level. There's\n",
    "some information about the size of the array. This tells us that\n",
    "`ResolutionLevel 0` contains the highest resolution data and `ResolutionLevel\n",
    "2` contains the lowest resolution data. Otherwise, they should be identical.\n",
    "\n",
    "First, let's take a look at a single node so we can understand how to work with\n",
    "the data."
   ]
  },
  {
   "cell_type": "code",
   "execution_count": 74,
   "metadata": {
    "collapsed": false
   },
   "outputs": [
    {
     "name": "stdout",
     "output_type": "stream",
     "text": [
      "(160, 384, 1920)\n"
     ]
    }
   ],
   "source": [
    "node = fh.get_node('/DataSet/ResolutionLevel 0/TimePoint 0/Channel 2/Data')\n",
    "data = node.read()\n",
    "print(data.shape)"
   ]
  },
  {
   "cell_type": "markdown",
   "metadata": {},
   "source": [
    "This is a 3D `numpy` array. Since I know the shortest dimension is the Z-axis\n",
    "and the longest dimension is the X-axis, this suggests that the ordering of the\n",
    "dimensions in the array is Z, Y, X. \n",
    "\n",
    "There are ways to visualize 3D data in Python. However, these approaches are\n",
    "not readily available out of the box. Let's focus on simple 2D plotting\n",
    "instead. A common way of presenting confocal image stacks is to take the\n",
    "maximum projection along an an axis (i.e., dimension). Let's take the maximum\n",
    "projection along the first axis (i.e., Z-axis) and plot it using `imshow`."
   ]
  },
  {
   "cell_type": "code",
   "execution_count": 75,
   "metadata": {
    "collapsed": false
   },
   "outputs": [
    {
     "data": {
      "text/plain": [
       "<matplotlib.image.AxesImage at 0x7f886c992a58>"
      ]
     },
     "execution_count": 75,
     "metadata": {},
     "output_type": "execute_result"
    },
    {
     "data": {
      "image/png": "[encoded data removed]",
      "text/plain": [
       "<matplotlib.figure.Figure at 0x7f886cb70208>"
      ]
     },
     "metadata": {},
     "output_type": "display_data"
    }
   ],
   "source": [
    "projection = data.max(axis=0)\n",
    "pl.imshow(projection, cmap='gray')"
   ]
  },
  {
   "cell_type": "code",
   "execution_count": 83,
   "metadata": {
    "collapsed": false
   },
   "outputs": [
    {
     "data": {
      "text/plain": [
       "<module 'imaris' from '/home/bburan/work/projects/python_neurobootcamp/day-4/imaris.py'>"
      ]
     },
     "execution_count": 83,
     "metadata": {},
     "output_type": "execute_result"
    }
   ],
   "source": [
    "import importlib\n",
    "importlib.reload(imaris)"
   ]
  },
  {
   "cell_type": "code",
   "execution_count": 84,
   "metadata": {
    "collapsed": false
   },
   "outputs": [
    {
     "name": "stdout",
     "output_type": "stream",
     "text": [
      "0.875357 0.07058868629609245\n",
      "58.7579 0.07058848167539268\n",
      "0.0 0.15945205479452054\n"
     ]
    },
    {
     "data": {
      "text/html": [
       "<div>\n",
       "<style>\n",
       "    .dataframe thead tr:only-child th {\n",
       "        text-align: right;\n",
       "    }\n",
       "\n",
       "    .dataframe thead th {\n",
       "        text-align: left;\n",
       "    }\n",
       "\n",
       "    .dataframe tbody tr th {\n",
       "        vertical-align: top;\n",
       "    }\n",
       "</style>\n",
       "<table border=\"1\" class=\"dataframe\">\n",
       "  <thead>\n",
       "    <tr style=\"text-align: right;\">\n",
       "      <th>name</th>\n",
       "      <th>index_X</th>\n",
       "      <th>index_Y</th>\n",
       "      <th>index_Z</th>\n",
       "    </tr>\n",
       "  </thead>\n",
       "  <tbody>\n",
       "    <tr>\n",
       "      <th>count</th>\n",
       "      <td>217.000000</td>\n",
       "      <td>217.000000</td>\n",
       "      <td>217.000000</td>\n",
       "    </tr>\n",
       "    <tr>\n",
       "      <th>mean</th>\n",
       "      <td>930.419355</td>\n",
       "      <td>197.211982</td>\n",
       "      <td>51.285714</td>\n",
       "    </tr>\n",
       "    <tr>\n",
       "      <th>std</th>\n",
       "      <td>526.823758</td>\n",
       "      <td>58.895240</td>\n",
       "      <td>22.825656</td>\n",
       "    </tr>\n",
       "    <tr>\n",
       "      <th>min</th>\n",
       "      <td>17.000000</td>\n",
       "      <td>57.000000</td>\n",
       "      <td>22.000000</td>\n",
       "    </tr>\n",
       "    <tr>\n",
       "      <th>25%</th>\n",
       "      <td>486.000000</td>\n",
       "      <td>154.000000</td>\n",
       "      <td>36.000000</td>\n",
       "    </tr>\n",
       "    <tr>\n",
       "      <th>50%</th>\n",
       "      <td>941.000000</td>\n",
       "      <td>196.000000</td>\n",
       "      <td>44.000000</td>\n",
       "    </tr>\n",
       "    <tr>\n",
       "      <th>75%</th>\n",
       "      <td>1396.000000</td>\n",
       "      <td>241.000000</td>\n",
       "      <td>61.000000</td>\n",
       "    </tr>\n",
       "    <tr>\n",
       "      <th>max</th>\n",
       "      <td>1796.000000</td>\n",
       "      <td>331.000000</td>\n",
       "      <td>113.000000</td>\n",
       "    </tr>\n",
       "  </tbody>\n",
       "</table>\n",
       "</div>"
      ],
      "text/plain": [
       "name       index_X     index_Y     index_Z\n",
       "count   217.000000  217.000000  217.000000\n",
       "mean    930.419355  197.211982   51.285714\n",
       "std     526.823758   58.895240   22.825656\n",
       "min      17.000000   57.000000   22.000000\n",
       "25%     486.000000  154.000000   36.000000\n",
       "50%     941.000000  196.000000   44.000000\n",
       "75%    1396.000000  241.000000   61.000000\n",
       "max    1796.000000  331.000000  113.000000"
      ]
     },
     "execution_count": 84,
     "metadata": {},
     "output_type": "execute_result"
    }
   ],
   "source": [
    "stats_CtBP2 = imaris.load_node_stats(fh, 'CtBP2', 'point')\n",
    "stats_CtBP2[['index_X', 'index_Y', 'index_Z']].describe()"
   ]
  },
  {
   "cell_type": "code",
   "execution_count": 110,
   "metadata": {
    "collapsed": false
   },
   "outputs": [
    {
     "name": "stdout",
     "output_type": "stream",
     "text": [
      "(160, 384, 1920)\n"
     ]
    }
   ],
   "source": [
    "node = fh.get_node('/DataSet/ResolutionLevel 0/TimePoint 0/Channel 1/Data')\n",
    "data_GluR2 = node.read()\n",
    "node = fh.get_node('/DataSet/ResolutionLevel 0/TimePoint 0/Channel 0/Data')\n",
    "data_CtBP2 = node.read()\n",
    "node = fh.get_node('/DataSet/ResolutionLevel 0/TimePoint 0/Channel 2/Data')\n",
    "data_MyosinVIIa = node.read()\n",
    "\n",
    "print(data_GluR2.shape)"
   ]
  },
  {
   "cell_type": "code",
   "execution_count": 111,
   "metadata": {
    "collapsed": false
   },
   "outputs": [
    {
     "data": {
      "image/png": "[encoded data removed]",
      "text/plain": [
       "<matplotlib.figure.Figure at 0x7f8866d46eb8>"
      ]
     },
     "metadata": {},
     "output_type": "display_data"
    }
   ],
   "source": [
    "i = stats_CtBP2['Volume'].argmax()\n",
    "point = stats_CtBP2.loc[5]\n",
    "xlb, ylb, zlb = point[['index_X', 'index_Y', 'index_Z']].astype('i')-15\n",
    "xub, yub, zub = point[['index_X', 'index_Y', 'index_Z']].astype('i')+15\n",
    "\n",
    "subset_GluR2 = data_GluR2[zlb:zub, ylb:yub, xlb:xub]  \n",
    "subset_CtBP2 = data_CtBP2[zlb:zub, ylb:yub, xlb:xub]  \n",
    "subset_MyosinVIIa = data_MyosinVIIa[zlb:zub, ylb:yub, xlb:xub]  \n",
    "\n",
    "f, axes = pl.subplots(3, 3)\n",
    "for i in range(3):\n",
    "    if i != 0:\n",
    "        extent = 0, 1, 0, 2\n",
    "    else:\n",
    "        extent = 0, 1, 0, 1\n",
    "    axes[0, i].imshow(subset_GluR2.max(axis=i), extent=extent, cmap='Greens')\n",
    "    axes[1, i].imshow(subset_CtBP2.max(axis=i), extent=extent, cmap='Reds')\n",
    "    axes[2, i].imshow(subset_MyosinVIIa.max(axis=i), extent=extent, cmap='Blues')\n",
    "    \n",
    "pl.tight_layout()"
   ]
  },
  {
   "cell_type": "code",
   "execution_count": null,
   "metadata": {
    "collapsed": true
   },
   "outputs": [],
   "source": []
  }
 ],
 "metadata": {
  "anaconda-cloud": {},
  "kernelspec": {
   "display_name": "Python 2",
   "language": "python",
   "name": "python2"
  },
  "language_info": {
   "codemirror_mode": {
    "name": "ipython",
    "version": 2
   },
   "file_extension": ".py",
   "mimetype": "text/x-python",
   "name": "python",
   "nbconvert_exporter": "python",
   "pygments_lexer": "ipython2",
   "version": "2.7.13"
  }
 },
 "nbformat": 4,
 "nbformat_minor": 2
}
