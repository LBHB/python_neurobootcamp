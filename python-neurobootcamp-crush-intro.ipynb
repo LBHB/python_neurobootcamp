{
 "cells": [
  {
   "cell_type": "markdown",
   "metadata": {},
   "source": [
    "# Welcome to the Python Neuro Bootcamp!!!\n",
    "\n",
    "![Python constrictin a brain](http://blog.pascallisch.net/wp-content/uploads/2013/09/python-for-pascal.jpg)\n",
    "\n",
    "__What is Python?__  \n",
    "Python is a widely used programming language for general-purpose programming, created by Guido van Rossum and first released in 1991. Python is an *interpreted language*, meaning that it uses a pre-compiled interpreter to read your program code and execute it, one step at a time (similarly to languages like Matlab and IgorPro).  \n",
    "Python emphasizes code readability and a syntax that allows programmers to express concepts in fewer lines of code than might be used in languages such as C++ or Java. \n",
    "Writing \"*Pythonian*\" code means writing clear, documented code that other people (and you in six months) will understand. \n",
    "\n",
    "The goal of this bootcamp is to introduce you to Python by working through some neuro data sets that we selected based on your interests. But before we jump into hands-on analysis, we will go quickly through some basic concepts of Python programming. \n",
    "\n",
    "\n",
    "__What are Python's main strengths and why did we choose it for this course?__ \n",
    "- It is FREE!\n",
    "- Python is becoming the de facto standard programming language in Neuroscience.\n",
    "- There is a lot of support and it is easy to find an answer to your questions just by googling it.\n",
    "- It is designed to be readable (if you write it to be!) \n",
    "\n",
    "__What is the Jupyter notebook and why are we using it for this course?__\n",
    "\n",
    "This is a Jupyter notebook, a space where you can combine text (this is Markdown) and code. It is an awesome educational tool! The best part is that you will be able to interact with anythnig that is written here, test out code, take notes, and make it your own.\n",
    "\n",
    "Jupyter notebook complete guide (https://jupyter.brynmawr.edu/services/public/dblank/Jupyter%20Notebook%20Users%20Manual.ipynb)\n",
    "\n",
    "__Where to get help:__\n",
    "* Python documentation (https://www.python.org/doc/)\n",
    "* Tutorial (https://docs.python.org/2/tutorial/index.html)\n",
    "* Library Reference (https://docs.python.org/2/library/index.html)\n",
    "* Scientific python stack documentation: numpy, scipy, matplotlib (https://scipy.org/docs.html)\n",
    "* Stack Overflow (https://stackoverflow.com/)\n",
    "\n",
    "MATLAB-to-Python cheat sheets:  \n",
    "* http://mathesaurus.sourceforge.net/matlab-numpy.html\n",
    "* http://mathesaurus.sourceforge.net/matlab-python-xref.pdf \n"
   ]
  },
  {
   "cell_type": "markdown",
   "metadata": {},
   "source": [
    "## Let's get you started!\n",
    "\n",
    "This notebook will go through some basic topics related to coding in Python:\n",
    "\n",
    "* Data types\n",
    "    * Strings\n",
    "    * Numbers\n",
    "    * Printing\n",
    "    * Lists\n",
    "    * Dictionaries\n",
    "    * Booleans\n",
    "    * Tuples\n",
    "    * Sets\n",
    "* Comparison Operators\n",
    "* if,elif, else Statements\n",
    "* for Loops\n",
    "* while Loops\n",
    "* range()\n",
    "* list comprehension\n",
    "* functions\n",
    "* lambda expressions\n",
    "* map and filter\n",
    "* methods\n",
    "\n"
   ]
  },
  {
   "cell_type": "markdown",
   "metadata": {},
   "source": [
    "## Strings"
   ]
  },
  {
   "cell_type": "code",
   "execution_count": 6,
   "metadata": {
    "collapsed": false
   },
   "outputs": [
    {
     "name": "stdout",
     "output_type": "stream",
     "text": [
      "Hello, Neuroscientsist!\n"
     ]
    }
   ],
   "source": [
    "# Python is an interpreted language.\n",
    "# It executes commands as it receives them.\n",
    "# It ignores lines that begin with '#'.  These are called 'comments'. \n",
    "# Comments are great, so write them as you go along. You think you will remember,\n",
    "# but you know you won't! :)\n",
    "\n",
    "from __future__ import print_function # you don't have to do this if you have Python 3 \n",
    "\n",
    "print(\"Hello, Neurocoders!\")"
   ]
  },
  {
   "cell_type": "markdown",
   "metadata": {},
   "source": [
    "In Python, a single piece of data is called an *object*, and each object has a specific type. These include simple types like integers, floats, and strings, and more complex types like lists, arrays, and dictionaries.\n",
    "\n",
    "In the example above, we created an object with the value \"hello, world\". If we want to know what type this object has, we can ask Python using the built-in *type* function: "
   ]
  },
  {
   "cell_type": "code",
   "execution_count": 8,
   "metadata": {
    "collapsed": false
   },
   "outputs": [
    {
     "data": {
      "text/plain": [
       "str"
      ]
     },
     "execution_count": 8,
     "metadata": {},
     "output_type": "execute_result"
    }
   ],
   "source": [
    "type(\"Hello, Neurocoders!\")"
   ]
  },
  {
   "cell_type": "markdown",
   "metadata": {},
   "source": [
    "Let's go over some basic and fun string manipulations."
   ]
  },
  {
   "cell_type": "code",
   "execution_count": 22,
   "metadata": {
    "collapsed": false
   },
   "outputs": [
    {
     "data": {
      "text/plain": [
       "19"
      ]
     },
     "execution_count": 22,
     "metadata": {},
     "output_type": "execute_result"
    }
   ],
   "source": [
    "# If you want to know how long your string is:\n",
    "len('Hello, Neurocoders!')\n",
    "\n",
    "# Please note that the count below includes spaces!"
   ]
  },
  {
   "cell_type": "markdown",
   "metadata": {},
   "source": [
    "Let's create a new object called *s* and the walk through a few examples of indexing."
   ]
  },
  {
   "cell_type": "code",
   "execution_count": 26,
   "metadata": {
    "collapsed": false
   },
   "outputs": [
    {
     "data": {
      "text/plain": [
       "'Hello, Neurocoders!'"
      ]
     },
     "execution_count": 26,
     "metadata": {},
     "output_type": "execute_result"
    }
   ],
   "source": [
    "# Assign s to a string\n",
    "s = 'Hello, Neurocoders!'\n",
    "\n",
    "# lets see if it works...\n",
    "s"
   ]
  },
  {
   "cell_type": "markdown",
   "metadata": {},
   "source": [
    "Conviniently, strings are sequences, which means Python can use indexes to call parts of the sequence. Let's learn how this works.\n",
    "\n",
    "Python uses brackets [ ] after an object to call its index. \n",
    "\n",
    "Indexing is something that we need to learn from day one! Doing it with strings is fun and easy. So, let's start indexing!"
   ]
  },
  {
   "cell_type": "code",
   "execution_count": 27,
   "metadata": {
    "collapsed": false
   },
   "outputs": [
    {
     "data": {
      "text/plain": [
       "'H'"
      ]
     },
     "execution_count": 27,
     "metadata": {},
     "output_type": "execute_result"
    }
   ],
   "source": [
    "# Show first element (in this case a letter)\n",
    "this_is_a_str[0]\n",
    "\n",
    "#try different indexes"
   ]
  },
  {
   "cell_type": "markdown",
   "metadata": {},
   "source": [
    "<font color='red'>IMPORTANT NOTE: in Python the first index is a __0__!!!</font>"
   ]
  },
  {
   "cell_type": "markdown",
   "metadata": {},
   "source": [
    "## Data types\n",
    "\n",
    "### Numbers"
   ]
  },
  {
   "cell_type": "code",
   "execution_count": null,
   "metadata": {
    "collapsed": true
   },
   "outputs": [],
   "source": []
  }
 ],
 "metadata": {
  "kernelspec": {
   "display_name": "Python 2",
   "language": "python",
   "name": "python2"
  },
  "language_info": {
   "codemirror_mode": {
    "name": "ipython",
    "version": 2
   },
   "file_extension": ".py",
   "mimetype": "text/x-python",
   "name": "python",
   "nbconvert_exporter": "python",
   "pygments_lexer": "ipython2",
   "version": "2.7.11"
  }
 },
 "nbformat": 4,
 "nbformat_minor": 2
}
