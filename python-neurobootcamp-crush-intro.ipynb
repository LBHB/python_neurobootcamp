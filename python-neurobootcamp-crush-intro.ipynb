{
 "cells": [
  {
   "cell_type": "markdown",
   "metadata": {},
   "source": [
    "# Welcome to the Python Neuro Bootcamp!!!\n",
    "\n",
    "<img src=\"http://blog.pascallisch.net/wp-content/uploads/2013/09/python-for-pascal.jpg\" width=\"200\" height=\"200\" />\n",
    "\n",
    "## __What is Python?__  \n",
    "Python is a widely used programming language for general-purpose programming, created by Guido van Rossum and first released in 1991. Python is an *interpreted language*, meaning that it uses a pre-compiled interpreter to read your program code and execute it, one step at a time (similarly to languages like Matlab and IgorPro).  \n",
    "Python emphasizes code readability and a syntax that allows programmers to express concepts in fewer lines of code than might be used in languages such as C++ or Java. \n",
    "Writing \"*Pythonian*\" code means writing clear, documented code that other people (and you in six months) will understand. \n",
    "\n",
    "The goal of this bootcamp is to introduce you to Python by working through some neuro data sets that we selected based on your interests. But before we jump into hands-on analysis, we will go quickly through some basic concepts of Python programming. \n",
    "\n",
    "\n",
    "## __What are Python's main strengths and why did we choose it for this course?__ \n",
    "- It is FREE!\n",
    "- Python is becoming the de facto standard programming language in Neuroscience.\n",
    "- There is a lot of support and it is easy to find an answer to your questions just by googling it.\n",
    "- It is designed to be readable (if you write it to be!) \n",
    "\n",
    "## __What is the Jupyter notebook and why are we using it for this course?__\n",
    "\n",
    "This is a Jupyter notebook, a space where you can combine text (this is Markdown) and code. It is an awesome educational tool! The best part is that you will be able to interact with anythnig that is written here, test out code, take notes, and make it your own.\n",
    "\n",
    "Jupyter notebook complete guide (https://jupyter.brynmawr.edu/services/public/dblank/Jupyter%20Notebook%20Users%20Manual.ipynb)\n",
    "\n",
    "## __Where to get help:__\n",
    "* Python documentation (https://www.python.org/doc/)\n",
    "* Tutorial (https://docs.python.org/2/tutorial/index.html)\n",
    "* Library Reference (https://docs.python.org/2/library/index.html)\n",
    "* Scientific python stack documentation: numpy, scipy, matplotlib (https://scipy.org/docs.html)\n",
    "* Stack Overflow (https://stackoverflow.com/)\n",
    "\n",
    "MATLAB-to-Python cheat sheets:  \n",
    "* http://mathesaurus.sourceforge.net/matlab-numpy.html\n",
    "* http://mathesaurus.sourceforge.net/matlab-python-xref.pdf \n"
   ]
  },
  {
   "cell_type": "markdown",
   "metadata": {},
   "source": [
    "## Remember...\n",
    "\n",
    "* Python is an interpreted language.\n",
    "* It executes commands as it receives them.\n",
    "* It ignores lines that begin with '#'.  These are called 'comments'. \n",
    "* Comments are great, so write them as you go along. You think you will remember, but you know you won't! :)"
   ]
  },
  {
   "cell_type": "markdown",
   "metadata": {},
   "source": [
    "## Outline\n",
    "\n",
    "This notebook will go through some basic topics related to coding in Python:\n",
    "\n",
    "* Data types\n",
    "    * Numbers\n",
    "    * Strings\n",
    "    * Printing\n",
    "    * Lists\n",
    "    * Dictionaries\n",
    "    * Booleans\n",
    "    * Tuples\n",
    "    * Sets\n",
    "* Comparison Operators\n",
    "* if,elif, else Statements\n",
    "* for Loops\n",
    "* while Loops\n",
    "* range()\n",
    "* list comprehension\n",
    "* functions\n",
    "* lambda expressions\n",
    "* map and filter\n",
    "* methods\n",
    "\n"
   ]
  },
  {
   "cell_type": "markdown",
   "metadata": {},
   "source": [
    "## Data types\n",
    "\n",
    "### Numbers\n",
    "Python has various \"types\" of numbers (numeric literals). We will mainly focus on **integers** and **floating point numbers**.\n",
    "\n",
    "You all know what integers are, but what about \"floating point numbers\"? Floating point numbers in Python are notable because they have a decimal point in them, or use an exponential (e) to define the number. \n",
    "\n",
    "For example 2.0 and -2.1 are examples of floating point numbers. 4E2 (4 times 10 to the power of 2) is also an example of a floating point number."
   ]
  },
  {
   "cell_type": "code",
   "execution_count": 11,
   "metadata": {
    "collapsed": false
   },
   "outputs": [
    {
     "data": {
      "text/plain": [
       "int"
      ]
     },
     "execution_count": 11,
     "metadata": {},
     "output_type": "execute_result"
    }
   ],
   "source": [
    "int_number = 56\n",
    "# ask Python what's the type of your new variable \"int_number\"\n",
    "type(int_number)\n"
   ]
  },
  {
   "cell_type": "markdown",
   "metadata": {},
   "source": [
    "Let's look at some easy basic arithmetic operations"
   ]
  },
  {
   "cell_type": "code",
   "execution_count": 12,
   "metadata": {
    "collapsed": false
   },
   "outputs": [
    {
     "name": "stdout",
     "output_type": "stream",
     "text": [
      "4 20.0 614.125 5 61812.5\n"
     ]
    }
   ],
   "source": [
    "a = 1 + 3           # addition / subtraction\n",
    "b = 10.0 * 4 / 2    # multiplication / division\n",
    "c = 8.5**3          # exponent\n",
    "d = 173 % 12        # modulo (this is super useful!)\n",
    "e = 1e2 * (c + a)   # scientific notation, parentheses\n",
    "print(a, b, c, d, e)"
   ]
  },
  {
   "cell_type": "markdown",
   "metadata": {},
   "source": [
    "Now try something as simple as 3/2, what happens?\n"
   ]
  },
  {
   "cell_type": "code",
   "execution_count": null,
   "metadata": {
    "collapsed": true
   },
   "outputs": [],
   "source": [
    "# try your division here"
   ]
  },
  {
   "cell_type": "markdown",
   "metadata": {},
   "source": [
    "### <font color='red'>Python 3 Alert!</font>\n",
    "\n",
    "**What did just happen?** \n",
    "\n",
    "The answer is nothing spectacular if you are using Python 3, but something unexpected if you are using Python 2. \n",
    "\n",
    "In Python 2, the / symbol performs what is known as \"*classic*\" division, this means that the decimal points are truncated (cut off). Python 3, however, is smarter and a single / performs \"*true*\" division.\n",
    "\n",
    "So what do we do if we are using Python 2 to avoid this?\n",
    "\n",
    "There are two options:\n",
    "\n",
    "You could specify one of the numbers to be a float:"
   ]
  },
  {
   "cell_type": "code",
   "execution_count": 14,
   "metadata": {
    "collapsed": false
   },
   "outputs": [
    {
     "data": {
      "text/plain": [
       "1.5"
      ]
     },
     "execution_count": 14,
     "metadata": {},
     "output_type": "execute_result"
    }
   ],
   "source": [
    "# Specifying one of the numbers as a float\n",
    "3.0/2"
   ]
  },
  {
   "cell_type": "code",
   "execution_count": null,
   "metadata": {
    "collapsed": true
   },
   "outputs": [],
   "source": [
    "# Works for either number\n",
    "3/2.0"
   ]
  },
  {
   "cell_type": "markdown",
   "metadata": {},
   "source": [
    "Or you can \"cast\" the type using a function that basically turns integers into floats. This function, unsurprisingly, is called float()."
   ]
  },
  {
   "cell_type": "markdown",
   "metadata": {},
   "source": [
    "Or we can do something even cooler which is travel to the future..."
   ]
  },
  {
   "cell_type": "code",
   "execution_count": null,
   "metadata": {
    "collapsed": true
   },
   "outputs": [],
   "source": [
    "from __future__ import division\n",
    "3/2"
   ]
  },
  {
   "cell_type": "markdown",
   "metadata": {},
   "source": [
    "## Strings\n",
    "\n",
    "Strings are used in Python to record text information, such as a name. Strings in Python are actually a sequence, which basically means Python keeps track of every element in the string as a sequence. "
   ]
  },
  {
   "cell_type": "code",
   "execution_count": 2,
   "metadata": {
    "collapsed": false
   },
   "outputs": [
    {
     "name": "stdout",
     "output_type": "stream",
     "text": [
      "Hello, Neurocoders!\n"
     ]
    }
   ],
   "source": [
    "from __future__ import print_function # you don't have to do this if you have Python 3 \n",
    "\n",
    "print(\"Hello, Neurocoders!\")"
   ]
  },
  {
   "cell_type": "markdown",
   "metadata": {},
   "source": [
    "In Python, a single piece of data is called an *object*, and each object has a specific type. These include simple types like integers, floats, and strings, and more complex types like lists, arrays, and dictionaries.\n",
    "\n",
    "In the example above, we created an object with the value \"hello, world\". If we want to know what type this object has, we can ask Python using the built-in *type* function: "
   ]
  },
  {
   "cell_type": "code",
   "execution_count": 3,
   "metadata": {
    "collapsed": false
   },
   "outputs": [
    {
     "data": {
      "text/plain": [
       "str"
      ]
     },
     "execution_count": 3,
     "metadata": {},
     "output_type": "execute_result"
    }
   ],
   "source": [
    "type(\"Hello, Neurocoders!\")"
   ]
  },
  {
   "cell_type": "markdown",
   "metadata": {},
   "source": [
    "Let's go over some basic and fun string manipulations."
   ]
  },
  {
   "cell_type": "code",
   "execution_count": 4,
   "metadata": {
    "collapsed": false
   },
   "outputs": [
    {
     "data": {
      "text/plain": [
       "19"
      ]
     },
     "execution_count": 4,
     "metadata": {},
     "output_type": "execute_result"
    }
   ],
   "source": [
    "# If you want to know how long your string is:\n",
    "len('Hello, Neurocoders!')\n",
    "\n",
    "# Please note that the count below includes spaces!"
   ]
  },
  {
   "cell_type": "markdown",
   "metadata": {},
   "source": [
    "Let's create a new object called *s* and the walk through a few examples of indexing."
   ]
  },
  {
   "cell_type": "code",
   "execution_count": 5,
   "metadata": {
    "collapsed": false
   },
   "outputs": [
    {
     "data": {
      "text/plain": [
       "'Hello, Neurocoders!'"
      ]
     },
     "execution_count": 5,
     "metadata": {},
     "output_type": "execute_result"
    }
   ],
   "source": [
    "# Assign s to a string\n",
    "s = 'Hello, Neurocoders!'\n",
    "\n",
    "# lets see if it works...\n",
    "s"
   ]
  },
  {
   "cell_type": "markdown",
   "metadata": {},
   "source": [
    "Conviniently, strings are sequences, which means Python can use indexes to call parts of the sequence. Let's learn how this works.\n",
    "\n",
    "Python uses brackets [ ] after an object to call its index. \n",
    "\n",
    "Indexing is something that we need to learn from day one! Doing it with strings is fun and easy. So, let's start indexing!"
   ]
  },
  {
   "cell_type": "code",
   "execution_count": 7,
   "metadata": {
    "collapsed": false
   },
   "outputs": [
    {
     "data": {
      "text/plain": [
       "'H'"
      ]
     },
     "execution_count": 7,
     "metadata": {},
     "output_type": "execute_result"
    }
   ],
   "source": [
    "# Show first element (in this case a letter)\n",
    "s[0]\n",
    "\n",
    "#try different indexes"
   ]
  },
  {
   "cell_type": "markdown",
   "metadata": {},
   "source": [
    "<font color='red'>IMPORTANT NOTE: in Python the first index is a __0__!!!</font>"
   ]
  },
  {
   "cell_type": "markdown",
   "metadata": {},
   "source": [
    "You can also do some basic arithmetic with strings, just as we did with numbers."
   ]
  }
 ],
 "metadata": {
  "kernelspec": {
   "display_name": "Python 2",
   "language": "python",
   "name": "python2"
  },
  "language_info": {
   "codemirror_mode": {
    "name": "ipython",
    "version": 2
   },
   "file_extension": ".py",
   "mimetype": "text/x-python",
   "name": "python",
   "nbconvert_exporter": "python",
   "pygments_lexer": "ipython2",
   "version": "2.7.11"
  }
 },
 "nbformat": 4,
 "nbformat_minor": 2
}
